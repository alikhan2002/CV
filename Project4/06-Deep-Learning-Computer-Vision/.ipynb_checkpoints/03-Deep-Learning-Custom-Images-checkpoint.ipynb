{
 "cells": [
  {
   "cell_type": "markdown",
   "metadata": {},
   "source": [
    "# Working with Custom Images\n",
    "\n",
    "So far everything we've worked with has been nicely formatted for us already by Keras.\n",
    "\n",
    "Let's explore what its like to work with a more realistic data set.\n",
    "\n",
    "## The Data\n",
    "\n",
    "-----------\n",
    "\n",
    "## PLEASE NOTE: THIS DATASET IS VERY LARGE. IT CAN BE DOWNLOADED FROM THE PREVIOUS LECTURE. PLEASE WATCH THE VIDEO LECTURE ON HOW TO GET THE DATA.\n",
    "\n",
    "## USE OUR VERSION OF THE DATA. WE ALREADY ORGANIZED IT FOR YOU!!\n",
    "\n",
    "--------\n",
    "----------\n",
    "--------\n",
    "\n",
    "ORIGINAL DATA SOURCE:\n",
    "\n",
    "https://www.microsoft.com/en-us/download/confirmation.aspx?id=54765\n",
    "\n",
    "-----------\n",
    "\n",
    "The Kaggle Competition: [Cats and Dogs](https://www.kaggle.com/c/dogs-vs-cats-redux-kernels-edition) includes 25,000 images of cats and dogs. We will be building a classifier that works with these images and attempt to detect dogs versus cats!\n",
    "\n",
    "The pictures are numbered 0-12499 for both cats and dogs, thus we have 12,500 images of Dogs and 12,500 images of Cats. This is a huge dataset!!\n",
    "\n",
    "--------\n",
    "----------\n",
    "------------\n",
    "\n",
    "\n",
    "**Note: We will be dealing with real image files, NOT numpy arrays. Which means a large part of this process will be learning how to work with and deal with large groups of image files. This is too much data to fit in memory as a numpy array, so we'll need to feed it into our model in batches. **\n",
    "\n",
    "### Visualizing the Data\n",
    "\n",
    "\n",
    "-------\n",
    "Let's take a closer look at the data."
   ]
  },
  {
   "cell_type": "code",
   "execution_count": 1,
   "metadata": {},
   "outputs": [],
   "source": [
    "import matplotlib.pyplot as plt\n",
    "import cv2\n",
    "# Technically not necessary in newest versions of jupyter\n",
    "%matplotlib inline"
   ]
  },
  {
   "cell_type": "code",
   "execution_count": 2,
   "metadata": {},
   "outputs": [
    {
     "ename": "error",
     "evalue": "OpenCV(3.4.2) /opt/concourse/worker/volumes/live/9523d527-1b9e-48e0-7ed0-a36adde286f0/volume/opencv-suite_1535558719691/work/modules/imgproc/src/color.hpp:253: error: (-215:Assertion failed) VScn::contains(scn) && VDcn::contains(dcn) && VDepth::contains(depth) in function 'CvtHelper'\n",
     "output_type": "error",
     "traceback": [
      "\u001b[0;31m---------------------------------------------------------------------------\u001b[0m",
      "\u001b[0;31merror\u001b[0m                                     Traceback (most recent call last)",
      "\u001b[0;32m<ipython-input-2-25fdd4d73156>\u001b[0m in \u001b[0;36m<module>\u001b[0;34m\u001b[0m\n\u001b[1;32m      1\u001b[0m \u001b[0mcat4\u001b[0m \u001b[0;34m=\u001b[0m \u001b[0mcv2\u001b[0m\u001b[0;34m.\u001b[0m\u001b[0mimread\u001b[0m\u001b[0;34m(\u001b[0m\u001b[0;34m'../DATA/CATS_DOGS/train/CAT/4.jpg'\u001b[0m\u001b[0;34m)\u001b[0m\u001b[0;34m\u001b[0m\u001b[0m\n\u001b[0;32m----> 2\u001b[0;31m \u001b[0mcat4\u001b[0m \u001b[0;34m=\u001b[0m \u001b[0mcv2\u001b[0m\u001b[0;34m.\u001b[0m\u001b[0mcvtColor\u001b[0m\u001b[0;34m(\u001b[0m\u001b[0mcat4\u001b[0m\u001b[0;34m,\u001b[0m\u001b[0mcv2\u001b[0m\u001b[0;34m.\u001b[0m\u001b[0mCOLOR_BGR2RGB\u001b[0m\u001b[0;34m)\u001b[0m\u001b[0;34m\u001b[0m\u001b[0m\n\u001b[0m",
      "\u001b[0;31merror\u001b[0m: OpenCV(3.4.2) /opt/concourse/worker/volumes/live/9523d527-1b9e-48e0-7ed0-a36adde286f0/volume/opencv-suite_1535558719691/work/modules/imgproc/src/color.hpp:253: error: (-215:Assertion failed) VScn::contains(scn) && VDcn::contains(dcn) && VDepth::contains(depth) in function 'CvtHelper'\n"
     ]
    }
   ],
   "source": [
    "cat4 = cv2.imread('../DATA/CATS_DOGS/train/CAT/4.jpg')\n",
    "cat4 = cv2.cvtColor(cat4,cv2.COLOR_BGR2RGB)"
   ]
  },
  {
   "cell_type": "code",
   "execution_count": null,
   "metadata": {},
   "outputs": [],
   "source": [
    "type(cat4)"
   ]
  },
  {
   "cell_type": "code",
   "execution_count": null,
   "metadata": {},
   "outputs": [],
   "source": [
    "cat4.shape"
   ]
  },
  {
   "cell_type": "code",
   "execution_count": null,
   "metadata": {},
   "outputs": [],
   "source": [
    "plt.imshow(cat4)"
   ]
  },
  {
   "cell_type": "code",
   "execution_count": null,
   "metadata": {},
   "outputs": [],
   "source": [
    "dog2 = cv2.imread('../DATA/CATS_DOGS/train/Dog/2.jpg')\n",
    "dog2 = cv2.cvtColor(dog2,cv2.COLOR_BGR2RGB)"
   ]
  },
  {
   "cell_type": "code",
   "execution_count": null,
   "metadata": {},
   "outputs": [],
   "source": [
    "dog2.shape"
   ]
  },
  {
   "cell_type": "code",
   "execution_count": null,
   "metadata": {},
   "outputs": [],
   "source": [
    "plt.imshow(dog2)"
   ]
  },
  {
   "cell_type": "markdown",
   "metadata": {},
   "source": [
    "## Preparing the Data for the model\n",
    "\n",
    "There is too much data for us to read all at once in memory. We can use some built in functions in Keras to automatically process the data, generate a flow of batches from a directory, and also manipulate the images.\n",
    "\n",
    "### Image Manipulation\n",
    "\n",
    "Its usually a good idea to manipulate the images with rotation, resizing, and scaling so the model becomes more robust to different images that our data set doesn't have. We can use the **ImageDataGenerator** to do this automatically for us. Check out the documentation for a full list of all the parameters you can use here!"
   ]
  },
  {
   "cell_type": "code",
   "execution_count": 3,
   "metadata": {},
   "outputs": [
    {
     "name": "stderr",
     "output_type": "stream",
     "text": [
      "Using Theano backend.\n",
      "/Users/kuanyshabeshev/opt/anaconda3/envs/python-cvcourse/lib/python3.6/site-packages/theano/configdefaults.py:560: UserWarning: DeprecationWarning: there is no c++ compiler.This is deprecated and with Theano 0.11 a c++ compiler will be mandatory\n",
      "  warnings.warn(\"DeprecationWarning: there is no c++ compiler.\"\n",
      "WARNING (theano.configdefaults): g++ not detected ! Theano will be unable to execute optimized C-implementations (for both CPU and GPU) and will default to Python implementations. Performance will be severely degraded. To remove this warning, set Theano flags cxx to an empty string.\n",
      "WARNING (theano.configdefaults): install mkl with `conda install mkl-service`: No module named 'mkl'\n",
      "WARNING (theano.tensor.blas): Using NumPy C-API based implementation for BLAS functions.\n"
     ]
    }
   ],
   "source": [
    "from keras.preprocessing.image import ImageDataGenerator"
   ]
  },
  {
   "cell_type": "code",
   "execution_count": 4,
   "metadata": {},
   "outputs": [],
   "source": [
    "image_gen = ImageDataGenerator(rotation_range=30, # rotate the image 30 degrees\n",
    "                               width_shift_range=0.1, # Shift the pic width by a max of 10%\n",
    "                               height_shift_range=0.1, # Shift the pic height by a max of 10%\n",
    "                               rescale=1/255, # Rescale the image by normalzing it.\n",
    "                               shear_range=0.2, # Shear means cutting away part of the image (max 20%)\n",
    "                               zoom_range=0.2, # Zoom in by 20% max\n",
    "                               horizontal_flip=True, # Allo horizontal flipping\n",
    "                               fill_mode='nearest' # Fill in missing pixels with the nearest filled value\n",
    "                              )"
   ]
  },
  {
   "cell_type": "code",
   "execution_count": 5,
   "metadata": {},
   "outputs": [
    {
     "ename": "NameError",
     "evalue": "name 'dog2' is not defined",
     "output_type": "error",
     "traceback": [
      "\u001b[0;31m---------------------------------------------------------------------------\u001b[0m",
      "\u001b[0;31mNameError\u001b[0m                                 Traceback (most recent call last)",
      "\u001b[0;32m<ipython-input-5-6a3bbd03938a>\u001b[0m in \u001b[0;36m<module>\u001b[0;34m\u001b[0m\n\u001b[0;32m----> 1\u001b[0;31m \u001b[0mplt\u001b[0m\u001b[0;34m.\u001b[0m\u001b[0mimshow\u001b[0m\u001b[0;34m(\u001b[0m\u001b[0mimage_gen\u001b[0m\u001b[0;34m.\u001b[0m\u001b[0mrandom_transform\u001b[0m\u001b[0;34m(\u001b[0m\u001b[0mdog2\u001b[0m\u001b[0;34m)\u001b[0m\u001b[0;34m)\u001b[0m\u001b[0;34m\u001b[0m\u001b[0m\n\u001b[0m",
      "\u001b[0;31mNameError\u001b[0m: name 'dog2' is not defined"
     ]
    }
   ],
   "source": [
    "plt.imshow(image_gen.random_transform(dog2))"
   ]
  },
  {
   "cell_type": "code",
   "execution_count": 6,
   "metadata": {},
   "outputs": [
    {
     "ename": "NameError",
     "evalue": "name 'dog2' is not defined",
     "output_type": "error",
     "traceback": [
      "\u001b[0;31m---------------------------------------------------------------------------\u001b[0m",
      "\u001b[0;31mNameError\u001b[0m                                 Traceback (most recent call last)",
      "\u001b[0;32m<ipython-input-6-6a3bbd03938a>\u001b[0m in \u001b[0;36m<module>\u001b[0;34m\u001b[0m\n\u001b[0;32m----> 1\u001b[0;31m \u001b[0mplt\u001b[0m\u001b[0;34m.\u001b[0m\u001b[0mimshow\u001b[0m\u001b[0;34m(\u001b[0m\u001b[0mimage_gen\u001b[0m\u001b[0;34m.\u001b[0m\u001b[0mrandom_transform\u001b[0m\u001b[0;34m(\u001b[0m\u001b[0mdog2\u001b[0m\u001b[0;34m)\u001b[0m\u001b[0;34m)\u001b[0m\u001b[0;34m\u001b[0m\u001b[0m\n\u001b[0m",
      "\u001b[0;31mNameError\u001b[0m: name 'dog2' is not defined"
     ]
    }
   ],
   "source": [
    "plt.imshow(image_gen.random_transform(dog2))"
   ]
  },
  {
   "cell_type": "code",
   "execution_count": 7,
   "metadata": {},
   "outputs": [
    {
     "ename": "NameError",
     "evalue": "name 'dog2' is not defined",
     "output_type": "error",
     "traceback": [
      "\u001b[0;31m---------------------------------------------------------------------------\u001b[0m",
      "\u001b[0;31mNameError\u001b[0m                                 Traceback (most recent call last)",
      "\u001b[0;32m<ipython-input-7-6a3bbd03938a>\u001b[0m in \u001b[0;36m<module>\u001b[0;34m\u001b[0m\n\u001b[0;32m----> 1\u001b[0;31m \u001b[0mplt\u001b[0m\u001b[0;34m.\u001b[0m\u001b[0mimshow\u001b[0m\u001b[0;34m(\u001b[0m\u001b[0mimage_gen\u001b[0m\u001b[0;34m.\u001b[0m\u001b[0mrandom_transform\u001b[0m\u001b[0;34m(\u001b[0m\u001b[0mdog2\u001b[0m\u001b[0;34m)\u001b[0m\u001b[0;34m)\u001b[0m\u001b[0;34m\u001b[0m\u001b[0m\n\u001b[0m",
      "\u001b[0;31mNameError\u001b[0m: name 'dog2' is not defined"
     ]
    }
   ],
   "source": [
    "plt.imshow(image_gen.random_transform(dog2))"
   ]
  },
  {
   "cell_type": "markdown",
   "metadata": {},
   "source": [
    "### Generating many manipulated images from a directory\n",
    "\n",
    "\n",
    "In order to use .flow_from_directory, you must organize the images in sub-directories. This is an absolute requirement, otherwise the method won't work. The directories should only contain images of one class, so one folder per class of images.\n",
    "\n",
    "Structure Needed:\n",
    "\n",
    "* Image Data Folder\n",
    "    * Class 1\n",
    "        * 0.jpg\n",
    "        * 1.jpg\n",
    "        * ...\n",
    "    * Class 2\n",
    "        * 0.jpg\n",
    "        * 1.jpg\n",
    "        * ...\n",
    "    * ...\n",
    "    * Class n"
   ]
  },
  {
   "cell_type": "code",
   "execution_count": 14,
   "metadata": {},
   "outputs": [
    {
     "name": "stdout",
     "output_type": "stream",
     "text": [
      "Found 18743 images belonging to 2 classes.\n"
     ]
    },
    {
     "data": {
      "text/plain": [
       "<keras_preprocessing.image.DirectoryIterator at 0x15e9b9095c0>"
      ]
     },
     "execution_count": 14,
     "metadata": {},
     "output_type": "execute_result"
    }
   ],
   "source": [
    "image_gen.flow_from_directory('../DATA/CATS_DOGS/train')"
   ]
  },
  {
   "cell_type": "code",
   "execution_count": 15,
   "metadata": {},
   "outputs": [
    {
     "name": "stdout",
     "output_type": "stream",
     "text": [
      "Found 6251 images belonging to 2 classes.\n"
     ]
    },
    {
     "data": {
      "text/plain": [
       "<keras_preprocessing.image.DirectoryIterator at 0x15e9b9e7048>"
      ]
     },
     "execution_count": 15,
     "metadata": {},
     "output_type": "execute_result"
    }
   ],
   "source": [
    "image_gen.flow_from_directory('../DATA/CATS_DOGS/test')"
   ]
  },
  {
   "cell_type": "markdown",
   "metadata": {},
   "source": [
    "### Resizing Images\n",
    "\n",
    "Let's have Keras resize all the images to 150 pixels by 150 pixels once they've been manipulated."
   ]
  },
  {
   "cell_type": "code",
   "execution_count": 16,
   "metadata": {},
   "outputs": [],
   "source": [
    "# width,height,channels\n",
    "image_shape = (150,150,3)"
   ]
  },
  {
   "cell_type": "markdown",
   "metadata": {},
   "source": [
    "# Creating the Model"
   ]
  },
  {
   "cell_type": "code",
   "execution_count": 17,
   "metadata": {},
   "outputs": [],
   "source": [
    "from keras.models import Sequential\n",
    "from keras.layers import Activation, Dropout, Flatten, Dense, Conv2D, MaxPooling2D"
   ]
  },
  {
   "cell_type": "code",
   "execution_count": 18,
   "metadata": {},
   "outputs": [],
   "source": [
    "model = Sequential()\n",
    "\n",
    "model.add(Conv2D(filters=32, kernel_size=(3,3),input_shape=(150,150,3), activation='relu',))\n",
    "model.add(MaxPooling2D(pool_size=(2, 2)))\n",
    "\n",
    "model.add(Conv2D(filters=64, kernel_size=(3,3),input_shape=(150,150,3), activation='relu',))\n",
    "model.add(MaxPooling2D(pool_size=(2, 2)))\n",
    "\n",
    "model.add(Conv2D(filters=64, kernel_size=(3,3),input_shape=(150,150,3), activation='relu',))\n",
    "model.add(MaxPooling2D(pool_size=(2, 2)))\n",
    "\n",
    "\n",
    "model.add(Flatten())\n",
    "\n",
    "\n",
    "model.add(Dense(128))\n",
    "model.add(Activation('relu'))\n",
    "\n",
    "# Dropouts help reduce overfitting by randomly turning neurons off during training.\n",
    "# Here we say randomly turn off 50% of neurons.\n",
    "model.add(Dropout(0.5))\n",
    "\n",
    "# Last layer, remember its binary, 0=cat , 1=dog\n",
    "model.add(Dense(1))\n",
    "model.add(Activation('sigmoid'))\n",
    "\n",
    "model.compile(loss='binary_crossentropy',\n",
    "              optimizer='adam',\n",
    "              metrics=['accuracy'])"
   ]
  },
  {
   "cell_type": "code",
   "execution_count": 19,
   "metadata": {},
   "outputs": [
    {
     "name": "stdout",
     "output_type": "stream",
     "text": [
      "_________________________________________________________________\n",
      "Layer (type)                 Output Shape              Param #   \n",
      "=================================================================\n",
      "conv2d_1 (Conv2D)            (None, 148, 148, 32)      896       \n",
      "_________________________________________________________________\n",
      "max_pooling2d_1 (MaxPooling2 (None, 74, 74, 32)        0         \n",
      "_________________________________________________________________\n",
      "conv2d_2 (Conv2D)            (None, 72, 72, 64)        18496     \n",
      "_________________________________________________________________\n",
      "max_pooling2d_2 (MaxPooling2 (None, 36, 36, 64)        0         \n",
      "_________________________________________________________________\n",
      "conv2d_3 (Conv2D)            (None, 34, 34, 64)        36928     \n",
      "_________________________________________________________________\n",
      "max_pooling2d_3 (MaxPooling2 (None, 17, 17, 64)        0         \n",
      "_________________________________________________________________\n",
      "flatten_1 (Flatten)          (None, 18496)             0         \n",
      "_________________________________________________________________\n",
      "dense_1 (Dense)              (None, 128)               2367616   \n",
      "_________________________________________________________________\n",
      "activation_1 (Activation)    (None, 128)               0         \n",
      "_________________________________________________________________\n",
      "dropout_1 (Dropout)          (None, 128)               0         \n",
      "_________________________________________________________________\n",
      "dense_2 (Dense)              (None, 1)                 129       \n",
      "_________________________________________________________________\n",
      "activation_2 (Activation)    (None, 1)                 0         \n",
      "=================================================================\n",
      "Total params: 2,424,065\n",
      "Trainable params: 2,424,065\n",
      "Non-trainable params: 0\n",
      "_________________________________________________________________\n"
     ]
    }
   ],
   "source": [
    "model.summary()"
   ]
  },
  {
   "cell_type": "markdown",
   "metadata": {},
   "source": [
    "### Training the Model"
   ]
  },
  {
   "cell_type": "code",
   "execution_count": 20,
   "metadata": {},
   "outputs": [
    {
     "name": "stdout",
     "output_type": "stream",
     "text": [
      "Found 18743 images belonging to 2 classes.\n"
     ]
    }
   ],
   "source": [
    "batch_size = 16\n",
    "\n",
    "train_image_gen = image_gen.flow_from_directory('../DATA/CATS_DOGS/train',\n",
    "                                               target_size=image_shape[:2],\n",
    "                                               batch_size=batch_size,\n",
    "                                               class_mode='binary')"
   ]
  },
  {
   "cell_type": "code",
   "execution_count": 21,
   "metadata": {},
   "outputs": [
    {
     "name": "stdout",
     "output_type": "stream",
     "text": [
      "Found 6251 images belonging to 2 classes.\n"
     ]
    }
   ],
   "source": [
    "test_image_gen = image_gen.flow_from_directory('../DATA/CATS_DOGS/test',\n",
    "                                               target_size=image_shape[:2],\n",
    "                                               batch_size=batch_size,\n",
    "                                               class_mode='binary')"
   ]
  },
  {
   "cell_type": "code",
   "execution_count": 22,
   "metadata": {},
   "outputs": [
    {
     "data": {
      "text/plain": [
       "{'CAT': 0, 'DOG': 1}"
      ]
     },
     "execution_count": 22,
     "metadata": {},
     "output_type": "execute_result"
    }
   ],
   "source": [
    "train_image_gen.class_indices"
   ]
  },
  {
   "cell_type": "code",
   "execution_count": 23,
   "metadata": {},
   "outputs": [],
   "source": [
    "import warnings\n",
    "warnings.filterwarnings('ignore')"
   ]
  },
  {
   "cell_type": "code",
   "execution_count": 24,
   "metadata": {
    "scrolled": true
   },
   "outputs": [
    {
     "name": "stdout",
     "output_type": "stream",
     "text": [
      "Epoch 1/100\n",
      "150/150 [==============================] - 75s 499ms/step - loss: 0.6992 - acc: 0.4967 - val_loss: 0.6930 - val_acc: 0.5002\n",
      "Epoch 2/100\n",
      "150/150 [==============================] - 53s 354ms/step - loss: 0.6912 - acc: 0.5272 - val_loss: 0.6734 - val_acc: 0.5354\n",
      "Epoch 3/100\n",
      "150/150 [==============================] - 54s 361ms/step - loss: 0.6820 - acc: 0.5479 - val_loss: 0.6787 - val_acc: 0.5821\n",
      "Epoch 4/100\n",
      "150/150 [==============================] - 54s 359ms/step - loss: 0.6728 - acc: 0.5875 - val_loss: 0.6579 - val_acc: 0.5937\n",
      "Epoch 5/100\n",
      "150/150 [==============================] - 54s 357ms/step - loss: 0.6781 - acc: 0.5500 - val_loss: 0.6864 - val_acc: 0.5324\n",
      "Epoch 6/100\n",
      "150/150 [==============================] - 53s 350ms/step - loss: 0.6716 - acc: 0.5704 - val_loss: 0.6364 - val_acc: 0.6170\n",
      "Epoch 7/100\n",
      "150/150 [==============================] - 52s 347ms/step - loss: 0.6632 - acc: 0.6221 - val_loss: 0.6631 - val_acc: 0.5498\n",
      "Epoch 8/100\n",
      "150/150 [==============================] - 53s 352ms/step - loss: 0.6497 - acc: 0.6058 - val_loss: 0.6321 - val_acc: 0.6290\n",
      "Epoch 9/100\n",
      "150/150 [==============================] - 46s 306ms/step - loss: 0.6554 - acc: 0.6029 - val_loss: 0.6051 - val_acc: 0.6687\n",
      "Epoch 10/100\n",
      "150/150 [==============================] - 43s 285ms/step - loss: 0.6296 - acc: 0.6333 - val_loss: 0.6284 - val_acc: 0.6596\n",
      "Epoch 11/100\n",
      "150/150 [==============================] - 44s 296ms/step - loss: 0.6357 - acc: 0.6354 - val_loss: 0.6576 - val_acc: 0.6290\n",
      "Epoch 12/100\n",
      "150/150 [==============================] - 44s 293ms/step - loss: 0.6074 - acc: 0.6617 - val_loss: 0.6166 - val_acc: 0.6562\n",
      "Epoch 13/100\n",
      "150/150 [==============================] - 44s 293ms/step - loss: 0.6151 - acc: 0.6592 - val_loss: 0.5912 - val_acc: 0.6751\n",
      "Epoch 14/100\n",
      "150/150 [==============================] - 44s 291ms/step - loss: 0.6159 - acc: 0.6595 - val_loss: 0.6257 - val_acc: 0.6794\n",
      "Epoch 15/100\n",
      "150/150 [==============================] - 44s 295ms/step - loss: 0.6151 - acc: 0.6700 - val_loss: 0.6164 - val_acc: 0.6530\n",
      "Epoch 16/100\n",
      "150/150 [==============================] - 44s 295ms/step - loss: 0.6079 - acc: 0.6650 - val_loss: 0.5767 - val_acc: 0.6988\n",
      "Epoch 17/100\n",
      "150/150 [==============================] - 42s 279ms/step - loss: 0.5829 - acc: 0.6933 - val_loss: 0.5730 - val_acc: 0.6983\n",
      "Epoch 18/100\n",
      "150/150 [==============================] - 42s 282ms/step - loss: 0.5916 - acc: 0.6802 - val_loss: 0.5865 - val_acc: 0.6844\n",
      "Epoch 19/100\n",
      "150/150 [==============================] - 41s 270ms/step - loss: 0.5920 - acc: 0.6779 - val_loss: 0.5938 - val_acc: 0.6860\n",
      "Epoch 20/100\n",
      "150/150 [==============================] - 41s 276ms/step - loss: 0.5660 - acc: 0.7021 - val_loss: 0.5418 - val_acc: 0.7194\n",
      "Epoch 21/100\n",
      "150/150 [==============================] - 41s 274ms/step - loss: 0.5828 - acc: 0.6917 - val_loss: 0.5557 - val_acc: 0.7143\n",
      "Epoch 22/100\n",
      "150/150 [==============================] - 41s 271ms/step - loss: 0.5813 - acc: 0.6904 - val_loss: 0.5456 - val_acc: 0.7156\n",
      "Epoch 23/100\n",
      "150/150 [==============================] - 40s 268ms/step - loss: 0.5785 - acc: 0.7017 - val_loss: 0.5415 - val_acc: 0.7309\n",
      "Epoch 24/100\n",
      "150/150 [==============================] - 41s 272ms/step - loss: 0.5399 - acc: 0.7254 - val_loss: 0.5219 - val_acc: 0.7448\n",
      "Epoch 25/100\n",
      "150/150 [==============================] - 40s 268ms/step - loss: 0.5581 - acc: 0.7212 - val_loss: 0.5115 - val_acc: 0.7407\n",
      "Epoch 26/100\n",
      "150/150 [==============================] - 41s 273ms/step - loss: 0.5614 - acc: 0.7075 - val_loss: 0.5712 - val_acc: 0.7005\n",
      "Epoch 27/100\n",
      "150/150 [==============================] - 43s 288ms/step - loss: 0.5324 - acc: 0.7450 - val_loss: 0.5261 - val_acc: 0.7418\n",
      "Epoch 28/100\n",
      "150/150 [==============================] - 43s 289ms/step - loss: 0.5661 - acc: 0.7029 - val_loss: 0.5322 - val_acc: 0.7383\n",
      "Epoch 29/100\n",
      "150/150 [==============================] - 43s 283ms/step - loss: 0.5320 - acc: 0.7329 - val_loss: 0.5003 - val_acc: 0.7589\n",
      "Epoch 30/100\n",
      "150/150 [==============================] - 44s 291ms/step - loss: 0.5396 - acc: 0.7163 - val_loss: 0.5002 - val_acc: 0.7533\n",
      "Epoch 31/100\n",
      "150/150 [==============================] - 45s 298ms/step - loss: 0.5503 - acc: 0.7354 - val_loss: 0.5026 - val_acc: 0.7540\n",
      "Epoch 32/100\n",
      "150/150 [==============================] - 42s 281ms/step - loss: 0.5118 - acc: 0.7529 - val_loss: 0.5139 - val_acc: 0.7452\n",
      "Epoch 33/100\n",
      "150/150 [==============================] - 43s 288ms/step - loss: 0.5234 - acc: 0.7383 - val_loss: 0.5032 - val_acc: 0.7532\n",
      "Epoch 34/100\n",
      "150/150 [==============================] - 40s 268ms/step - loss: 0.5143 - acc: 0.7483 - val_loss: 0.4953 - val_acc: 0.7586\n",
      "Epoch 35/100\n",
      "150/150 [==============================] - 40s 267ms/step - loss: 0.5204 - acc: 0.7421 - val_loss: 0.4924 - val_acc: 0.7528\n",
      "Epoch 36/100\n",
      "150/150 [==============================] - 40s 268ms/step - loss: 0.5395 - acc: 0.7262 - val_loss: 0.4933 - val_acc: 0.7573\n",
      "Epoch 37/100\n",
      "150/150 [==============================] - 40s 268ms/step - loss: 0.5138 - acc: 0.7454 - val_loss: 0.4732 - val_acc: 0.7778\n",
      "Epoch 38/100\n",
      "150/150 [==============================] - 40s 268ms/step - loss: 0.5102 - acc: 0.7529 - val_loss: 0.4892 - val_acc: 0.7573\n",
      "Epoch 39/100\n",
      "150/150 [==============================] - 40s 267ms/step - loss: 0.4887 - acc: 0.7595 - val_loss: 0.4720 - val_acc: 0.7748\n",
      "Epoch 40/100\n",
      "150/150 [==============================] - 40s 269ms/step - loss: 0.4813 - acc: 0.7713 - val_loss: 0.4918 - val_acc: 0.7613\n",
      "Epoch 41/100\n",
      "150/150 [==============================] - 40s 267ms/step - loss: 0.4975 - acc: 0.7567 - val_loss: 0.4787 - val_acc: 0.7717\n",
      "Epoch 42/100\n",
      "150/150 [==============================] - 40s 267ms/step - loss: 0.5057 - acc: 0.7458 - val_loss: 0.4649 - val_acc: 0.7776\n",
      "Epoch 43/100\n",
      "150/150 [==============================] - 40s 267ms/step - loss: 0.5008 - acc: 0.7571 - val_loss: 0.4675 - val_acc: 0.7727\n",
      "Epoch 44/100\n",
      "150/150 [==============================] - 40s 267ms/step - loss: 0.4856 - acc: 0.7579 - val_loss: 0.4909 - val_acc: 0.7655\n",
      "Epoch 45/100\n",
      "150/150 [==============================] - 40s 268ms/step - loss: 0.5097 - acc: 0.7521 - val_loss: 0.4690 - val_acc: 0.7756\n",
      "Epoch 46/100\n",
      "150/150 [==============================] - 40s 267ms/step - loss: 0.4888 - acc: 0.7629 - val_loss: 0.4651 - val_acc: 0.7776\n",
      "Epoch 47/100\n",
      "150/150 [==============================] - 40s 268ms/step - loss: 0.4847 - acc: 0.7671 - val_loss: 0.4682 - val_acc: 0.7789\n",
      "Epoch 48/100\n",
      "150/150 [==============================] - 40s 267ms/step - loss: 0.4676 - acc: 0.7700 - val_loss: 0.4561 - val_acc: 0.7853\n",
      "Epoch 49/100\n",
      "150/150 [==============================] - 40s 268ms/step - loss: 0.4593 - acc: 0.7875 - val_loss: 0.4430 - val_acc: 0.8005\n",
      "Epoch 50/100\n",
      "150/150 [==============================] - 40s 267ms/step - loss: 0.4700 - acc: 0.7846 - val_loss: 0.4363 - val_acc: 0.8032\n",
      "Epoch 51/100\n",
      "150/150 [==============================] - 40s 268ms/step - loss: 0.4438 - acc: 0.8000 - val_loss: 0.5233 - val_acc: 0.7565\n",
      "Epoch 52/100\n",
      "150/150 [==============================] - 40s 268ms/step - loss: 0.4864 - acc: 0.7696 - val_loss: 0.4690 - val_acc: 0.7866\n",
      "Epoch 53/100\n",
      "150/150 [==============================] - 40s 267ms/step - loss: 0.4572 - acc: 0.7829 - val_loss: 0.4565 - val_acc: 0.7840\n",
      "Epoch 54/100\n",
      "150/150 [==============================] - 40s 267ms/step - loss: 0.4876 - acc: 0.7754 - val_loss: 0.4343 - val_acc: 0.8012\n",
      "Epoch 55/100\n",
      "150/150 [==============================] - 40s 268ms/step - loss: 0.4651 - acc: 0.7863 - val_loss: 0.4340 - val_acc: 0.8034\n",
      "Epoch 56/100\n",
      "150/150 [==============================] - 40s 267ms/step - loss: 0.4407 - acc: 0.7925 - val_loss: 0.4405 - val_acc: 0.7967\n",
      "Epoch 57/100\n",
      "150/150 [==============================] - 40s 267ms/step - loss: 0.4585 - acc: 0.7883 - val_loss: 0.4452 - val_acc: 0.7901\n",
      "Epoch 58/100\n",
      "150/150 [==============================] - 40s 267ms/step - loss: 0.4753 - acc: 0.7712 - val_loss: 0.4455 - val_acc: 0.7920\n",
      "Epoch 59/100\n",
      "150/150 [==============================] - 40s 267ms/step - loss: 0.4667 - acc: 0.7851 - val_loss: 0.4229 - val_acc: 0.8111\n",
      "Epoch 60/100\n",
      "150/150 [==============================] - 40s 268ms/step - loss: 0.4395 - acc: 0.7913 - val_loss: 0.4277 - val_acc: 0.8112\n",
      "Epoch 61/100\n",
      "150/150 [==============================] - 40s 266ms/step - loss: 0.4522 - acc: 0.7887 - val_loss: 0.4725 - val_acc: 0.7720\n",
      "Epoch 62/100\n",
      "150/150 [==============================] - 40s 267ms/step - loss: 0.4444 - acc: 0.8000 - val_loss: 0.4361 - val_acc: 0.7970\n",
      "Epoch 63/100\n",
      "150/150 [==============================] - 40s 266ms/step - loss: 0.4585 - acc: 0.7867 - val_loss: 0.4214 - val_acc: 0.8088\n",
      "Epoch 64/100\n",
      "150/150 [==============================] - 40s 266ms/step - loss: 0.4341 - acc: 0.7925 - val_loss: 0.4292 - val_acc: 0.8084\n",
      "Epoch 65/100\n",
      "150/150 [==============================] - 40s 265ms/step - loss: 0.4403 - acc: 0.8074 - val_loss: 0.4410 - val_acc: 0.7986\n",
      "Epoch 66/100\n",
      "150/150 [==============================] - 40s 266ms/step - loss: 0.4512 - acc: 0.8004 - val_loss: 0.4295 - val_acc: 0.8069\n",
      "Epoch 67/100\n",
      "150/150 [==============================] - 40s 266ms/step - loss: 0.4210 - acc: 0.8079 - val_loss: 0.5101 - val_acc: 0.7738\n",
      "Epoch 68/100\n",
      "150/150 [==============================] - 40s 266ms/step - loss: 0.4360 - acc: 0.7987 - val_loss: 0.4289 - val_acc: 0.8055\n",
      "Epoch 69/100\n",
      "150/150 [==============================] - 40s 266ms/step - loss: 0.4285 - acc: 0.8013 - val_loss: 0.4083 - val_acc: 0.8149\n",
      "Epoch 70/100\n",
      "150/150 [==============================] - 40s 266ms/step - loss: 0.4436 - acc: 0.7879 - val_loss: 0.4118 - val_acc: 0.8122\n",
      "Epoch 71/100\n",
      "150/150 [==============================] - 40s 267ms/step - loss: 0.4532 - acc: 0.7925 - val_loss: 0.4253 - val_acc: 0.8069\n",
      "Epoch 72/100\n",
      "150/150 [==============================] - 40s 266ms/step - loss: 0.4139 - acc: 0.8267 - val_loss: 0.4149 - val_acc: 0.8119\n",
      "Epoch 73/100\n",
      "150/150 [==============================] - 40s 267ms/step - loss: 0.4191 - acc: 0.8163 - val_loss: 0.4011 - val_acc: 0.8194\n",
      "Epoch 74/100\n",
      "150/150 [==============================] - 40s 266ms/step - loss: 0.4126 - acc: 0.8163 - val_loss: 0.4220 - val_acc: 0.8104\n",
      "Epoch 75/100\n",
      "150/150 [==============================] - 40s 266ms/step - loss: 0.4114 - acc: 0.8192 - val_loss: 0.4255 - val_acc: 0.8077\n",
      "Epoch 76/100\n",
      "150/150 [==============================] - 40s 266ms/step - loss: 0.4247 - acc: 0.8208 - val_loss: 0.3991 - val_acc: 0.8215\n",
      "Epoch 77/100\n",
      "150/150 [==============================] - 40s 266ms/step - loss: 0.4377 - acc: 0.7987 - val_loss: 0.3922 - val_acc: 0.8227\n",
      "Epoch 78/100\n",
      "150/150 [==============================] - 40s 267ms/step - loss: 0.4095 - acc: 0.8137 - val_loss: 0.4570 - val_acc: 0.7948\n",
      "Epoch 79/100\n",
      "150/150 [==============================] - 40s 266ms/step - loss: 0.4346 - acc: 0.7971 - val_loss: 0.4120 - val_acc: 0.8088\n",
      "Epoch 80/100\n",
      "150/150 [==============================] - 40s 266ms/step - loss: 0.3877 - acc: 0.8321 - val_loss: 0.3957 - val_acc: 0.8261\n",
      "Epoch 81/100\n",
      "150/150 [==============================] - 40s 266ms/step - loss: 0.4037 - acc: 0.8175 - val_loss: 0.4303 - val_acc: 0.8056\n",
      "Epoch 82/100\n",
      "150/150 [==============================] - 40s 265ms/step - loss: 0.4071 - acc: 0.8204 - val_loss: 0.4049 - val_acc: 0.8263\n",
      "Epoch 83/100\n",
      "150/150 [==============================] - 40s 266ms/step - loss: 0.4258 - acc: 0.7958 - val_loss: 0.4096 - val_acc: 0.8085\n",
      "Epoch 84/100\n",
      "150/150 [==============================] - 40s 266ms/step - loss: 0.4065 - acc: 0.8196 - val_loss: 0.4487 - val_acc: 0.7908\n",
      "Epoch 85/100\n",
      "150/150 [==============================] - 42s 282ms/step - loss: 0.4009 - acc: 0.8171 - val_loss: 0.4299 - val_acc: 0.8064\n",
      "Epoch 86/100\n",
      "150/150 [==============================] - 43s 288ms/step - loss: 0.4159 - acc: 0.8058 - val_loss: 0.4556 - val_acc: 0.7808\n",
      "Epoch 87/100\n",
      "150/150 [==============================] - 42s 283ms/step - loss: 0.4185 - acc: 0.8146 - val_loss: 0.3961 - val_acc: 0.8288\n",
      "Epoch 88/100\n",
      "150/150 [==============================] - 43s 284ms/step - loss: 0.4129 - acc: 0.8158 - val_loss: 0.3808 - val_acc: 0.8354\n",
      "Epoch 89/100\n",
      "150/150 [==============================] - 43s 284ms/step - loss: 0.3994 - acc: 0.8217 - val_loss: 0.3917 - val_acc: 0.8280\n",
      "Epoch 90/100\n",
      "150/150 [==============================] - 42s 282ms/step - loss: 0.3862 - acc: 0.8279 - val_loss: 0.3928 - val_acc: 0.8226\n",
      "Epoch 91/100\n",
      "150/150 [==============================] - 42s 282ms/step - loss: 0.4080 - acc: 0.8312 - val_loss: 0.3995 - val_acc: 0.8200\n",
      "Epoch 92/100\n",
      "150/150 [==============================] - 43s 285ms/step - loss: 0.3947 - acc: 0.8257 - val_loss: 0.4669 - val_acc: 0.7799\n",
      "Epoch 93/100\n",
      "150/150 [==============================] - 44s 296ms/step - loss: 0.3941 - acc: 0.8221 - val_loss: 0.3752 - val_acc: 0.8336\n",
      "Epoch 94/100\n",
      "150/150 [==============================] - 44s 295ms/step - loss: 0.4114 - acc: 0.8067 - val_loss: 0.3853 - val_acc: 0.8287\n",
      "Epoch 95/100\n",
      "150/150 [==============================] - 45s 299ms/step - loss: 0.3664 - acc: 0.8263 - val_loss: 0.4193 - val_acc: 0.8167\n",
      "Epoch 96/100\n",
      "150/150 [==============================] - 43s 289ms/step - loss: 0.3958 - acc: 0.8265 - val_loss: 0.3777 - val_acc: 0.8306\n",
      "Epoch 97/100\n",
      "150/150 [==============================] - 44s 296ms/step - loss: 0.3948 - acc: 0.8204 - val_loss: 0.4001 - val_acc: 0.8213\n",
      "Epoch 98/100\n",
      "150/150 [==============================] - 44s 296ms/step - loss: 0.3975 - acc: 0.8154 - val_loss: 0.3951 - val_acc: 0.8184\n",
      "Epoch 99/100\n",
      "150/150 [==============================] - 44s 295ms/step - loss: 0.3942 - acc: 0.8250 - val_loss: 0.3799 - val_acc: 0.8290\n",
      "Epoch 100/100\n",
      "150/150 [==============================] - 44s 294ms/step - loss: 0.3792 - acc: 0.8279 - val_loss: 0.3912 - val_acc: 0.8211\n"
     ]
    }
   ],
   "source": [
    "results = model.fit_generator(train_image_gen,epochs=100,\n",
    "                              steps_per_epoch=150,\n",
    "                              validation_data=test_image_gen,\n",
    "                             validation_steps=12)"
   ]
  },
  {
   "cell_type": "code",
   "execution_count": 25,
   "metadata": {},
   "outputs": [],
   "source": [
    "# model.save('cat_dog2.h5')"
   ]
  },
  {
   "cell_type": "markdown",
   "metadata": {},
   "source": [
    "# Evaluating the Model"
   ]
  },
  {
   "cell_type": "code",
   "execution_count": 26,
   "metadata": {},
   "outputs": [
    {
     "data": {
      "text/plain": [
       "[0.49666666666666665,\n",
       " 0.5286491008133432,\n",
       " 0.5479166666666667,\n",
       " 0.5875,\n",
       " 0.55,\n",
       " 0.5704166666666667,\n",
       " 0.6220833333333333,\n",
       " 0.6058333333333333,\n",
       " 0.6029166666666667,\n",
       " 0.6333333333333333,\n",
       " 0.6354166666666666,\n",
       " 0.6616666666666666,\n",
       " 0.6591666666666667,\n",
       " 0.6587202007777518,\n",
       " 0.67,\n",
       " 0.665,\n",
       " 0.6933333333333334,\n",
       " 0.6800501882556291,\n",
       " 0.6779166666666666,\n",
       " 0.7020833333333333,\n",
       " 0.6916666666666667,\n",
       " 0.6904166666666667,\n",
       " 0.7016666666666667,\n",
       " 0.7254166666666667,\n",
       " 0.72125,\n",
       " 0.7075,\n",
       " 0.745,\n",
       " 0.7029166666666666,\n",
       " 0.7329166666666667,\n",
       " 0.7168548725130965,\n",
       " 0.7354166666666667,\n",
       " 0.7529166666666667,\n",
       " 0.7383333333333333,\n",
       " 0.7483333333333333,\n",
       " 0.7420833333333333,\n",
       " 0.72625,\n",
       " 0.7454166666666666,\n",
       " 0.7529166666666667,\n",
       " 0.7590966123210392,\n",
       " 0.7720618988619046,\n",
       " 0.7566666666666667,\n",
       " 0.7458333333333333,\n",
       " 0.7570833333333333,\n",
       " 0.7579166666666667,\n",
       " 0.7520833333333333,\n",
       " 0.7629166666666667,\n",
       " 0.7670833333333333,\n",
       " 0.7691342534504392,\n",
       " 0.7875,\n",
       " 0.7845833333333333,\n",
       " 0.8,\n",
       " 0.7695833333333333,\n",
       " 0.7829166666666667,\n",
       " 0.7754166666666666,\n",
       " 0.78625,\n",
       " 0.7925,\n",
       " 0.7883333333333333,\n",
       " 0.77125,\n",
       " 0.7858636554491066,\n",
       " 0.79125,\n",
       " 0.78875,\n",
       " 0.8,\n",
       " 0.7866666666666666,\n",
       " 0.7925,\n",
       " 0.8071936428521976,\n",
       " 0.8004166666666667,\n",
       " 0.8079166666666666,\n",
       " 0.79875,\n",
       " 0.80125,\n",
       " 0.7879166666666667,\n",
       " 0.7925,\n",
       " 0.8260142199916353,\n",
       " 0.81625,\n",
       " 0.81625,\n",
       " 0.8191666666666667,\n",
       " 0.8208333333333333,\n",
       " 0.79875,\n",
       " 0.81375,\n",
       " 0.7970833333333334,\n",
       " 0.8320833333333333,\n",
       " 0.8175,\n",
       " 0.8218318695231294,\n",
       " 0.7958333333333333,\n",
       " 0.8195833333333333,\n",
       " 0.8170833333333334,\n",
       " 0.8058333333333333,\n",
       " 0.8145833333333333,\n",
       " 0.8158333333333333,\n",
       " 0.8216666666666667,\n",
       " 0.8279166666666666,\n",
       " 0.83125,\n",
       " 0.825595984968467,\n",
       " 0.8220833333333334,\n",
       " 0.8066666666666666,\n",
       " 0.82625,\n",
       " 0.8264324550646611,\n",
       " 0.8204166666666667,\n",
       " 0.8154166666666667,\n",
       " 0.825,\n",
       " 0.8279166666666666]"
      ]
     },
     "execution_count": 26,
     "metadata": {},
     "output_type": "execute_result"
    }
   ],
   "source": [
    "results.history['acc']"
   ]
  },
  {
   "cell_type": "code",
   "execution_count": 27,
   "metadata": {},
   "outputs": [
    {
     "data": {
      "text/plain": [
       "[<matplotlib.lines.Line2D at 0x15eab8f24e0>]"
      ]
     },
     "execution_count": 27,
     "metadata": {},
     "output_type": "execute_result"
    },
    {
     "data": {
      "image/png": "[encoded data removed]",
      "text/plain": [
       "<Figure size 432x288 with 1 Axes>"
      ]
     },
     "metadata": {
      "needs_background": "light"
     },
     "output_type": "display_data"
    }
   ],
   "source": [
    "plt.plot(results.history['acc'])"
   ]
  },
  {
   "cell_type": "code",
   "execution_count": 28,
   "metadata": {},
   "outputs": [],
   "source": [
    "# model.save('cat_dog_100epochs.h5')"
   ]
  },
  {
   "cell_type": "markdown",
   "metadata": {},
   "source": [
    "# Predicting on new images"
   ]
  },
  {
   "cell_type": "code",
   "execution_count": 29,
   "metadata": {},
   "outputs": [
    {
     "data": {
      "text/plain": [
       "{'CAT': 0, 'DOG': 1}"
      ]
     },
     "execution_count": 29,
     "metadata": {},
     "output_type": "execute_result"
    }
   ],
   "source": [
    "train_image_gen.class_indices"
   ]
  },
  {
   "cell_type": "code",
   "execution_count": 33,
   "metadata": {},
   "outputs": [],
   "source": [
    "import numpy as np\n",
    "from keras.preprocessing import image\n",
    "\n",
    "dog_file = '../DATA/CATS_DOGS/train/Dog/2.jpg'\n",
    "\n",
    "dog_img = image.load_img(dog_file, target_size=(150, 150))\n",
    "\n",
    "dog_img = image.img_to_array(dog_img)\n",
    "\n",
    "dog_img = np.expand_dims(dog_img, axis=0)\n",
    "dog_img = dog_img/255"
   ]
  },
  {
   "cell_type": "code",
   "execution_count": 34,
   "metadata": {},
   "outputs": [],
   "source": [
    "prediction_prob = model.predict(dog_img)"
   ]
  },
  {
   "cell_type": "code",
   "execution_count": 35,
   "metadata": {},
   "outputs": [
    {
     "name": "stdout",
     "output_type": "stream",
     "text": [
      "Probability that image is a dog is: [[0.97995687]] \n"
     ]
    }
   ],
   "source": [
    "# Output prediction\n",
    "print(f'Probability that image is a dog is: {prediction_prob} ')"
   ]
  },
  {
   "cell_type": "markdown",
   "metadata": {},
   "source": [
    "# Great Job!"
   ]
  }
 ],
 "metadata": {
  "kernelspec": {
   "display_name": "Python 3",
   "language": "python",
   "name": "python3"
  },
  "language_info": {
   "codemirror_mode": {
    "name": "ipython",
    "version": 3
   },
   "file_extension": ".py",
   "mimetype": "text/x-python",
   "name": "python",
   "nbconvert_exporter": "python",
   "pygments_lexer": "ipython3",
   "version": "3.6.6"
  }
 },
 "nbformat": 4,
 "nbformat_minor": 4
}
