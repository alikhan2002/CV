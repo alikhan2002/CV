{
 "cells": [
  {
   "cell_type": "code",
   "execution_count": 3,
   "id": "4e4dd9dc-394a-4760-8d46-76f7289c22d2",
   "metadata": {
    "tags": []
   },
   "outputs": [],
   "source": [
    "import matplotlib.pyplot as plt\n",
    "import cv2\n",
    "# Technically not necessary in newest versions of jupyter\n",
    "%matplotlib inline\n",
    "path = 'C:/Users/aliha/Desktop/Third/Computer Vision/Project4/DL/cropped/'"
   ]
  },
  {
   "cell_type": "code",
   "execution_count": 4,
   "id": "f87a4e19-7411-4e36-8f97-18ef4de24cc6",
   "metadata": {
    "tags": []
   },
   "outputs": [
    {
     "ename": "ModuleNotFoundError",
     "evalue": "No module named 'keras'",
     "output_type": "error",
     "traceback": [
      "\u001b[1;31m---------------------------------------------------------------------------\u001b[0m",
      "\u001b[1;31mModuleNotFoundError\u001b[0m                       Traceback (most recent call last)",
      "Cell \u001b[1;32mIn[4], line 1\u001b[0m\n\u001b[1;32m----> 1\u001b[0m \u001b[38;5;28;01mfrom\u001b[39;00m \u001b[38;5;21;01mkeras\u001b[39;00m\u001b[38;5;21;01m.\u001b[39;00m\u001b[38;5;21;01mpreprocessing\u001b[39;00m\u001b[38;5;21;01m.\u001b[39;00m\u001b[38;5;21;01mimage\u001b[39;00m \u001b[38;5;28;01mimport\u001b[39;00m ImageDataGenerator\n",
      "\u001b[1;31mModuleNotFoundError\u001b[0m: No module named 'keras'"
     ]
    }
   ],
   "source": [
    "from keras.preprocessing.image import ImageDataGenerator\n"
   ]
  },
  {
   "cell_type": "code",
   "execution_count": 5,
   "id": "7ec4c03b-c900-49e8-ad4e-352009d3097a",
   "metadata": {
    "tags": []
   },
   "outputs": [],
   "source": [
    "# width,height,channels\n",
    "image_shape = (80,80,3)\n",
    "batch_size = 20"
   ]
  },
  {
   "cell_type": "code",
   "execution_count": 6,
   "id": "2db1a9c6-2467-49aa-8a1c-61322aaec078",
   "metadata": {
    "tags": []
   },
   "outputs": [
    {
     "ename": "NameError",
     "evalue": "name 'ImageDataGenerator' is not defined",
     "output_type": "error",
     "traceback": [
      "\u001b[1;31m---------------------------------------------------------------------------\u001b[0m",
      "\u001b[1;31mNameError\u001b[0m                                 Traceback (most recent call last)",
      "Cell \u001b[1;32mIn[6], line 1\u001b[0m\n\u001b[1;32m----> 1\u001b[0m image_gen \u001b[38;5;241m=\u001b[39m \u001b[43mImageDataGenerator\u001b[49m(rotation_range\u001b[38;5;241m=\u001b[39m\u001b[38;5;241m30\u001b[39m, \u001b[38;5;66;03m# rotate the image 30 degrees\u001b[39;00m\n\u001b[0;32m      2\u001b[0m                                width_shift_range\u001b[38;5;241m=\u001b[39m\u001b[38;5;241m0.3\u001b[39m, \u001b[38;5;66;03m# Shift the pic width by a max of 10%\u001b[39;00m\n\u001b[0;32m      3\u001b[0m                                height_shift_range\u001b[38;5;241m=\u001b[39m\u001b[38;5;241m0.2\u001b[39m, \u001b[38;5;66;03m# Shift the pic height by a max of 10%\u001b[39;00m\n\u001b[0;32m      4\u001b[0m                                rescale\u001b[38;5;241m=\u001b[39m\u001b[38;5;241m1\u001b[39m\u001b[38;5;241m/\u001b[39m\u001b[38;5;241m255\u001b[39m, \u001b[38;5;66;03m# Rescale the image by normalzing it.\u001b[39;00m\n\u001b[0;32m      5\u001b[0m                                shear_range\u001b[38;5;241m=\u001b[39m\u001b[38;5;241m0.2\u001b[39m, \u001b[38;5;66;03m# Shear means cutting away part of the image (max 20%)\u001b[39;00m\n\u001b[0;32m      6\u001b[0m                                zoom_range\u001b[38;5;241m=\u001b[39m\u001b[38;5;241m0.2\u001b[39m, \u001b[38;5;66;03m# Zoom in by 20% max\u001b[39;00m\n\u001b[0;32m      7\u001b[0m                                horizontal_flip\u001b[38;5;241m=\u001b[39m\u001b[38;5;28;01mTrue\u001b[39;00m, \u001b[38;5;66;03m# Allo horizontal flipping\u001b[39;00m\n\u001b[0;32m      8\u001b[0m                                fill_mode\u001b[38;5;241m=\u001b[39m\u001b[38;5;124m'\u001b[39m\u001b[38;5;124mnearest\u001b[39m\u001b[38;5;124m'\u001b[39m \u001b[38;5;66;03m# Fill in missing pixels with the nearest filled value\u001b[39;00m\n\u001b[0;32m      9\u001b[0m                               )\n",
      "\u001b[1;31mNameError\u001b[0m: name 'ImageDataGenerator' is not defined"
     ]
    }
   ],
   "source": [
    "image_gen = ImageDataGenerator(rotation_range=30, # rotate the image 30 degrees\n",
    "                               width_shift_range=0.3, # Shift the pic width by a max of 10%\n",
    "                               height_shift_range=0.2, # Shift the pic height by a max of 10%\n",
    "                               rescale=1/255, # Rescale the image by normalzing it.\n",
    "                               shear_range=0.2, # Shear means cutting away part of the image (max 20%)\n",
    "                               zoom_range=0.2, # Zoom in by 20% max\n",
    "                               horizontal_flip=True, # Allo horizontal flipping\n",
    "                               fill_mode='nearest' # Fill in missing pixels with the nearest filled value\n",
    "                              )"
   ]
  },
  {
   "cell_type": "code",
   "execution_count": 7,
   "id": "a510961d-d3ef-4279-8be4-0f556849e7aa",
   "metadata": {
    "tags": []
   },
   "outputs": [
    {
     "ename": "NameError",
     "evalue": "name 'image_gen' is not defined",
     "output_type": "error",
     "traceback": [
      "\u001b[1;31m---------------------------------------------------------------------------\u001b[0m",
      "\u001b[1;31mNameError\u001b[0m                                 Traceback (most recent call last)",
      "Cell \u001b[1;32mIn[7], line 1\u001b[0m\n\u001b[1;32m----> 1\u001b[0m train_image_gen \u001b[38;5;241m=\u001b[39m \u001b[43mimage_gen\u001b[49m\u001b[38;5;241m.\u001b[39mflow_from_directory(path\u001b[38;5;241m+\u001b[39m\u001b[38;5;124m'\u001b[39m\u001b[38;5;124mtrain\u001b[39m\u001b[38;5;124m'\u001b[39m,\n\u001b[0;32m      2\u001b[0m                                                target_size\u001b[38;5;241m=\u001b[39mimage_shape[:\u001b[38;5;241m2\u001b[39m],\n\u001b[0;32m      3\u001b[0m                                                batch_size\u001b[38;5;241m=\u001b[39mbatch_size,\n\u001b[0;32m      4\u001b[0m                                                class_mode\u001b[38;5;241m=\u001b[39m\u001b[38;5;124m'\u001b[39m\u001b[38;5;124mcategorical\u001b[39m\u001b[38;5;124m'\u001b[39m)\n\u001b[0;32m      5\u001b[0m test_image_gen \u001b[38;5;241m=\u001b[39m image_gen\u001b[38;5;241m.\u001b[39mflow_from_directory(path\u001b[38;5;241m+\u001b[39m\u001b[38;5;124m'\u001b[39m\u001b[38;5;124mtest\u001b[39m\u001b[38;5;124m'\u001b[39m,\n\u001b[0;32m      6\u001b[0m                                                target_size\u001b[38;5;241m=\u001b[39mimage_shape[:\u001b[38;5;241m2\u001b[39m],\n\u001b[0;32m      7\u001b[0m                                                batch_size\u001b[38;5;241m=\u001b[39mbatch_size,\n\u001b[0;32m      8\u001b[0m                                                class_mode\u001b[38;5;241m=\u001b[39m\u001b[38;5;124m'\u001b[39m\u001b[38;5;124mcategorical\u001b[39m\u001b[38;5;124m'\u001b[39m)\n",
      "\u001b[1;31mNameError\u001b[0m: name 'image_gen' is not defined"
     ]
    }
   ],
   "source": [
    "train_image_gen = image_gen.flow_from_directory(path+'train',\n",
    "                                               target_size=image_shape[:2],\n",
    "                                               batch_size=batch_size,\n",
    "                                               class_mode='categorical')\n",
    "test_image_gen = image_gen.flow_from_directory(path+'test',\n",
    "                                               target_size=image_shape[:2],\n",
    "                                               batch_size=batch_size,\n",
    "                                               class_mode='categorical')"
   ]
  },
  {
   "cell_type": "code",
   "execution_count": 8,
   "id": "87ebd066-b637-4170-a130-58b5889464fa",
   "metadata": {
    "tags": []
   },
   "outputs": [
    {
     "ename": "NameError",
     "evalue": "name 'train_image_gen' is not defined",
     "output_type": "error",
     "traceback": [
      "\u001b[1;31m---------------------------------------------------------------------------\u001b[0m",
      "\u001b[1;31mNameError\u001b[0m                                 Traceback (most recent call last)",
      "Cell \u001b[1;32mIn[8], line 1\u001b[0m\n\u001b[1;32m----> 1\u001b[0m \u001b[38;5;28mlen\u001b[39m(\u001b[43mtrain_image_gen\u001b[49m)\n",
      "\u001b[1;31mNameError\u001b[0m: name 'train_image_gen' is not defined"
     ]
    }
   ],
   "source": [
    "len(train_image_gen)"
   ]
  },
  {
   "cell_type": "markdown",
   "id": "04ac0f71-87ef-47e5-a00e-d39f3b4b722e",
   "metadata": {},
   "source": [
    "# Creating the Model"
   ]
  },
  {
   "cell_type": "code",
   "execution_count": 9,
   "id": "a7448a95-9d83-421d-aedf-ef38762fe264",
   "metadata": {
    "tags": []
   },
   "outputs": [
    {
     "ename": "ModuleNotFoundError",
     "evalue": "No module named 'keras'",
     "output_type": "error",
     "traceback": [
      "\u001b[1;31m---------------------------------------------------------------------------\u001b[0m",
      "\u001b[1;31mModuleNotFoundError\u001b[0m                       Traceback (most recent call last)",
      "Cell \u001b[1;32mIn[9], line 1\u001b[0m\n\u001b[1;32m----> 1\u001b[0m \u001b[38;5;28;01mfrom\u001b[39;00m \u001b[38;5;21;01mkeras\u001b[39;00m\u001b[38;5;21;01m.\u001b[39;00m\u001b[38;5;21;01mmodels\u001b[39;00m \u001b[38;5;28;01mimport\u001b[39;00m Sequential\n\u001b[0;32m      2\u001b[0m \u001b[38;5;28;01mfrom\u001b[39;00m \u001b[38;5;21;01mkeras\u001b[39;00m\u001b[38;5;21;01m.\u001b[39;00m\u001b[38;5;21;01mlayers\u001b[39;00m \u001b[38;5;28;01mimport\u001b[39;00m Activation, Dropout, Flatten, Dense, Conv2D, MaxPooling2D\n",
      "\u001b[1;31mModuleNotFoundError\u001b[0m: No module named 'keras'"
     ]
    }
   ],
   "source": [
    "from keras.models import Sequential\n",
    "from keras.layers import Activation, Dropout, Flatten, Dense, Conv2D, MaxPooling2D"
   ]
  },
  {
   "cell_type": "code",
   "execution_count": 10,
   "id": "00e5423f-49bd-4af3-a238-6ede5ce92645",
   "metadata": {
    "tags": []
   },
   "outputs": [
    {
     "ename": "NameError",
     "evalue": "name 'Sequential' is not defined",
     "output_type": "error",
     "traceback": [
      "\u001b[1;31m---------------------------------------------------------------------------\u001b[0m",
      "\u001b[1;31mNameError\u001b[0m                                 Traceback (most recent call last)",
      "Cell \u001b[1;32mIn[10], line 1\u001b[0m\n\u001b[1;32m----> 1\u001b[0m model \u001b[38;5;241m=\u001b[39m \u001b[43mSequential\u001b[49m()\n\u001b[0;32m      3\u001b[0m model\u001b[38;5;241m.\u001b[39madd(Conv2D(filters\u001b[38;5;241m=\u001b[39m\u001b[38;5;241m32\u001b[39m, kernel_size\u001b[38;5;241m=\u001b[39m(\u001b[38;5;241m3\u001b[39m,\u001b[38;5;241m3\u001b[39m),input_shape\u001b[38;5;241m=\u001b[39mimage_shape, activation\u001b[38;5;241m=\u001b[39m\u001b[38;5;124m'\u001b[39m\u001b[38;5;124mrelu\u001b[39m\u001b[38;5;124m'\u001b[39m,))\n\u001b[0;32m      4\u001b[0m model\u001b[38;5;241m.\u001b[39madd(MaxPooling2D(pool_size\u001b[38;5;241m=\u001b[39m(\u001b[38;5;241m2\u001b[39m, \u001b[38;5;241m2\u001b[39m)))\n",
      "\u001b[1;31mNameError\u001b[0m: name 'Sequential' is not defined"
     ]
    }
   ],
   "source": [
    "model = Sequential()\n",
    "\n",
    "model.add(Conv2D(filters=32, kernel_size=(3,3),input_shape=image_shape, activation='relu',))\n",
    "model.add(MaxPooling2D(pool_size=(2, 2)))\n",
    "\n",
    "model.add(Conv2D(filters=64, kernel_size=(3,3),input_shape=image_shape, activation='relu',))\n",
    "model.add(MaxPooling2D(pool_size=(2, 2)))\n",
    "\n",
    "model.add(Conv2D(filters=128, kernel_size=(3,3),input_shape=image_shape, activation='relu',))\n",
    "model.add(MaxPooling2D(pool_size=(2, 2)))\n",
    "\n",
    "model.add(Conv2D(filters=256, kernel_size=(3,3),input_shape=image_shape, activation='relu',))\n",
    "model.add(MaxPooling2D(pool_size=(2, 2)))\n",
    "\n",
    "model.add(Flatten())\n",
    "\n",
    "\n",
    "model.add(Dense(512))\n",
    "model.add(Activation('relu'))\n",
    "\n",
    "# Dropouts help reduce overfitting by randomly turning neurons off during training.\n",
    "# Here we say randomly turn off 50% of neurons.\n",
    "model.add(Dropout(0.5))\n",
    "\n",
    "model.add(Dense(14))\n",
    "model.add(Activation('softmax'))\n",
    "\n",
    "model.compile(loss='categorical_crossentropy',\n",
    "              optimizer='adam',\n",
    "              metrics=['accuracy'])"
   ]
  },
  {
   "cell_type": "code",
   "execution_count": 11,
   "id": "fc1273d2-57e9-463b-b862-b7ae7554fe52",
   "metadata": {
    "tags": []
   },
   "outputs": [
    {
     "ename": "NameError",
     "evalue": "name 'model' is not defined",
     "output_type": "error",
     "traceback": [
      "\u001b[1;31m---------------------------------------------------------------------------\u001b[0m",
      "\u001b[1;31mNameError\u001b[0m                                 Traceback (most recent call last)",
      "Cell \u001b[1;32mIn[11], line 1\u001b[0m\n\u001b[1;32m----> 1\u001b[0m \u001b[43mmodel\u001b[49m\u001b[38;5;241m.\u001b[39msummary()\n",
      "\u001b[1;31mNameError\u001b[0m: name 'model' is not defined"
     ]
    }
   ],
   "source": [
    "model.summary()"
   ]
  },
  {
   "cell_type": "markdown",
   "id": "9c02a0e3-ab4a-411f-8caa-0d89b97d924b",
   "metadata": {},
   "source": [
    "### Training the Model"
   ]
  },
  {
   "cell_type": "code",
   "execution_count": 12,
   "id": "d2d4b686-e122-4999-b1c0-9098a7b94040",
   "metadata": {
    "tags": []
   },
   "outputs": [
    {
     "ename": "NameError",
     "evalue": "name 'image_gen' is not defined",
     "output_type": "error",
     "traceback": [
      "\u001b[1;31m---------------------------------------------------------------------------\u001b[0m",
      "\u001b[1;31mNameError\u001b[0m                                 Traceback (most recent call last)",
      "Cell \u001b[1;32mIn[12], line 2\u001b[0m\n\u001b[0;32m      1\u001b[0m batch_size \u001b[38;5;241m=\u001b[39m \u001b[38;5;241m20\u001b[39m\n\u001b[1;32m----> 2\u001b[0m train_image_gen \u001b[38;5;241m=\u001b[39m \u001b[43mimage_gen\u001b[49m\u001b[38;5;241m.\u001b[39mflow_from_directory(\u001b[38;5;124m'\u001b[39m\u001b[38;5;124m./cropped/train\u001b[39m\u001b[38;5;124m'\u001b[39m,\n\u001b[0;32m      3\u001b[0m                                                target_size\u001b[38;5;241m=\u001b[39mimage_shape[:\u001b[38;5;241m2\u001b[39m],\n\u001b[0;32m      4\u001b[0m                                                batch_size\u001b[38;5;241m=\u001b[39mbatch_size,\n\u001b[0;32m      5\u001b[0m                                                class_mode\u001b[38;5;241m=\u001b[39m\u001b[38;5;124m'\u001b[39m\u001b[38;5;124mcategorical\u001b[39m\u001b[38;5;124m'\u001b[39m)\n",
      "\u001b[1;31mNameError\u001b[0m: name 'image_gen' is not defined"
     ]
    }
   ],
   "source": [
    "batch_size = 20\n",
    "train_image_gen = image_gen.flow_from_directory('./cropped/train',\n",
    "                                               target_size=image_shape[:2],\n",
    "                                               batch_size=batch_size,\n",
    "                                               class_mode='categorical')"
   ]
  },
  {
   "cell_type": "code",
   "execution_count": 115,
   "id": "792f4164-20f6-4adb-9dc3-6c48fa593f57",
   "metadata": {
    "tags": []
   },
   "outputs": [
    {
     "name": "stdout",
     "output_type": "stream",
     "text": [
      "Found 121 images belonging to 1 classes.\n"
     ]
    }
   ],
   "source": [
    "test_image_gen = image_gen.flow_from_directory('./cropped/test',\n",
    "                                               target_size=image_shape[:2],\n",
    "                                               batch_size=batch_size,\n",
    "                                               class_mode='categorical')"
   ]
  },
  {
   "cell_type": "code",
   "execution_count": 116,
   "id": "7391551e-9214-4a8d-a970-d22c7ecdbb1f",
   "metadata": {
    "tags": []
   },
   "outputs": [
    {
     "data": {
      "text/plain": [
       "{'Akhmedov Sanzhar': 0,\n",
       " 'Alikhan Zhamankhan': 1,\n",
       " 'Baibatchayeva Anar': 2,\n",
       " 'Dalabay Abylay': 3,\n",
       " 'Daniyar Raiymbekov': 4,\n",
       " 'Duisenov Alikhan': 5,\n",
       " 'Kenzhebay Askar': 6,\n",
       " 'Kyran Yerkin': 7,\n",
       " 'Maxat Ualikhan': 8,\n",
       " 'Naryshov Ernar': 9,\n",
       " 'Rysmambetov Nurtugan': 10,\n",
       " 'Sagynbek Nurbolat': 11,\n",
       " 'Zhetessov Nur': 12,\n",
       " 'Zhumabekov Magjan': 13}"
      ]
     },
     "execution_count": 116,
     "metadata": {},
     "output_type": "execute_result"
    }
   ],
   "source": [
    "train_image_gen.class_indices"
   ]
  },
  {
   "cell_type": "code",
   "execution_count": 117,
   "id": "fb79891d-9e04-4e2b-8d05-702c47670c62",
   "metadata": {
    "tags": []
   },
   "outputs": [],
   "source": [
    "import warnings\n",
    "warnings.filterwarnings('ignore')"
   ]
  },
  {
   "cell_type": "code",
   "execution_count": 119,
   "id": "e581d051-bc82-44b4-b726-70fd8cc71cc4",
   "metadata": {
    "scrolled": true,
    "tags": []
   },
   "outputs": [
    {
     "name": "stdout",
     "output_type": "stream",
     "text": [
      "Epoch 1/100\n",
      "23/23 [==============================] - 6s 270ms/step - loss: 0.6223 - accuracy: 0.7919 - val_loss: 102.7175 - val_accuracy: 0.0667\n",
      "Epoch 2/100\n",
      "23/23 [==============================] - 6s 261ms/step - loss: 0.8591 - accuracy: 0.7081 - val_loss: 105.0870 - val_accuracy: 0.0833\n",
      "Epoch 3/100\n",
      "23/23 [==============================] - 6s 263ms/step - loss: 0.7820 - accuracy: 0.7624 - val_loss: 100.7290 - val_accuracy: 0.1167\n",
      "Epoch 4/100\n",
      "23/23 [==============================] - 6s 260ms/step - loss: 0.5599 - accuracy: 0.8167 - val_loss: 114.9023 - val_accuracy: 0.0833\n",
      "Epoch 5/100\n",
      "23/23 [==============================] - 6s 258ms/step - loss: 0.6965 - accuracy: 0.7805 - val_loss: 112.2549 - val_accuracy: 0.0500\n",
      "Epoch 6/100\n",
      "23/23 [==============================] - 6s 263ms/step - loss: 0.6404 - accuracy: 0.7919 - val_loss: 117.5537 - val_accuracy: 0.0417\n",
      "Epoch 7/100\n",
      "23/23 [==============================] - 6s 267ms/step - loss: 0.5522 - accuracy: 0.8077 - val_loss: 114.3258 - val_accuracy: 0.0417\n",
      "Epoch 8/100\n",
      "23/23 [==============================] - 6s 270ms/step - loss: 0.6706 - accuracy: 0.7851 - val_loss: 112.8823 - val_accuracy: 0.0417\n",
      "Epoch 9/100\n",
      "23/23 [==============================] - 6s 271ms/step - loss: 0.5130 - accuracy: 0.8416 - val_loss: 127.4986 - val_accuracy: 0.0250\n",
      "Epoch 10/100\n",
      "23/23 [==============================] - 6s 272ms/step - loss: 0.4374 - accuracy: 0.8575 - val_loss: 132.3262 - val_accuracy: 0.0500\n",
      "Epoch 11/100\n",
      "23/23 [==============================] - 6s 276ms/step - loss: 0.4312 - accuracy: 0.8552 - val_loss: 142.9993 - val_accuracy: 0.0667\n",
      "Epoch 12/100\n",
      "23/23 [==============================] - 6s 273ms/step - loss: 0.4106 - accuracy: 0.8484 - val_loss: 144.1211 - val_accuracy: 0.0750\n",
      "Epoch 13/100\n",
      "23/23 [==============================] - 6s 267ms/step - loss: 0.4907 - accuracy: 0.8258 - val_loss: 137.5227 - val_accuracy: 0.0500\n",
      "Epoch 14/100\n",
      "23/23 [==============================] - 6s 282ms/step - loss: 0.4149 - accuracy: 0.8522 - val_loss: 129.0421 - val_accuracy: 0.0917\n",
      "Epoch 15/100\n",
      "23/23 [==============================] - 6s 267ms/step - loss: 0.4312 - accuracy: 0.8665 - val_loss: 152.3785 - val_accuracy: 0.0750\n",
      "Epoch 16/100\n",
      "23/23 [==============================] - 6s 270ms/step - loss: 0.4178 - accuracy: 0.8597 - val_loss: 143.9082 - val_accuracy: 0.1333\n",
      "Epoch 17/100\n",
      "23/23 [==============================] - 6s 269ms/step - loss: 0.5250 - accuracy: 0.8371 - val_loss: 133.2228 - val_accuracy: 0.0167\n",
      "Epoch 18/100\n",
      "23/23 [==============================] - 6s 268ms/step - loss: 0.4653 - accuracy: 0.8394 - val_loss: 135.6169 - val_accuracy: 0.0833\n",
      "Epoch 19/100\n",
      "23/23 [==============================] - 6s 267ms/step - loss: 0.5481 - accuracy: 0.8235 - val_loss: 138.7238 - val_accuracy: 0.0500\n",
      "Epoch 20/100\n",
      "23/23 [==============================] - 6s 263ms/step - loss: 0.4959 - accuracy: 0.8258 - val_loss: 137.5038 - val_accuracy: 0.0500\n",
      "Epoch 21/100\n",
      "23/23 [==============================] - 6s 271ms/step - loss: 0.5196 - accuracy: 0.8348 - val_loss: 131.9762 - val_accuracy: 0.0750\n",
      "Epoch 22/100\n",
      "23/23 [==============================] - 6s 278ms/step - loss: 0.4880 - accuracy: 0.8413 - val_loss: 124.9964 - val_accuracy: 0.0833\n",
      "Epoch 23/100\n",
      "23/23 [==============================] - 6s 275ms/step - loss: 0.4737 - accuracy: 0.8484 - val_loss: 142.4690 - val_accuracy: 0.0667\n",
      "Epoch 24/100\n",
      "23/23 [==============================] - 6s 265ms/step - loss: 0.3390 - accuracy: 0.8688 - val_loss: 163.3398 - val_accuracy: 0.0500\n",
      "Epoch 25/100\n",
      "23/23 [==============================] - 6s 267ms/step - loss: 0.4226 - accuracy: 0.8462 - val_loss: 149.5896 - val_accuracy: 0.0583\n",
      "Epoch 26/100\n",
      "23/23 [==============================] - 6s 266ms/step - loss: 0.5420 - accuracy: 0.8529 - val_loss: 143.9413 - val_accuracy: 0.0417\n",
      "Epoch 27/100\n",
      "23/23 [==============================] - 6s 268ms/step - loss: 0.5002 - accuracy: 0.8413 - val_loss: 119.8252 - val_accuracy: 0.0250\n",
      "Epoch 28/100\n",
      "23/23 [==============================] - 6s 269ms/step - loss: 0.4091 - accuracy: 0.8552 - val_loss: 148.7578 - val_accuracy: 0.0667\n",
      "Epoch 29/100\n",
      "23/23 [==============================] - 6s 269ms/step - loss: 0.2894 - accuracy: 0.9072 - val_loss: 140.5929 - val_accuracy: 0.0750\n",
      "Epoch 30/100\n",
      "23/23 [==============================] - 6s 266ms/step - loss: 0.4271 - accuracy: 0.8620 - val_loss: 155.3281 - val_accuracy: 0.1667\n",
      "Epoch 31/100\n",
      "23/23 [==============================] - 6s 267ms/step - loss: 0.4077 - accuracy: 0.8801 - val_loss: 140.6083 - val_accuracy: 0.0500\n",
      "Epoch 32/100\n",
      "23/23 [==============================] - 6s 271ms/step - loss: 0.3433 - accuracy: 0.9027 - val_loss: 167.4016 - val_accuracy: 0.0500\n",
      "Epoch 33/100\n",
      "23/23 [==============================] - 6s 264ms/step - loss: 0.3422 - accuracy: 0.8643 - val_loss: 162.8599 - val_accuracy: 0.0833\n",
      "Epoch 34/100\n",
      "23/23 [==============================] - 6s 271ms/step - loss: 0.3201 - accuracy: 0.8982 - val_loss: 158.5719 - val_accuracy: 0.0750\n",
      "Epoch 35/100\n",
      "23/23 [==============================] - 6s 262ms/step - loss: 0.3173 - accuracy: 0.9027 - val_loss: 164.9380 - val_accuracy: 0.0750\n",
      "Epoch 36/100\n",
      "23/23 [==============================] - 6s 266ms/step - loss: 0.3303 - accuracy: 0.9027 - val_loss: 165.0994 - val_accuracy: 0.0500\n",
      "Epoch 37/100\n",
      "23/23 [==============================] - 6s 271ms/step - loss: 0.3918 - accuracy: 0.8801 - val_loss: 151.4630 - val_accuracy: 0.0583\n",
      "Epoch 38/100\n",
      "23/23 [==============================] - 6s 280ms/step - loss: 0.3000 - accuracy: 0.9050 - val_loss: 149.2483 - val_accuracy: 0.0500\n",
      "Epoch 39/100\n",
      "23/23 [==============================] - 6s 265ms/step - loss: 0.3335 - accuracy: 0.8733 - val_loss: 162.6167 - val_accuracy: 0.0417\n",
      "Epoch 40/100\n",
      "23/23 [==============================] - 6s 271ms/step - loss: 0.4932 - accuracy: 0.8529 - val_loss: 138.1609 - val_accuracy: 0.0917\n",
      "Epoch 41/100\n",
      "23/23 [==============================] - 7s 305ms/step - loss: 0.4161 - accuracy: 0.8620 - val_loss: 136.8186 - val_accuracy: 0.0500\n",
      "Epoch 42/100\n",
      "23/23 [==============================] - 7s 306ms/step - loss: 0.3234 - accuracy: 0.8824 - val_loss: 154.1783 - val_accuracy: 0.0750\n",
      "Epoch 43/100\n",
      "23/23 [==============================] - 7s 310ms/step - loss: 0.2638 - accuracy: 0.9027 - val_loss: 165.4592 - val_accuracy: 0.0417\n",
      "Epoch 44/100\n",
      "23/23 [==============================] - 7s 322ms/step - loss: 0.2840 - accuracy: 0.9005 - val_loss: 169.9781 - val_accuracy: 0.0750\n",
      "Epoch 45/100\n",
      "23/23 [==============================] - 7s 307ms/step - loss: 0.2452 - accuracy: 0.9231 - val_loss: 178.8270 - val_accuracy: 0.0500\n",
      "Epoch 46/100\n",
      "23/23 [==============================] - 7s 315ms/step - loss: 0.2462 - accuracy: 0.9163 - val_loss: 193.4286 - val_accuracy: 0.0417\n",
      "Epoch 47/100\n",
      "23/23 [==============================] - 7s 294ms/step - loss: 0.2661 - accuracy: 0.9095 - val_loss: 163.3170 - val_accuracy: 0.0333\n",
      "Epoch 48/100\n",
      "23/23 [==============================] - 7s 308ms/step - loss: 0.2868 - accuracy: 0.8937 - val_loss: 179.9903 - val_accuracy: 0.0500\n",
      "Epoch 49/100\n",
      "23/23 [==============================] - 7s 308ms/step - loss: 0.4352 - accuracy: 0.8462 - val_loss: 159.8865 - val_accuracy: 0.0250\n",
      "Epoch 50/100\n",
      "23/23 [==============================] - 7s 290ms/step - loss: 0.4076 - accuracy: 0.8500 - val_loss: 171.0370 - val_accuracy: 0.0417\n",
      "Epoch 51/100\n",
      "23/23 [==============================] - 6s 262ms/step - loss: 0.3012 - accuracy: 0.8937 - val_loss: 155.4076 - val_accuracy: 0.0500\n",
      "Epoch 52/100\n",
      "23/23 [==============================] - 6s 270ms/step - loss: 0.3278 - accuracy: 0.8914 - val_loss: 154.0548 - val_accuracy: 0.0500\n",
      "Epoch 53/100\n",
      "23/23 [==============================] - 6s 260ms/step - loss: 0.2864 - accuracy: 0.9005 - val_loss: 159.7441 - val_accuracy: 0.0667\n",
      "Epoch 54/100\n",
      "23/23 [==============================] - 6s 261ms/step - loss: 0.3570 - accuracy: 0.8869 - val_loss: 147.2992 - val_accuracy: 0.1000\n",
      "Epoch 55/100\n",
      "23/23 [==============================] - 6s 271ms/step - loss: 0.2557 - accuracy: 0.9072 - val_loss: 169.7576 - val_accuracy: 0.0667\n",
      "Epoch 56/100\n",
      "23/23 [==============================] - 6s 263ms/step - loss: 0.2427 - accuracy: 0.9140 - val_loss: 192.6565 - val_accuracy: 0.1000\n",
      "Epoch 57/100\n",
      "23/23 [==============================] - 6s 268ms/step - loss: 0.2244 - accuracy: 0.9391 - val_loss: 176.3697 - val_accuracy: 0.0750\n",
      "Epoch 58/100\n",
      "23/23 [==============================] - 6s 262ms/step - loss: 0.2288 - accuracy: 0.9299 - val_loss: 184.4801 - val_accuracy: 0.0583\n",
      "Epoch 59/100\n",
      "23/23 [==============================] - 6s 252ms/step - loss: 0.2162 - accuracy: 0.9208 - val_loss: 207.7741 - val_accuracy: 0.0750\n",
      "Epoch 60/100\n",
      "23/23 [==============================] - 6s 254ms/step - loss: 0.2383 - accuracy: 0.9276 - val_loss: 191.4387 - val_accuracy: 0.0917\n",
      "Epoch 61/100\n",
      "23/23 [==============================] - 6s 261ms/step - loss: 0.3378 - accuracy: 0.8733 - val_loss: 175.1259 - val_accuracy: 0.0500\n",
      "Epoch 62/100\n",
      "23/23 [==============================] - 6s 256ms/step - loss: 0.2397 - accuracy: 0.9208 - val_loss: 156.7493 - val_accuracy: 0.1000\n",
      "Epoch 63/100\n",
      "23/23 [==============================] - 6s 260ms/step - loss: 0.2123 - accuracy: 0.9208 - val_loss: 170.5737 - val_accuracy: 0.0333\n",
      "Epoch 64/100\n",
      "23/23 [==============================] - 6s 265ms/step - loss: 0.2085 - accuracy: 0.9480 - val_loss: 186.4571 - val_accuracy: 0.0417\n",
      "Epoch 65/100\n",
      "23/23 [==============================] - 6s 266ms/step - loss: 0.2055 - accuracy: 0.9412 - val_loss: 186.6317 - val_accuracy: 0.0583\n",
      "Epoch 66/100\n",
      "23/23 [==============================] - 6s 259ms/step - loss: 0.2586 - accuracy: 0.9253 - val_loss: 169.8042 - val_accuracy: 0.0750\n",
      "Epoch 67/100\n",
      "23/23 [==============================] - 6s 266ms/step - loss: 0.2210 - accuracy: 0.9435 - val_loss: 183.0855 - val_accuracy: 0.0833\n",
      "Epoch 68/100\n",
      "23/23 [==============================] - 6s 258ms/step - loss: 0.3970 - accuracy: 0.8643 - val_loss: 138.6475 - val_accuracy: 0.0583\n",
      "Epoch 69/100\n",
      "23/23 [==============================] - 6s 261ms/step - loss: 0.3521 - accuracy: 0.8937 - val_loss: 139.3647 - val_accuracy: 0.0500\n",
      "Epoch 70/100\n",
      "23/23 [==============================] - 6s 267ms/step - loss: 0.3162 - accuracy: 0.8869 - val_loss: 186.0313 - val_accuracy: 0.0167\n",
      "Epoch 71/100\n",
      "23/23 [==============================] - 6s 261ms/step - loss: 0.4204 - accuracy: 0.8756 - val_loss: 176.6248 - val_accuracy: 0.0000e+00\n",
      "Epoch 72/100\n",
      "23/23 [==============================] - 6s 256ms/step - loss: 0.3935 - accuracy: 0.8869 - val_loss: 139.8862 - val_accuracy: 0.0083\n",
      "Epoch 73/100\n",
      "23/23 [==============================] - 6s 267ms/step - loss: 0.3182 - accuracy: 0.9140 - val_loss: 145.2220 - val_accuracy: 0.0667\n",
      "Epoch 74/100\n",
      "23/23 [==============================] - 6s 260ms/step - loss: 0.2690 - accuracy: 0.9140 - val_loss: 170.2637 - val_accuracy: 0.0833\n",
      "Epoch 75/100\n",
      "23/23 [==============================] - 6s 261ms/step - loss: 0.2922 - accuracy: 0.9118 - val_loss: 174.3565 - val_accuracy: 0.0500\n",
      "Epoch 76/100\n",
      "23/23 [==============================] - 6s 254ms/step - loss: 0.3750 - accuracy: 0.8937 - val_loss: 166.7154 - val_accuracy: 0.0500\n",
      "Epoch 77/100\n",
      "23/23 [==============================] - 6s 263ms/step - loss: 0.2696 - accuracy: 0.9072 - val_loss: 160.6708 - val_accuracy: 0.0667\n",
      "Epoch 78/100\n",
      "23/23 [==============================] - 6s 265ms/step - loss: 0.2340 - accuracy: 0.9163 - val_loss: 162.4035 - val_accuracy: 0.0750\n",
      "Epoch 79/100\n",
      "23/23 [==============================] - 6s 258ms/step - loss: 0.1721 - accuracy: 0.9367 - val_loss: 182.2302 - val_accuracy: 0.0667\n",
      "Epoch 80/100\n",
      "23/23 [==============================] - 6s 263ms/step - loss: 0.2238 - accuracy: 0.9434 - val_loss: 181.9853 - val_accuracy: 0.0250\n",
      "Epoch 81/100\n",
      "23/23 [==============================] - 6s 255ms/step - loss: 0.2059 - accuracy: 0.9299 - val_loss: 197.4584 - val_accuracy: 0.0750\n",
      "Epoch 82/100\n",
      "23/23 [==============================] - 6s 257ms/step - loss: 0.2370 - accuracy: 0.9186 - val_loss: 178.5318 - val_accuracy: 0.0583\n",
      "Epoch 83/100\n",
      "23/23 [==============================] - 6s 259ms/step - loss: 0.1546 - accuracy: 0.9412 - val_loss: 192.2301 - val_accuracy: 0.0500\n",
      "Epoch 84/100\n",
      "23/23 [==============================] - 6s 259ms/step - loss: 0.1763 - accuracy: 0.9412 - val_loss: 182.2514 - val_accuracy: 0.0583\n",
      "Epoch 85/100\n",
      "23/23 [==============================] - 6s 260ms/step - loss: 0.1816 - accuracy: 0.9344 - val_loss: 178.5351 - val_accuracy: 0.0750\n",
      "Epoch 86/100\n",
      "23/23 [==============================] - 6s 266ms/step - loss: 0.1706 - accuracy: 0.9412 - val_loss: 185.7754 - val_accuracy: 0.0417\n",
      "Epoch 87/100\n",
      "23/23 [==============================] - 6s 259ms/step - loss: 0.1638 - accuracy: 0.9457 - val_loss: 197.9173 - val_accuracy: 0.1167\n",
      "Epoch 88/100\n",
      "23/23 [==============================] - 6s 272ms/step - loss: 0.1607 - accuracy: 0.9457 - val_loss: 199.1028 - val_accuracy: 0.1000\n",
      "Epoch 89/100\n",
      "23/23 [==============================] - 6s 277ms/step - loss: 0.1914 - accuracy: 0.9344 - val_loss: 200.1403 - val_accuracy: 0.0167\n",
      "Epoch 90/100\n",
      "23/23 [==============================] - 6s 259ms/step - loss: 0.1105 - accuracy: 0.9570 - val_loss: 218.4767 - val_accuracy: 0.0333\n",
      "Epoch 91/100\n",
      "23/23 [==============================] - 6s 262ms/step - loss: 0.2529 - accuracy: 0.9276 - val_loss: 191.8922 - val_accuracy: 0.0250\n",
      "Epoch 92/100\n",
      "23/23 [==============================] - 6s 260ms/step - loss: 0.2028 - accuracy: 0.9367 - val_loss: 195.6260 - val_accuracy: 0.0500\n",
      "Epoch 93/100\n",
      "23/23 [==============================] - 6s 264ms/step - loss: 0.2238 - accuracy: 0.9283 - val_loss: 216.1073 - val_accuracy: 0.0417\n",
      "Epoch 94/100\n",
      "23/23 [==============================] - 6s 267ms/step - loss: 0.1915 - accuracy: 0.9478 - val_loss: 177.1390 - val_accuracy: 0.0583\n",
      "Epoch 95/100\n",
      "23/23 [==============================] - 6s 254ms/step - loss: 0.1965 - accuracy: 0.9253 - val_loss: 181.6719 - val_accuracy: 0.0917\n",
      "Epoch 96/100\n",
      "23/23 [==============================] - 6s 260ms/step - loss: 0.1818 - accuracy: 0.9412 - val_loss: 191.2197 - val_accuracy: 0.0750\n",
      "Epoch 97/100\n",
      "23/23 [==============================] - 6s 260ms/step - loss: 0.2162 - accuracy: 0.9389 - val_loss: 198.3364 - val_accuracy: 0.0417\n",
      "Epoch 98/100\n",
      "23/23 [==============================] - 6s 263ms/step - loss: 0.1605 - accuracy: 0.9570 - val_loss: 188.3544 - val_accuracy: 0.0750\n",
      "Epoch 99/100\n",
      "23/23 [==============================] - 6s 263ms/step - loss: 0.1784 - accuracy: 0.9525 - val_loss: 182.7037 - val_accuracy: 0.0417\n",
      "Epoch 100/100\n",
      "23/23 [==============================] - 6s 255ms/step - loss: 0.1305 - accuracy: 0.9593 - val_loss: 228.4317 - val_accuracy: 0.0250\n"
     ]
    }
   ],
   "source": [
    "results = model.fit_generator(train_image_gen,epochs=100,\n",
    "                              steps_per_epoch=23,\n",
    "                              validation_data=test_image_gen,\n",
    "                             validation_steps=6)"
   ]
  },
  {
   "cell_type": "code",
   "execution_count": 99,
   "id": "a7364563-8daa-40c3-b194-5dafffc7b2b6",
   "metadata": {
    "tags": []
   },
   "outputs": [],
   "source": [
    "#20 - 73%\n",
    "#50 - 80%"
   ]
  },
  {
   "cell_type": "code",
   "execution_count": 104,
   "id": "ea211218-0446-4267-ae15-8e4c88d3fbf8",
   "metadata": {
    "tags": []
   },
   "outputs": [],
   "source": [
    "# model.save('50epoch.h5')"
   ]
  },
  {
   "cell_type": "markdown",
   "id": "59a1f366-f92c-4135-a221-2303b239b56b",
   "metadata": {},
   "source": [
    "# Evaluating the Model"
   ]
  },
  {
   "cell_type": "code",
   "execution_count": 101,
   "id": "4f52770b-4852-4dd2-9b76-7d2b35673f22",
   "metadata": {
    "tags": []
   },
   "outputs": [
    {
     "data": {
      "text/plain": [
       "[0.7285974621772766,\n",
       " 0.7030965685844421,\n",
       " 0.7176684737205505,\n",
       " 0.7285974621772766,\n",
       " 0.750455379486084,\n",
       " 0.7085610032081604,\n",
       " 0.7194899916648865,\n",
       " 0.748633861541748,\n",
       " 0.7723132967948914,\n",
       " 0.7517856955528259,\n",
       " 0.7413479089736938,\n",
       " 0.7285974621772766,\n",
       " 0.744990885257721,\n",
       " 0.7304189205169678,\n",
       " 0.748633861541748,\n",
       " 0.7832422852516174,\n",
       " 0.7978141903877258,\n",
       " 0.7413479089736938,\n",
       " 0.7632058262825012,\n",
       " 0.7231329679489136,\n",
       " 0.7795992493629456,\n",
       " 0.7522768378257751,\n",
       " 0.7795992493629456,\n",
       " 0.7395263910293579,\n",
       " 0.7759562730789185,\n",
       " 0.7540983557701111,\n",
       " 0.7595628499984741,\n",
       " 0.7850637435913086,\n",
       " 0.7832422852516174,\n",
       " 0.8160291314125061,\n",
       " 0.7905282378196716,\n",
       " 0.7704917788505554,\n",
       " 0.7668488025665283,\n",
       " 0.7868852615356445,\n",
       " 0.7923497557640076,\n",
       " 0.7723132967948914,\n",
       " 0.7650273442268372,\n",
       " 0.7850637435913086,\n",
       " 0.7959927320480347,\n",
       " 0.7941712141036987,\n",
       " 0.8051002025604248,\n",
       " 0.7723132967948914,\n",
       " 0.7832422852516174,\n",
       " 0.806921660900116,\n",
       " 0.7868852615356445,\n",
       " 0.7923497557640076,\n",
       " 0.7595628499984741,\n",
       " 0.8014571666717529,\n",
       " 0.7850637435913086,\n",
       " 0.7613843083381653]"
      ]
     },
     "execution_count": 101,
     "metadata": {},
     "output_type": "execute_result"
    }
   ],
   "source": [
    "# results.history['accuracy']"
   ]
  },
  {
   "cell_type": "code",
   "execution_count": 120,
   "id": "197ae820-f22c-4d48-8f44-2b53e18595f2",
   "metadata": {
    "tags": []
   },
   "outputs": [
    {
     "data": {
      "text/plain": [
       "[<matplotlib.lines.Line2D at 0x1af0bf2f0d0>]"
      ]
     },
     "execution_count": 120,
     "metadata": {},
     "output_type": "execute_result"
    },
    {
     "data": {
      "image/png": "[encoded data removed]",
      "text/plain": [
       "<Figure size 640x480 with 1 Axes>"
      ]
     },
     "metadata": {},
     "output_type": "display_data"
    }
   ],
   "source": [
    "plt.plot(results.history['accuracy'])"
   ]
  },
  {
   "cell_type": "code",
   "execution_count": 121,
   "id": "aaa5caf7-0f8b-410c-9e65-e384b2f36e50",
   "metadata": {
    "tags": []
   },
   "outputs": [],
   "source": [
    "# model.save('cat_dog_100epochs.h5')"
   ]
  },
  {
   "cell_type": "markdown",
   "id": "4079cdaa-7e4c-4fac-aaa7-2df12c6cc40c",
   "metadata": {},
   "source": [
    "# Predicting on new images"
   ]
  },
  {
   "cell_type": "code",
   "execution_count": 122,
   "id": "bb15048b-37fd-4487-85f5-52a91f3ecd2f",
   "metadata": {
    "tags": []
   },
   "outputs": [],
   "source": [
    "names = list(train_image_gen.class_indices.keys())"
   ]
  },
  {
   "cell_type": "code",
   "execution_count": 123,
   "id": "9c7fae83-11ab-4a39-b658-8c51bf7673e0",
   "metadata": {
    "tags": []
   },
   "outputs": [
    {
     "data": {
      "text/plain": [
       "['Akhmedov Sanzhar',\n",
       " 'Alikhan Zhamankhan',\n",
       " 'Baibatchayeva Anar',\n",
       " 'Dalabay Abylay',\n",
       " 'Daniyar Raiymbekov',\n",
       " 'Duisenov Alikhan',\n",
       " 'Kenzhebay Askar',\n",
       " 'Kyran Yerkin',\n",
       " 'Maxat Ualikhan',\n",
       " 'Naryshov Ernar',\n",
       " 'Rysmambetov Nurtugan',\n",
       " 'Sagynbek Nurbolat',\n",
       " 'Zhetessov Nur',\n",
       " 'Zhumabekov Magjan']"
      ]
     },
     "execution_count": 123,
     "metadata": {},
     "output_type": "execute_result"
    }
   ],
   "source": [
    "names"
   ]
  },
  {
   "cell_type": "code",
   "execution_count": 124,
   "id": "8efb1a1c-6c65-4635-b4ed-e5937f2129c8",
   "metadata": {
    "tags": []
   },
   "outputs": [],
   "source": [
    "from keras.models import load_model\n"
   ]
  },
  {
   "cell_type": "code",
   "execution_count": 125,
   "id": "9bb0dd3b-8b61-475c-96a2-a30f9f3cd7b2",
   "metadata": {
    "tags": []
   },
   "outputs": [],
   "source": [
    "model = load_model('50epoch.h5')"
   ]
  },
  {
   "cell_type": "code",
   "execution_count": 126,
   "id": "ba9477f7-cdbf-4366-bdfd-e72d8fabf05c",
   "metadata": {
    "tags": []
   },
   "outputs": [],
   "source": [
    "import numpy as np\n",
    "import keras.utils as image\n",
    "ali_file = './photos/test/all/1.jpg'\n",
    "\n",
    "ali_img = image.load_img(ali_file, target_size=(150, 150))\n",
    "\n",
    "ali_img = image.img_to_array(ali_img)\n",
    "\n",
    "ali_img = np.expand_dims(ali_img, axis=0)\n",
    "ali_img = ali_img/255"
   ]
  },
  {
   "cell_type": "code",
   "execution_count": 131,
   "id": "05a23c95-dfad-4c22-ab70-0a3818a6e362",
   "metadata": {
    "tags": []
   },
   "outputs": [
    {
     "name": "stdout",
     "output_type": "stream",
     "text": [
      "1/1 [==============================] - 0s 53ms/step\n"
     ]
    },
    {
     "data": {
      "text/plain": [
       "0.1729376"
      ]
     },
     "execution_count": 131,
     "metadata": {},
     "output_type": "execute_result"
    }
   ],
   "source": [
    "prediction = model.predict(ali_img)\n",
    "pred = np.argmax(prediction)\n",
    "labels = (train_image_gen.class_indices)\n",
    "labels = dict((v,k) for k,v in labels.items())\n",
    "labels[pred]\n",
    "# print(labels)\n",
    "prediction[0][pred]\n"
   ]
  },
  {
   "cell_type": "code",
   "execution_count": 128,
   "id": "ab6e0a96-4aff-43b8-aa24-6e13751f0ea8",
   "metadata": {
    "tags": []
   },
   "outputs": [
    {
     "data": {
      "text/plain": [
       "array([[0.06362019, 0.1729376 , 0.06362019, 0.06362019, 0.06362019,\n",
       "        0.06362019, 0.06362019, 0.06362019, 0.06362019, 0.06362019,\n",
       "        0.06362019, 0.06362019, 0.06362019, 0.06362019]], dtype=float32)"
      ]
     },
     "execution_count": 128,
     "metadata": {},
     "output_type": "execute_result"
    }
   ],
   "source": [
    "prediction"
   ]
  },
  {
   "cell_type": "code",
   "execution_count": 129,
   "id": "4240772c-a6d2-4256-b3c4-99f5f1df560f",
   "metadata": {
    "tags": []
   },
   "outputs": [],
   "source": [
    "import cv2\n",
    "import numpy as np\n",
    "import matplotlib.pyplot as plt\n",
    "%matplotlib inline\n",
    "face_cascade = cv2.CascadeClassifier('C:/Users/aliha/Desktop/Third/Computer Vision/W3/DATA/haarcascades/haarcascade_frontalface_default.xml')\n"
   ]
  },
  {
   "cell_type": "code",
   "execution_count": 134,
   "id": "d3d8b376-639e-4f9f-b414-41f965baf5ac",
   "metadata": {
    "tags": []
   },
   "outputs": [
    {
     "name": "stdout",
     "output_type": "stream",
     "text": [
      "1/1 [==============================] - 0s 103ms/step\n",
      "1/1 [==============================] - 0s 74ms/step\n",
      "1/1 [==============================] - 0s 62ms/step\n",
      "1/1 [==============================] - 0s 53ms/step\n",
      "1/1 [==============================] - 0s 61ms/step\n",
      "1/1 [==============================] - 0s 65ms/step\n",
      "1/1 [==============================] - 0s 63ms/step\n",
      "1/1 [==============================] - 0s 64ms/step\n",
      "1/1 [==============================] - 0s 65ms/step\n",
      "1/1 [==============================] - 0s 71ms/step\n",
      "1/1 [==============================] - 0s 78ms/step\n",
      "1/1 [==============================] - 0s 62ms/step\n",
      "1/1 [==============================] - 0s 56ms/step\n",
      "1/1 [==============================] - 0s 49ms/step\n",
      "1/1 [==============================] - 0s 45ms/step\n",
      "1/1 [==============================] - 0s 52ms/step\n",
      "1/1 [==============================] - 0s 53ms/step\n",
      "1/1 [==============================] - 0s 56ms/step\n",
      "1/1 [==============================] - 0s 54ms/step\n",
      "1/1 [==============================] - 0s 64ms/step\n",
      "1/1 [==============================] - 0s 57ms/step\n",
      "1/1 [==============================] - 0s 52ms/step\n",
      "1/1 [==============================] - 0s 50ms/step\n",
      "1/1 [==============================] - 0s 53ms/step\n",
      "1/1 [==============================] - 0s 64ms/step\n",
      "1/1 [==============================] - 0s 51ms/step\n",
      "1/1 [==============================] - 0s 53ms/step\n",
      "1/1 [==============================] - 0s 55ms/step\n",
      "1/1 [==============================] - 0s 49ms/step\n",
      "1/1 [==============================] - 0s 50ms/step\n",
      "1/1 [==============================] - 0s 59ms/step\n",
      "1/1 [==============================] - 0s 47ms/step\n",
      "1/1 [==============================] - 0s 51ms/step\n",
      "1/1 [==============================] - 0s 61ms/step\n",
      "1/1 [==============================] - 0s 49ms/step\n",
      "1/1 [==============================] - 0s 54ms/step\n",
      "1/1 [==============================] - 0s 51ms/step\n",
      "1/1 [==============================] - 0s 57ms/step\n",
      "1/1 [==============================] - 0s 53ms/step\n",
      "1/1 [==============================] - 0s 63ms/step\n",
      "1/1 [==============================] - 0s 57ms/step\n",
      "1/1 [==============================] - 0s 52ms/step\n",
      "1/1 [==============================] - 0s 55ms/step\n",
      "1/1 [==============================] - 0s 53ms/step\n",
      "1/1 [==============================] - 0s 53ms/step\n",
      "1/1 [==============================] - 0s 54ms/step\n",
      "1/1 [==============================] - 0s 53ms/step\n",
      "1/1 [==============================] - 0s 61ms/step\n",
      "1/1 [==============================] - 0s 58ms/step\n",
      "1/1 [==============================] - 0s 53ms/step\n",
      "1/1 [==============================] - 0s 61ms/step\n",
      "1/1 [==============================] - 0s 56ms/step\n",
      "1/1 [==============================] - 0s 50ms/step\n",
      "1/1 [==============================] - 0s 50ms/step\n",
      "1/1 [==============================] - 0s 59ms/step\n",
      "1/1 [==============================] - 0s 54ms/step\n",
      "1/1 [==============================] - 0s 57ms/step\n",
      "1/1 [==============================] - 0s 56ms/step\n",
      "1/1 [==============================] - 0s 54ms/step\n",
      "1/1 [==============================] - 0s 58ms/step\n",
      "1/1 [==============================] - 0s 45ms/step\n",
      "1/1 [==============================] - 0s 51ms/step\n",
      "1/1 [==============================] - 0s 53ms/step\n",
      "1/1 [==============================] - 0s 57ms/step\n",
      "1/1 [==============================] - 0s 60ms/step\n",
      "1/1 [==============================] - 0s 57ms/step\n",
      "1/1 [==============================] - 0s 57ms/step\n",
      "1/1 [==============================] - 0s 57ms/step\n",
      "1/1 [==============================] - 0s 58ms/step\n",
      "1/1 [==============================] - 0s 58ms/step\n",
      "1/1 [==============================] - 0s 59ms/step\n",
      "1/1 [==============================] - 0s 62ms/step\n",
      "1/1 [==============================] - 0s 61ms/step\n",
      "1/1 [==============================] - 0s 62ms/step\n",
      "1/1 [==============================] - 0s 66ms/step\n",
      "1/1 [==============================] - 0s 50ms/step\n",
      "1/1 [==============================] - 0s 52ms/step\n",
      "1/1 [==============================] - 0s 49ms/step\n",
      "1/1 [==============================] - 0s 66ms/step\n",
      "1/1 [==============================] - 0s 60ms/step\n",
      "1/1 [==============================] - 0s 58ms/step\n",
      "1/1 [==============================] - 0s 58ms/step\n",
      "1/1 [==============================] - 0s 53ms/step\n",
      "1/1 [==============================] - 0s 64ms/step\n",
      "1/1 [==============================] - 0s 54ms/step\n",
      "1/1 [==============================] - 0s 46ms/step\n",
      "1/1 [==============================] - 0s 62ms/step\n",
      "1/1 [==============================] - 0s 52ms/step\n",
      "1/1 [==============================] - 0s 54ms/step\n",
      "1/1 [==============================] - 0s 62ms/step\n",
      "1/1 [==============================] - 0s 53ms/step\n",
      "1/1 [==============================] - 0s 55ms/step\n",
      "1/1 [==============================] - 0s 56ms/step\n",
      "1/1 [==============================] - 0s 57ms/step\n",
      "1/1 [==============================] - 0s 59ms/step\n",
      "1/1 [==============================] - 0s 57ms/step\n",
      "1/1 [==============================] - 0s 55ms/step\n",
      "1/1 [==============================] - 0s 58ms/step\n",
      "1/1 [==============================] - 0s 65ms/step\n",
      "1/1 [==============================] - 0s 53ms/step\n",
      "1/1 [==============================] - 0s 53ms/step\n",
      "1/1 [==============================] - 0s 53ms/step\n",
      "1/1 [==============================] - 0s 48ms/step\n",
      "1/1 [==============================] - 0s 58ms/step\n",
      "1/1 [==============================] - 0s 52ms/step\n",
      "1/1 [==============================] - 0s 53ms/step\n",
      "1/1 [==============================] - 0s 50ms/step\n",
      "1/1 [==============================] - 0s 58ms/step\n",
      "1/1 [==============================] - 0s 57ms/step\n",
      "1/1 [==============================] - 0s 55ms/step\n",
      "1/1 [==============================] - 0s 51ms/step\n",
      "1/1 [==============================] - 0s 58ms/step\n",
      "1/1 [==============================] - 0s 59ms/step\n",
      "1/1 [==============================] - 0s 49ms/step\n",
      "1/1 [==============================] - 0s 55ms/step\n",
      "1/1 [==============================] - 0s 64ms/step\n",
      "1/1 [==============================] - 0s 53ms/step\n",
      "1/1 [==============================] - 0s 51ms/step\n",
      "1/1 [==============================] - 0s 64ms/step\n",
      "1/1 [==============================] - 0s 53ms/step\n",
      "1/1 [==============================] - 0s 50ms/step\n",
      "1/1 [==============================] - 0s 58ms/step\n",
      "1/1 [==============================] - 0s 54ms/step\n",
      "1/1 [==============================] - 0s 52ms/step\n",
      "1/1 [==============================] - 0s 54ms/step\n",
      "1/1 [==============================] - 0s 52ms/step\n",
      "1/1 [==============================] - 0s 53ms/step\n",
      "1/1 [==============================] - 0s 53ms/step\n",
      "1/1 [==============================] - 0s 44ms/step\n",
      "1/1 [==============================] - 0s 54ms/step\n",
      "1/1 [==============================] - 0s 49ms/step\n",
      "1/1 [==============================] - 0s 52ms/step\n",
      "1/1 [==============================] - 0s 47ms/step\n",
      "1/1 [==============================] - 0s 58ms/step\n",
      "1/1 [==============================] - 0s 49ms/step\n",
      "1/1 [==============================] - 0s 54ms/step\n",
      "1/1 [==============================] - 0s 51ms/step\n",
      "1/1 [==============================] - 0s 52ms/step\n",
      "1/1 [==============================] - 0s 53ms/step\n",
      "1/1 [==============================] - 0s 57ms/step\n",
      "1/1 [==============================] - 0s 48ms/step\n",
      "1/1 [==============================] - 0s 53ms/step\n",
      "1/1 [==============================] - 0s 46ms/step\n",
      "1/1 [==============================] - 0s 49ms/step\n",
      "1/1 [==============================] - 0s 46ms/step\n",
      "1/1 [==============================] - 0s 49ms/step\n",
      "1/1 [==============================] - 0s 48ms/step\n",
      "1/1 [==============================] - 0s 50ms/step\n",
      "1/1 [==============================] - 0s 61ms/step\n",
      "1/1 [==============================] - 0s 48ms/step\n",
      "1/1 [==============================] - 0s 59ms/step\n",
      "1/1 [==============================] - 0s 48ms/step\n",
      "1/1 [==============================] - 0s 51ms/step\n",
      "1/1 [==============================] - 0s 58ms/step\n",
      "1/1 [==============================] - 0s 54ms/step\n",
      "1/1 [==============================] - 0s 57ms/step\n",
      "1/1 [==============================] - 0s 53ms/step\n",
      "1/1 [==============================] - 0s 50ms/step\n",
      "1/1 [==============================] - 0s 52ms/step\n",
      "1/1 [==============================] - 0s 51ms/step\n",
      "1/1 [==============================] - 0s 55ms/step\n",
      "1/1 [==============================] - 0s 54ms/step\n",
      "1/1 [==============================] - 0s 52ms/step\n",
      "1/1 [==============================] - 0s 47ms/step\n",
      "1/1 [==============================] - 0s 65ms/step\n",
      "1/1 [==============================] - 0s 54ms/step\n",
      "1/1 [==============================] - 0s 55ms/step\n",
      "1/1 [==============================] - 0s 53ms/step\n",
      "1/1 [==============================] - 0s 58ms/step\n",
      "1/1 [==============================] - 0s 49ms/step\n",
      "1/1 [==============================] - 0s 46ms/step\n",
      "1/1 [==============================] - 0s 56ms/step\n",
      "1/1 [==============================] - 0s 66ms/step\n",
      "1/1 [==============================] - 0s 53ms/step\n",
      "1/1 [==============================] - 0s 51ms/step\n",
      "1/1 [==============================] - 0s 52ms/step\n",
      "1/1 [==============================] - 0s 54ms/step\n",
      "1/1 [==============================] - 0s 52ms/step\n",
      "1/1 [==============================] - 0s 69ms/step\n",
      "1/1 [==============================] - 0s 63ms/step\n"
     ]
    }
   ],
   "source": [
    "\n",
    "cap = cv2.VideoCapture(0)\n",
    "fourcc = cv2.VideoWriter_fourcc(*'XVID')\n",
    "out = cv2.VideoWriter('output.avi',fourcc, 20.0, (640,  480))\n",
    "while True:\n",
    "    \n",
    "    ret, frame = cap.read()\n",
    "    gray = cv2.cvtColor(frame, cv2.COLOR_BGR2GRAY)\n",
    "    face_rects = face_cascade.detectMultiScale(gray, 1.3, 5)\n",
    "    \n",
    "    for (x,y,w,h) in face_rects:\n",
    "        cv2.rectangle(frame, (x,y), (x+w,y+h),(0,255,0), 2)\n",
    "        roi_face = frame[y:y+h, x:x+w]\n",
    "        roi_gray = gray[y:y+h, x:x+w]\n",
    "        img = roi_face.copy()\n",
    "        img = cv2.resize(img, (150, 150))\n",
    "        img = image.img_to_array(img)\n",
    "\n",
    "        img = np.expand_dims(img, axis=0)\n",
    "        img = img/255\n",
    "        predictions = model.predict(img)\n",
    "        pred = np.argmax(predictions)\n",
    "        name = labels[pred]\n",
    "        accuracy = predictions[0][pred] * 100\n",
    "        cv2.putText(frame, f\"{name}\", (10, 30), cv2.FONT_HERSHEY_SIMPLEX, 1, (0, 0, 255), 2)\n",
    "        \n",
    "    cv2.imshow('Face Recognition', frame)\n",
    "       \n",
    "    \n",
    "    k = cv2.waitKey(1)\n",
    "    if k == 27:\n",
    "        break\n",
    "cap.release()\n",
    "cv2.destroyAllWindows()\n",
    "    "
   ]
  },
  {
   "cell_type": "code",
   "execution_count": null,
   "id": "3095a4f8-346d-4307-a204-6d63afbf5759",
   "metadata": {},
   "outputs": [],
   "source": []
  },
  {
   "cell_type": "code",
   "execution_count": null,
   "id": "e54db416-5280-4198-8ad4-64b16c689136",
   "metadata": {},
   "outputs": [],
   "source": []
  },
  {
   "cell_type": "code",
   "execution_count": null,
   "id": "396dc41e-1f4e-4a9a-83c5-28f7f319faaf",
   "metadata": {},
   "outputs": [],
   "source": []
  },
  {
   "cell_type": "code",
   "execution_count": null,
   "id": "f8509cda-55c4-4db8-ba0a-49df7f327b60",
   "metadata": {},
   "outputs": [],
   "source": []
  },
  {
   "cell_type": "code",
   "execution_count": 28,
   "id": "b2bf4b88-d517-4f4f-a105-e66f4f44c758",
   "metadata": {
    "tags": []
   },
   "outputs": [
    {
     "name": "stdout",
     "output_type": "stream",
     "text": [
      "[WinError 183] Невозможно создать файл, так как он уже существует: 'C:/Users/aliha/Desktop/Third/Computer Vision/Project4/DL/cropped/Akhmedov Sanzhar'\n",
      "[WinError 183] Невозможно создать файл, так как он уже существует: 'C:/Users/aliha/Desktop/Third/Computer Vision/Project4/DL/cropped/Alikhan Zhamankhan'\n",
      "[WinError 183] Невозможно создать файл, так как он уже существует: 'C:/Users/aliha/Desktop/Third/Computer Vision/Project4/DL/cropped/Baibatchayeva Anar'\n",
      "[WinError 183] Невозможно создать файл, так как он уже существует: 'C:/Users/aliha/Desktop/Third/Computer Vision/Project4/DL/cropped/Dalabay Abylay'\n",
      "[WinError 183] Невозможно создать файл, так как он уже существует: 'C:/Users/aliha/Desktop/Third/Computer Vision/Project4/DL/cropped/Daniyar Raiymbekov'\n",
      "[WinError 183] Невозможно создать файл, так как он уже существует: 'C:/Users/aliha/Desktop/Third/Computer Vision/Project4/DL/cropped/Duisenov Alikhan'\n",
      "[WinError 183] Невозможно создать файл, так как он уже существует: 'C:/Users/aliha/Desktop/Third/Computer Vision/Project4/DL/cropped/Kenzhebay Askar'\n",
      "[WinError 183] Невозможно создать файл, так как он уже существует: 'C:/Users/aliha/Desktop/Third/Computer Vision/Project4/DL/cropped/Kyran Yerkin'\n",
      "[WinError 183] Невозможно создать файл, так как он уже существует: 'C:/Users/aliha/Desktop/Third/Computer Vision/Project4/DL/cropped/Maxat Ualikhan'\n",
      "[WinError 183] Невозможно создать файл, так как он уже существует: 'C:/Users/aliha/Desktop/Third/Computer Vision/Project4/DL/cropped/Naryshov Ernar'\n",
      "[WinError 183] Невозможно создать файл, так как он уже существует: 'C:/Users/aliha/Desktop/Third/Computer Vision/Project4/DL/cropped/Rysmambetov Nurtugan'\n"
     ]
    },
    {
     "ename": "error",
     "evalue": "OpenCV(4.7.0) D:\\a\\opencv-python\\opencv-python\\opencv\\modules\\imgcodecs\\src\\loadsave.cpp:783: error: (-215:Assertion failed) !_img.empty() in function 'cv::imwrite'\n",
     "output_type": "error",
     "traceback": [
      "\u001b[1;31m---------------------------------------------------------------------------\u001b[0m",
      "\u001b[1;31merror\u001b[0m                                     Traceback (most recent call last)",
      "Cell \u001b[1;32mIn[28], line 27\u001b[0m\n\u001b[0;32m     25\u001b[0m crop_filename \u001b[38;5;241m=\u001b[39m \u001b[38;5;124mf\u001b[39m\u001b[38;5;124m'\u001b[39m\u001b[38;5;132;01m{\u001b[39;00mos\u001b[38;5;241m.\u001b[39mpath\u001b[38;5;241m.\u001b[39msplitext(filename)[\u001b[38;5;241m0\u001b[39m]\u001b[38;5;132;01m}\u001b[39;00m\u001b[38;5;124m_\u001b[39m\u001b[38;5;132;01m{\u001b[39;00mx\u001b[38;5;132;01m}\u001b[39;00m\u001b[38;5;124m_\u001b[39m\u001b[38;5;132;01m{\u001b[39;00my\u001b[38;5;132;01m}\u001b[39;00m\u001b[38;5;124m.jpg\u001b[39m\u001b[38;5;124m'\u001b[39m\n\u001b[0;32m     26\u001b[0m crop_path \u001b[38;5;241m=\u001b[39m os\u001b[38;5;241m.\u001b[39mpath\u001b[38;5;241m.\u001b[39mjoin(destination_folder, crop_filename)\n\u001b[1;32m---> 27\u001b[0m \u001b[43mcv2\u001b[49m\u001b[38;5;241;43m.\u001b[39;49m\u001b[43mimwrite\u001b[49m\u001b[43m(\u001b[49m\u001b[43mcrop_path\u001b[49m\u001b[43m,\u001b[49m\u001b[43m \u001b[49m\u001b[43mcropped\u001b[49m\u001b[43m)\u001b[49m\n",
      "\u001b[1;31merror\u001b[0m: OpenCV(4.7.0) D:\\a\\opencv-python\\opencv-python\\opencv\\modules\\imgcodecs\\src\\loadsave.cpp:783: error: (-215:Assertion failed) !_img.empty() in function 'cv::imwrite'\n"
     ]
    }
   ],
   "source": [
    "import cv2\n",
    "import os\n",
    "for name in names:\n",
    "    \n",
    "    source_folder = 'C:/Users/aliha/Desktop/Third/Computer Vision/Project4/DL/photo/'+name\n",
    "    destination_folder = 'C:/Users/aliha/Desktop/Third/Computer Vision/Project4/DL/cropped/' + name\n",
    "    try: \n",
    "        os.mkdir(destination_folder) \n",
    "    except OSError as error: \n",
    "        print(error)\n",
    "        continue\n",
    "\n",
    "    face_cascade = cv2.CascadeClassifier('haarcascade_frontalface_default.xml')\n",
    "\n",
    "    for filename in os.listdir(source_folder):\n",
    "        if not filename.endswith('.jpg'):  # skip non-jpg files\n",
    "            continue\n",
    "        image_path = os.path.join(source_folder, filename)\n",
    "        image = cv2.imread(image_path)\n",
    "        gray = cv2.cvtColor(image, cv2.COLOR_BGR2GRAY)\n",
    "        faces = face_cascade.detectMultiScale(gray, scaleFactor=1.3, minNeighbors=5)\n",
    "        for (x, y, w, h) in faces:\n",
    "            cropped = image[y+20:y+h-20, x+25 *(w > 25) :x+w-25*(w > 25)]\n",
    "                \n",
    "            crop_filename = f'{os.path.splitext(filename)[0]}_{x}_{y}.jpg'\n",
    "            crop_path = os.path.join(destination_folder, crop_filename)\n",
    "            cv2.imwrite(crop_path, cropped)\n"
   ]
  },
  {
   "cell_type": "code",
   "execution_count": null,
   "id": "7517ca25-637d-40c8-b2b4-2f214d57131d",
   "metadata": {},
   "outputs": [],
   "source": []
  }
 ],
 "metadata": {
  "kernelspec": {
   "display_name": "Python 3 (ipykernel)",
   "language": "python",
   "name": "python3"
  },
  "language_info": {
   "codemirror_mode": {
    "name": "ipython",
    "version": 3
   },
   "file_extension": ".py",
   "mimetype": "text/x-python",
   "name": "python",
   "nbconvert_exporter": "python",
   "pygments_lexer": "ipython3",
   "version": "3.10.9"
  }
 },
 "nbformat": 4,
 "nbformat_minor": 5
}
