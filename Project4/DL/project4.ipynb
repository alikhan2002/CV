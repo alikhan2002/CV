{
 "cells": [
  {
   "cell_type": "code",
   "execution_count": 2,
   "id": "54e16ab2-dcc4-4fdc-9b1f-7a3d3c9cbed6",
   "metadata": {},
   "outputs": [
    {
     "ename": "SyntaxError",
     "evalue": "invalid syntax (2876357403.py, line 1)",
     "output_type": "error",
     "traceback": [
      "\u001b[1;36m  Cell \u001b[1;32mIn[2], line 1\u001b[1;36m\u001b[0m\n\u001b[1;33m    попробовать улучшить cifar10 до 80%\u001b[0m\n\u001b[1;37m                ^\u001b[0m\n\u001b[1;31mSyntaxError\u001b[0m\u001b[1;31m:\u001b[0m invalid syntax\n"
     ]
    }
   ],
   "source": [
    "попробовать улучшить cifar10 до 80%"
   ]
  },
  {
   "cell_type": "code",
   "execution_count": null,
   "id": "1c10d4a4-6deb-4c2a-a3e5-c687929e349f",
   "metadata": {},
   "outputs": [],
   "source": []
  },
  {
   "cell_type": "code",
   "execution_count": 1,
   "id": "acac4fe1-b3af-4867-831f-5a12ab29b2f4",
   "metadata": {
    "tags": []
   },
   "outputs": [],
   "source": [
    "import matplotlib.pyplot as plt\n",
    "import cv2\n",
    "# Technically not necessary in newest versions of jupyter\n",
    "%matplotlib inline\n",
    "path = 'C:/Users/aliha/Desktop/Third/Computer Vision/Project4/DL/photos/'"
   ]
  },
  {
   "cell_type": "code",
   "execution_count": 4,
   "id": "f17eb835-65c8-4eca-971d-8354a7907394",
   "metadata": {},
   "outputs": [
    {
     "ename": "SyntaxError",
     "evalue": "invalid syntax (3009756337.py, line 1)",
     "output_type": "error",
     "traceback": [
      "\u001b[1;36m  Cell \u001b[1;32mIn[4], line 1\u001b[1;36m\u001b[0m\n\u001b[1;33m    pip3 install keras\u001b[0m\n\u001b[1;37m         ^\u001b[0m\n\u001b[1;31mSyntaxError\u001b[0m\u001b[1;31m:\u001b[0m invalid syntax\n"
     ]
    }
   ],
   "source": [
    "pip3 install keras\n",
    "# "
   ]
  },
  {
   "cell_type": "code",
   "execution_count": 1,
   "id": "e86f73aa-47b1-463a-8566-9fb09315a1f0",
   "metadata": {
    "tags": []
   },
   "outputs": [
    {
     "ename": "ModuleNotFoundError",
     "evalue": "No module named 'keras'",
     "output_type": "error",
     "traceback": [
      "\u001b[1;31m---------------------------------------------------------------------------\u001b[0m",
      "\u001b[1;31mModuleNotFoundError\u001b[0m                       Traceback (most recent call last)",
      "Cell \u001b[1;32mIn[1], line 1\u001b[0m\n\u001b[1;32m----> 1\u001b[0m \u001b[38;5;28;01mfrom\u001b[39;00m \u001b[38;5;21;01mkeras\u001b[39;00m\u001b[38;5;21;01m.\u001b[39;00m\u001b[38;5;21;01mpreprocessing\u001b[39;00m\u001b[38;5;21;01m.\u001b[39;00m\u001b[38;5;21;01mimage\u001b[39;00m \u001b[38;5;28;01mimport\u001b[39;00m ImageDataGenerator\n",
      "\u001b[1;31mModuleNotFoundError\u001b[0m: No module named 'keras'"
     ]
    }
   ],
   "source": [
    "from keras.preprocessing.image import ImageDataGenerator\n"
   ]
  },
  {
   "cell_type": "code",
   "execution_count": 2,
   "id": "56416aca-0a0e-4d45-b3bf-b1e6e4e2fd13",
   "metadata": {
    "tags": []
   },
   "outputs": [],
   "source": [
    "# width,height,channels\n",
    "image_shape = (150,150,3)\n",
    "batch_size = 20"
   ]
  },
  {
   "cell_type": "code",
   "execution_count": 8,
   "id": "51155b9c-7d60-418f-90f1-d647c65fcd05",
   "metadata": {
    "tags": []
   },
   "outputs": [],
   "source": [
    "image_gen = ImageDataGenerator(rotation_range=30, # rotate the image 30 degrees\n",
    "                               width_shift_range=0.1, # Shift the pic width by a max of 10%\n",
    "                               height_shift_range=0.1, # Shift the pic height by a max of 10%\n",
    "                               rescale=1/255, # Rescale the image by normalzing it.\n",
    "                               shear_range=0.2, # Shear means cutting away part of the image (max 20%)\n",
    "                               zoom_range=0.2, # Zoom in by 20% max\n",
    "                               horizontal_flip=True, # Allo horizontal flipping\n",
    "                               fill_mode='nearest' # Fill in missing pixels with the nearest filled value\n",
    "                              )"
   ]
  },
  {
   "cell_type": "code",
   "execution_count": 9,
   "id": "1ce5a8a0-d9ef-4995-8c57-dff61488e69e",
   "metadata": {
    "tags": []
   },
   "outputs": [
    {
     "name": "stdout",
     "output_type": "stream",
     "text": [
      "Found 569 images belonging to 14 classes.\n",
      "Found 135 images belonging to 1 classes.\n"
     ]
    }
   ],
   "source": [
    "train_image_gen = image_gen.flow_from_directory(path+'train',\n",
    "                                               target_size=image_shape[:2],\n",
    "                                               batch_size=batch_size,\n",
    "                                               class_mode='categorical')\n",
    "test_image_gen = image_gen.flow_from_directory(path+'test',\n",
    "                                               target_size=image_shape[:2],\n",
    "                                               batch_size=batch_size,\n",
    "                                               class_mode='categorical')"
   ]
  },
  {
   "cell_type": "code",
   "execution_count": 10,
   "id": "66c0d652-02ae-4781-b55c-1246dc15339e",
   "metadata": {
    "tags": []
   },
   "outputs": [
    {
     "data": {
      "text/plain": [
       "29"
      ]
     },
     "execution_count": 10,
     "metadata": {},
     "output_type": "execute_result"
    }
   ],
   "source": [
    "len(train_image_gen)"
   ]
  },
  {
   "cell_type": "markdown",
   "id": "7f8218a0-213a-4238-b964-f07d3e2540a6",
   "metadata": {},
   "source": [
    "# Creating the Model"
   ]
  },
  {
   "cell_type": "code",
   "execution_count": null,
   "id": "a9b26989-a30f-4400-85a8-3a1ae1edf291",
   "metadata": {
    "tags": []
   },
   "outputs": [],
   "source": [
    "from keras.models import Sequential\n",
    "from keras.layers import Activation, Dropout, Flatten, Dense, Conv2D, MaxPooling2D"
   ]
  },
  {
   "cell_type": "code",
   "execution_count": 30,
   "id": "d3c68421-3536-4ef7-a621-aef6a725ee82",
   "metadata": {
    "tags": []
   },
   "outputs": [],
   "source": [
    "model = Sequential()\n",
    "\n",
    "model.add(Conv2D(filters=32, kernel_size=(3,3),input_shape=image_shape, activation='relu',))\n",
    "model.add(MaxPooling2D(pool_size=(2, 2)))\n",
    "\n",
    "model.add(Conv2D(filters=64, kernel_size=(3,3),input_shape=image_shape, activation='relu',))\n",
    "model.add(MaxPooling2D(pool_size=(2, 2)))\n",
    "\n",
    "model.add(Conv2D(filters=64, kernel_size=(3,3),input_shape=image_shape, activation='relu',))\n",
    "model.add(MaxPooling2D(pool_size=(2, 2)))\n",
    "\n",
    "\n",
    "model.add(Flatten())\n",
    "\n",
    "\n",
    "model.add(Dense(128))\n",
    "model.add(Activation('relu'))\n",
    "\n",
    "# Dropouts help reduce overfitting by randomly turning neurons off during training.\n",
    "# Here we say randomly turn off 50% of neurons.\n",
    "model.add(Dropout(0.5))\n",
    "\n",
    "# 13, because we have 13 classes_faces\n",
    "model.add(Dense(14))\n",
    "model.add(Activation('softmax'))\n",
    "\n",
    "model.compile(loss='categorical_crossentropy',\n",
    "              optimizer='adam',\n",
    "              metrics=['accuracy'])"
   ]
  },
  {
   "cell_type": "code",
   "execution_count": 31,
   "id": "d1bd935f-3768-460d-bbd3-91d64d9c7bcb",
   "metadata": {
    "tags": []
   },
   "outputs": [
    {
     "name": "stdout",
     "output_type": "stream",
     "text": [
      "Model: \"sequential_2\"\n",
      "_________________________________________________________________\n",
      " Layer (type)                Output Shape              Param #   \n",
      "=================================================================\n",
      " conv2d_6 (Conv2D)           (None, 148, 148, 32)      896       \n",
      "                                                                 \n",
      " max_pooling2d_6 (MaxPooling  (None, 74, 74, 32)       0         \n",
      " 2D)                                                             \n",
      "                                                                 \n",
      " conv2d_7 (Conv2D)           (None, 72, 72, 64)        18496     \n",
      "                                                                 \n",
      " max_pooling2d_7 (MaxPooling  (None, 36, 36, 64)       0         \n",
      " 2D)                                                             \n",
      "                                                                 \n",
      " conv2d_8 (Conv2D)           (None, 34, 34, 64)        36928     \n",
      "                                                                 \n",
      " max_pooling2d_8 (MaxPooling  (None, 17, 17, 64)       0         \n",
      " 2D)                                                             \n",
      "                                                                 \n",
      " flatten_2 (Flatten)         (None, 18496)             0         \n",
      "                                                                 \n",
      " dense_4 (Dense)             (None, 128)               2367616   \n",
      "                                                                 \n",
      " activation_4 (Activation)   (None, 128)               0         \n",
      "                                                                 \n",
      " dropout_2 (Dropout)         (None, 128)               0         \n",
      "                                                                 \n",
      " dense_5 (Dense)             (None, 14)                1806      \n",
      "                                                                 \n",
      " activation_5 (Activation)   (None, 14)                0         \n",
      "                                                                 \n",
      "=================================================================\n",
      "Total params: 2,425,742\n",
      "Trainable params: 2,425,742\n",
      "Non-trainable params: 0\n",
      "_________________________________________________________________\n"
     ]
    }
   ],
   "source": [
    "model.summary()"
   ]
  },
  {
   "cell_type": "markdown",
   "id": "b07c5629-32d1-4f0f-bea6-aca5dacf1001",
   "metadata": {},
   "source": [
    "### Training the Model"
   ]
  },
  {
   "cell_type": "code",
   "execution_count": 32,
   "id": "36f9f86e-1817-4ea2-b352-c1980835053b",
   "metadata": {
    "tags": []
   },
   "outputs": [
    {
     "name": "stdout",
     "output_type": "stream",
     "text": [
      "Found 569 images belonging to 14 classes.\n"
     ]
    }
   ],
   "source": [
    "batch_size = 20\n",
    "train_image_gen = image_gen.flow_from_directory('./photos/train',\n",
    "                                               target_size=image_shape[:2],\n",
    "                                               batch_size=batch_size,\n",
    "                                               class_mode='categorical')"
   ]
  },
  {
   "cell_type": "code",
   "execution_count": 33,
   "id": "fcaa8572-e9aa-468c-b006-6d611a47bc93",
   "metadata": {
    "tags": []
   },
   "outputs": [
    {
     "name": "stdout",
     "output_type": "stream",
     "text": [
      "Found 135 images belonging to 1 classes.\n"
     ]
    }
   ],
   "source": [
    "test_image_gen = image_gen.flow_from_directory('./photos/test',\n",
    "                                               target_size=image_shape[:2],\n",
    "                                               batch_size=batch_size,\n",
    "                                               class_mode='categorical')"
   ]
  },
  {
   "cell_type": "code",
   "execution_count": 34,
   "id": "8b748cfc-5527-4c8c-b435-1bceb6fcf031",
   "metadata": {
    "tags": []
   },
   "outputs": [
    {
     "data": {
      "text/plain": [
       "{'Akhmedov Sanzhar': 0,\n",
       " 'Alikhan Zhamankhan': 1,\n",
       " 'Baibatchayeva Anar': 2,\n",
       " 'Dalabay Abylay': 3,\n",
       " 'Daniyar Raiymbekov': 4,\n",
       " 'Duisenov Alikhan': 5,\n",
       " 'Kenzhebay Askar': 6,\n",
       " 'Kyran Yerkin': 7,\n",
       " 'Maxat Ualikhan': 8,\n",
       " 'Naryshov Ernar': 9,\n",
       " 'Rysmambetov Nurtugan': 10,\n",
       " 'Sagynbek Nurbolat': 11,\n",
       " 'Zhetessov Nur': 12,\n",
       " 'Zhumabekov Magjan': 13}"
      ]
     },
     "execution_count": 34,
     "metadata": {},
     "output_type": "execute_result"
    }
   ],
   "source": [
    "train_image_gen.class_indices"
   ]
  },
  {
   "cell_type": "code",
   "execution_count": 35,
   "id": "c11307c3-7255-49db-b6ea-52638d631c61",
   "metadata": {
    "tags": []
   },
   "outputs": [],
   "source": [
    "import warnings\n",
    "warnings.filterwarnings('ignore')"
   ]
  },
  {
   "cell_type": "code",
   "execution_count": 36,
   "id": "b09fc7ca-5d3c-4c8a-b7ca-58ebe085863a",
   "metadata": {
    "scrolled": true,
    "tags": []
   },
   "outputs": [
    {
     "name": "stdout",
     "output_type": "stream",
     "text": [
      "Epoch 1/50\n",
      "28/28 [==============================] - 72s 2s/step - loss: 2.6676 - accuracy: 0.0820 - val_loss: 37.0635 - val_accuracy: 0.5667\n",
      "Epoch 2/50\n",
      "28/28 [==============================] - 30s 1s/step - loss: 2.4513 - accuracy: 0.1803 - val_loss: 41.2229 - val_accuracy: 0.0250\n",
      "Epoch 3/50\n",
      "28/28 [==============================] - 30s 1s/step - loss: 2.1428 - accuracy: 0.2982 - val_loss: 44.7901 - val_accuracy: 0.0750\n",
      "Epoch 4/50\n",
      "28/28 [==============================] - 30s 1s/step - loss: 1.8176 - accuracy: 0.4262 - val_loss: 58.3870 - val_accuracy: 0.0167\n",
      "Epoch 5/50\n",
      "28/28 [==============================] - 30s 1s/step - loss: 1.5905 - accuracy: 0.4936 - val_loss: 65.2077 - val_accuracy: 0.1333\n",
      "Epoch 6/50\n",
      "28/28 [==============================] - 30s 1s/step - loss: 1.4451 - accuracy: 0.5501 - val_loss: 60.8039 - val_accuracy: 0.1333\n",
      "Epoch 7/50\n",
      "28/28 [==============================] - 30s 1s/step - loss: 1.3913 - accuracy: 0.5610 - val_loss: 73.5671 - val_accuracy: 0.1000\n",
      "Epoch 8/50\n",
      "28/28 [==============================] - 30s 1s/step - loss: 1.2973 - accuracy: 0.6047 - val_loss: 80.4698 - val_accuracy: 0.1333\n",
      "Epoch 9/50\n",
      "28/28 [==============================] - 29s 1s/step - loss: 1.0909 - accuracy: 0.6485 - val_loss: 77.3711 - val_accuracy: 0.0583\n",
      "Epoch 10/50\n",
      "28/28 [==============================] - 29s 1s/step - loss: 1.0899 - accuracy: 0.6612 - val_loss: 84.5212 - val_accuracy: 0.0833\n",
      "Epoch 11/50\n",
      "28/28 [==============================] - 30s 1s/step - loss: 1.0523 - accuracy: 0.6557 - val_loss: 81.7165 - val_accuracy: 0.0500\n",
      "Epoch 12/50\n",
      "28/28 [==============================] - 30s 1s/step - loss: 0.9817 - accuracy: 0.6958 - val_loss: 80.9809 - val_accuracy: 0.1000\n",
      "Epoch 13/50\n",
      "28/28 [==============================] - 29s 1s/step - loss: 0.9073 - accuracy: 0.6940 - val_loss: 83.0924 - val_accuracy: 0.0833\n",
      "Epoch 14/50\n",
      "28/28 [==============================] - 29s 1s/step - loss: 0.9699 - accuracy: 0.7067 - val_loss: 86.6609 - val_accuracy: 0.1083\n",
      "Epoch 15/50\n",
      "28/28 [==============================] - 29s 1s/step - loss: 0.9267 - accuracy: 0.7122 - val_loss: 82.4851 - val_accuracy: 0.0667\n",
      "Epoch 16/50\n",
      "28/28 [==============================] - 29s 1s/step - loss: 0.8370 - accuracy: 0.7486 - val_loss: 99.7682 - val_accuracy: 0.0417\n",
      "Epoch 17/50\n",
      "28/28 [==============================] - 30s 1s/step - loss: 0.7639 - accuracy: 0.7395 - val_loss: 102.8410 - val_accuracy: 0.0417\n",
      "Epoch 18/50\n",
      "28/28 [==============================] - 30s 1s/step - loss: 0.7132 - accuracy: 0.7741 - val_loss: 114.1593 - val_accuracy: 0.1083\n",
      "Epoch 19/50\n",
      "28/28 [==============================] - 29s 1s/step - loss: 0.7203 - accuracy: 0.7796 - val_loss: 103.8719 - val_accuracy: 0.0417\n",
      "Epoch 20/50\n",
      "28/28 [==============================] - 30s 1s/step - loss: 0.7993 - accuracy: 0.7559 - val_loss: 93.1446 - val_accuracy: 0.0667\n",
      "Epoch 21/50\n",
      "28/28 [==============================] - 30s 1s/step - loss: 0.6256 - accuracy: 0.8087 - val_loss: 123.1573 - val_accuracy: 0.0250\n",
      "Epoch 22/50\n",
      "28/28 [==============================] - 29s 1s/step - loss: 0.7242 - accuracy: 0.7723 - val_loss: 109.4542 - val_accuracy: 0.1000\n",
      "Epoch 23/50\n",
      "28/28 [==============================] - 29s 1s/step - loss: 0.6848 - accuracy: 0.7796 - val_loss: 110.2313 - val_accuracy: 0.1250\n",
      "Epoch 24/50\n",
      "28/28 [==============================] - 29s 1s/step - loss: 0.6282 - accuracy: 0.7869 - val_loss: 114.6035 - val_accuracy: 0.0750\n",
      "Epoch 25/50\n",
      "28/28 [==============================] - 29s 1s/step - loss: 0.5717 - accuracy: 0.7978 - val_loss: 126.0138 - val_accuracy: 0.1250\n",
      "Epoch 26/50\n",
      "28/28 [==============================] - 29s 1s/step - loss: 0.5309 - accuracy: 0.8069 - val_loss: 135.1610 - val_accuracy: 0.1250\n",
      "Epoch 27/50\n",
      "28/28 [==============================] - 29s 1s/step - loss: 0.5477 - accuracy: 0.8233 - val_loss: 134.3154 - val_accuracy: 0.1000\n",
      "Epoch 28/50\n",
      "28/28 [==============================] - 29s 1s/step - loss: 0.5280 - accuracy: 0.8270 - val_loss: 129.5052 - val_accuracy: 0.0833\n",
      "Epoch 29/50\n",
      "28/28 [==============================] - 29s 1s/step - loss: 0.5161 - accuracy: 0.8361 - val_loss: 139.4793 - val_accuracy: 0.0583\n",
      "Epoch 30/50\n",
      "28/28 [==============================] - 30s 1s/step - loss: 0.4137 - accuracy: 0.8579 - val_loss: 143.9698 - val_accuracy: 0.1250\n",
      "Epoch 31/50\n",
      "28/28 [==============================] - 29s 1s/step - loss: 0.5001 - accuracy: 0.8197 - val_loss: 151.4892 - val_accuracy: 0.0917\n",
      "Epoch 32/50\n",
      "28/28 [==============================] - 29s 1s/step - loss: 0.5065 - accuracy: 0.8251 - val_loss: 140.4108 - val_accuracy: 0.0833\n",
      "Epoch 33/50\n",
      "28/28 [==============================] - 29s 1s/step - loss: 0.5666 - accuracy: 0.8087 - val_loss: 120.1906 - val_accuracy: 0.0333\n",
      "Epoch 34/50\n",
      "28/28 [==============================] - 29s 1s/step - loss: 0.4872 - accuracy: 0.8361 - val_loss: 154.4259 - val_accuracy: 0.1000\n",
      "Epoch 35/50\n",
      "28/28 [==============================] - 30s 1s/step - loss: 0.4842 - accuracy: 0.8415 - val_loss: 133.6577 - val_accuracy: 0.0500\n",
      "Epoch 36/50\n",
      "28/28 [==============================] - 30s 1s/step - loss: 0.5145 - accuracy: 0.8324 - val_loss: 144.8094 - val_accuracy: 0.0833\n",
      "Epoch 37/50\n",
      "28/28 [==============================] - 30s 1s/step - loss: 0.5115 - accuracy: 0.8268 - val_loss: 140.7106 - val_accuracy: 0.0750\n",
      "Epoch 38/50\n",
      "28/28 [==============================] - 29s 1s/step - loss: 0.4657 - accuracy: 0.8652 - val_loss: 138.0682 - val_accuracy: 0.1250\n",
      "Epoch 39/50\n",
      "28/28 [==============================] - 30s 1s/step - loss: 0.5010 - accuracy: 0.8397 - val_loss: 138.5591 - val_accuracy: 0.1000\n",
      "Epoch 40/50\n",
      "28/28 [==============================] - 29s 1s/step - loss: 0.4302 - accuracy: 0.8743 - val_loss: 150.2708 - val_accuracy: 0.1000\n",
      "Epoch 41/50\n",
      "28/28 [==============================] - 30s 1s/step - loss: 0.4312 - accuracy: 0.8616 - val_loss: 147.2528 - val_accuracy: 0.0917\n",
      "Epoch 42/50\n",
      "28/28 [==============================] - 30s 1s/step - loss: 0.4684 - accuracy: 0.8525 - val_loss: 138.2963 - val_accuracy: 0.1083\n",
      "Epoch 43/50\n",
      "28/28 [==============================] - 30s 1s/step - loss: 0.4243 - accuracy: 0.8597 - val_loss: 150.0896 - val_accuracy: 0.1083\n",
      "Epoch 44/50\n",
      "28/28 [==============================] - 29s 1s/step - loss: 0.3900 - accuracy: 0.8579 - val_loss: 157.5516 - val_accuracy: 0.1000\n",
      "Epoch 45/50\n",
      "28/28 [==============================] - 29s 1s/step - loss: 0.4073 - accuracy: 0.8707 - val_loss: 148.6430 - val_accuracy: 0.1000\n",
      "Epoch 46/50\n",
      "28/28 [==============================] - 30s 1s/step - loss: 0.4119 - accuracy: 0.8634 - val_loss: 172.0193 - val_accuracy: 0.1000\n",
      "Epoch 47/50\n",
      "28/28 [==============================] - 29s 1s/step - loss: 0.4090 - accuracy: 0.8634 - val_loss: 159.0269 - val_accuracy: 0.0167\n",
      "Epoch 48/50\n",
      "28/28 [==============================] - 30s 1s/step - loss: 0.4342 - accuracy: 0.8589 - val_loss: 178.5747 - val_accuracy: 0.0917\n",
      "Epoch 49/50\n",
      "28/28 [==============================] - 30s 1s/step - loss: 0.4030 - accuracy: 0.8579 - val_loss: 160.7929 - val_accuracy: 0.0833\n",
      "Epoch 50/50\n",
      "28/28 [==============================] - 29s 1s/step - loss: 0.2743 - accuracy: 0.9071 - val_loss: 184.9934 - val_accuracy: 0.1083\n"
     ]
    }
   ],
   "source": [
    "results = model.fit_generator(train_image_gen,epochs=50,\n",
    "                              steps_per_epoch=28,\n",
    "                              validation_data=test_image_gen,\n",
    "                             validation_steps=6)"
   ]
  },
  {
   "cell_type": "code",
   "execution_count": 37,
   "id": "e92ea496-d413-4205-b9b7-0a6a23a3e651",
   "metadata": {
    "tags": []
   },
   "outputs": [],
   "source": [
    "#20 - 73%\n",
    "#50 - 80%"
   ]
  },
  {
   "cell_type": "code",
   "execution_count": 38,
   "id": "7c2d6017-cee2-47e3-a82e-270d82d21f08",
   "metadata": {
    "tags": []
   },
   "outputs": [],
   "source": [
    "# model.save('50epoch.h5')"
   ]
  },
  {
   "cell_type": "markdown",
   "id": "ba603dd5-9baf-466d-8f44-43a85c219479",
   "metadata": {},
   "source": [
    "# Evaluating the Model"
   ]
  },
  {
   "cell_type": "code",
   "execution_count": 39,
   "id": "6d1dc355-a96c-4ffb-b5ce-8c017f96fe07",
   "metadata": {
    "tags": []
   },
   "outputs": [
    {
     "data": {
      "text/plain": [
       "[0.08196721225976944,\n",
       " 0.1803278625011444,\n",
       " 0.29821428656578064,\n",
       " 0.4262295067310333,\n",
       " 0.4936247766017914,\n",
       " 0.5500910878181458,\n",
       " 0.561020016670227,\n",
       " 0.6047359108924866,\n",
       " 0.6484517455101013,\n",
       " 0.6612021923065186,\n",
       " 0.6557376980781555,\n",
       " 0.6958105564117432,\n",
       " 0.693989098072052,\n",
       " 0.7067395448684692,\n",
       " 0.7122039794921875,\n",
       " 0.748633861541748,\n",
       " 0.7395263910293579,\n",
       " 0.7741348147392273,\n",
       " 0.7795992493629456,\n",
       " 0.755919873714447,\n",
       " 0.8087431788444519,\n",
       " 0.7723132967948914,\n",
       " 0.7795992493629456,\n",
       " 0.7868852615356445,\n",
       " 0.7978141903877258,\n",
       " 0.806921660900116,\n",
       " 0.8233151435852051,\n",
       " 0.8269581198692322,\n",
       " 0.8360655903816223,\n",
       " 0.8579235076904297,\n",
       " 0.8196721076965332,\n",
       " 0.8251366019248962,\n",
       " 0.8087431788444519,\n",
       " 0.8360655903816223,\n",
       " 0.8415300250053406,\n",
       " 0.8324226140975952,\n",
       " 0.8267857432365417,\n",
       " 0.8652094602584839,\n",
       " 0.8397085666656494,\n",
       " 0.874316930770874,\n",
       " 0.8615664839744568,\n",
       " 0.8524590134620667,\n",
       " 0.8597449660301208,\n",
       " 0.8579235076904297,\n",
       " 0.8706739544868469,\n",
       " 0.8633880019187927,\n",
       " 0.8633880019187927,\n",
       " 0.8589285612106323,\n",
       " 0.8579235076904297,\n",
       " 0.9071038365364075]"
      ]
     },
     "execution_count": 39,
     "metadata": {},
     "output_type": "execute_result"
    }
   ],
   "source": [
    "results.history['accuracy']"
   ]
  },
  {
   "cell_type": "code",
   "execution_count": 40,
   "id": "a0a50a64-9b87-42f0-ad33-5c04c013e6fd",
   "metadata": {
    "tags": []
   },
   "outputs": [
    {
     "data": {
      "text/plain": [
       "[<matplotlib.lines.Line2D at 0x1db39de6be0>]"
      ]
     },
     "execution_count": 40,
     "metadata": {},
     "output_type": "execute_result"
    },
    {
     "data": {
      "image/png": "[encoded data removed]",
      "text/plain": [
       "<Figure size 640x480 with 1 Axes>"
      ]
     },
     "metadata": {},
     "output_type": "display_data"
    }
   ],
   "source": [
    "plt.plot(results.history['accuracy'])"
   ]
  },
  {
   "cell_type": "code",
   "execution_count": 41,
   "id": "fc158ebe-d014-4382-8c29-26665e8a841e",
   "metadata": {
    "tags": []
   },
   "outputs": [],
   "source": [
    "# model.save('cat_dog_100epochs.h5')"
   ]
  },
  {
   "cell_type": "markdown",
   "id": "4aef35d1-3a09-4b6f-a532-83df943c4331",
   "metadata": {},
   "source": [
    "# Predicting on new images"
   ]
  },
  {
   "cell_type": "code",
   "execution_count": 11,
   "id": "4ef2eaac-14fd-42cd-8f4e-15a69dbc15b0",
   "metadata": {
    "tags": []
   },
   "outputs": [],
   "source": [
    "names = list(train_image_gen.class_indices.keys())"
   ]
  },
  {
   "cell_type": "code",
   "execution_count": 12,
   "id": "62c1c822-5420-45fe-8db1-54f43b7dcfe8",
   "metadata": {
    "tags": []
   },
   "outputs": [
    {
     "data": {
      "text/plain": [
       "['Akhmedov Sanzhar',\n",
       " 'Alikhan Zhamankhan',\n",
       " 'Baibatchayeva Anar',\n",
       " 'Dalabay Abylay',\n",
       " 'Daniyar Raiymbekov',\n",
       " 'Duisenov Alikhan',\n",
       " 'Kenzhebay Askar',\n",
       " 'Kyran Yerkin',\n",
       " 'Maxat Ualikhan',\n",
       " 'Naryshov Ernar',\n",
       " 'Rysmambetov Nurtugan',\n",
       " 'Sagynbek Nurbolat',\n",
       " 'Zhetessov Nur',\n",
       " 'Zhumabekov Magjan']"
      ]
     },
     "execution_count": 12,
     "metadata": {},
     "output_type": "execute_result"
    }
   ],
   "source": [
    "names"
   ]
  },
  {
   "cell_type": "code",
   "execution_count": 13,
   "id": "515f844c-ed03-40db-870e-96da173d4f79",
   "metadata": {
    "tags": []
   },
   "outputs": [],
   "source": [
    "from keras.models import load_model\n"
   ]
  },
  {
   "cell_type": "code",
   "execution_count": 14,
   "id": "f4f53bde-4a7f-436b-ac45-67124799e153",
   "metadata": {
    "tags": []
   },
   "outputs": [],
   "source": [
    "model = load_model('50epoch.h5')"
   ]
  },
  {
   "cell_type": "code",
   "execution_count": 15,
   "id": "73b155ce-69eb-4b8a-8775-a69615a90366",
   "metadata": {
    "tags": []
   },
   "outputs": [],
   "source": [
    "import numpy as np\n",
    "import keras.utils as image\n",
    "ali_file = './photos/test/all/1.jpg'\n",
    "\n",
    "ali_img = image.load_img(ali_file, target_size=(150, 150))\n",
    "\n",
    "ali_img = image.img_to_array(ali_img)\n",
    "\n",
    "ali_img = np.expand_dims(ali_img, axis=0)\n",
    "ali_img = ali_img/255"
   ]
  },
  {
   "cell_type": "code",
   "execution_count": 16,
   "id": "721e512e-66dd-4ea3-b625-2d6c1241b329",
   "metadata": {
    "tags": []
   },
   "outputs": [
    {
     "name": "stdout",
     "output_type": "stream",
     "text": [
      "1/1 [==============================] - 0s 224ms/step\n"
     ]
    },
    {
     "data": {
      "text/plain": [
       "0.1729376"
      ]
     },
     "execution_count": 16,
     "metadata": {},
     "output_type": "execute_result"
    }
   ],
   "source": [
    "prediction = model.predict(ali_img)\n",
    "pred = np.argmax(prediction)\n",
    "labels = (train_image_gen.class_indices)\n",
    "labels = dict((v,k) for k,v in labels.items())\n",
    "labels[pred]\n",
    "# print(labels)\n",
    "prediction[0][pred]\n"
   ]
  },
  {
   "cell_type": "code",
   "execution_count": 17,
   "id": "2a0b36a5-0ab6-4090-9193-7d7def0e538b",
   "metadata": {
    "tags": []
   },
   "outputs": [
    {
     "data": {
      "text/plain": [
       "array([[0.06362019, 0.1729376 , 0.06362019, 0.06362019, 0.06362019,\n",
       "        0.06362019, 0.06362019, 0.06362019, 0.06362019, 0.06362019,\n",
       "        0.06362019, 0.06362019, 0.06362019, 0.06362019]], dtype=float32)"
      ]
     },
     "execution_count": 17,
     "metadata": {},
     "output_type": "execute_result"
    }
   ],
   "source": [
    "prediction"
   ]
  },
  {
   "cell_type": "code",
   "execution_count": 18,
   "id": "2298ce41-b9cf-40e1-a687-eb7abf922714",
   "metadata": {
    "tags": []
   },
   "outputs": [],
   "source": [
    "import cv2\n",
    "import numpy as np\n",
    "import matplotlib.pyplot as plt\n",
    "%matplotlib inline\n",
    "face_cascade = cv2.CascadeClassifier('C:/Users/aliha/Desktop/Third/Computer Vision/W3/DATA/haarcascades/haarcascade_frontalface_default.xml')\n"
   ]
  },
  {
   "cell_type": "markdown",
   "id": "505b3895-d6ef-42d7-8edb-2e6771ef94e6",
   "metadata": {},
   "source": [
    "# Video Webcam"
   ]
  },
  {
   "cell_type": "code",
   "execution_count": 23,
   "id": "25afa154-9c27-4ced-91ba-512eca3dcd06",
   "metadata": {
    "tags": []
   },
   "outputs": [
    {
     "name": "stdout",
     "output_type": "stream",
     "text": [
      "1/1 [==============================] - 0s 126ms/step\n",
      "1/1 [==============================] - 0s 60ms/step\n",
      "1/1 [==============================] - 0s 57ms/step\n",
      "1/1 [==============================] - 0s 52ms/step\n",
      "1/1 [==============================] - 0s 51ms/step\n",
      "1/1 [==============================] - 0s 52ms/step\n",
      "1/1 [==============================] - 0s 52ms/step\n",
      "1/1 [==============================] - 0s 53ms/step\n",
      "1/1 [==============================] - 0s 53ms/step\n",
      "1/1 [==============================] - 0s 51ms/step\n",
      "1/1 [==============================] - 0s 49ms/step\n",
      "1/1 [==============================] - 0s 52ms/step\n",
      "1/1 [==============================] - 0s 51ms/step\n",
      "1/1 [==============================] - 0s 55ms/step\n",
      "1/1 [==============================] - 0s 55ms/step\n",
      "1/1 [==============================] - 0s 54ms/step\n",
      "1/1 [==============================] - 0s 52ms/step\n",
      "1/1 [==============================] - 0s 52ms/step\n",
      "1/1 [==============================] - 0s 51ms/step\n",
      "1/1 [==============================] - 0s 53ms/step\n",
      "1/1 [==============================] - 0s 54ms/step\n",
      "1/1 [==============================] - 0s 54ms/step\n",
      "1/1 [==============================] - 0s 52ms/step\n",
      "1/1 [==============================] - 0s 61ms/step\n",
      "1/1 [==============================] - 0s 52ms/step\n",
      "1/1 [==============================] - 0s 52ms/step\n",
      "1/1 [==============================] - 0s 53ms/step\n",
      "1/1 [==============================] - 0s 55ms/step\n",
      "1/1 [==============================] - 0s 59ms/step\n"
     ]
    }
   ],
   "source": [
    "\n",
    "cap = cv2.VideoCapture(0)\n",
    "fourcc = cv2.VideoWriter_fourcc(*'XVID')\n",
    "out = cv2.VideoWriter('output.avi',fourcc, 20.0, (640,  480))\n",
    "while True:\n",
    "    \n",
    "    ret, frame = cap.read()\n",
    "    gray = cv2.cvtColor(frame, cv2.COLOR_BGR2GRAY)\n",
    "    face_rects = face_cascade.detectMultiScale(gray, 1.3, 5)\n",
    "    \n",
    "    for (x,y,w,h) in face_rects:\n",
    "        cv2.rectangle(frame, (x,y), (x+w,y+h),(0,255,0), 2)\n",
    "        roi_face = frame[y:y+h, x:x+w]\n",
    "        roi_gray = gray[y:y+h, x:x+w]\n",
    "        img = roi_face.copy()\n",
    "        img = cv2.resize(img, (150, 150))\n",
    "        img = image.img_to_array(img)\n",
    "\n",
    "        img = np.expand_dims(img, axis=0)\n",
    "        img = img/255\n",
    "        predictions = model.predict(img)\n",
    "        pred = np.argmax(predictions)\n",
    "        name = labels[pred]\n",
    "        accuracy = predictions[0][pred] * 100\n",
    "        cv2.putText(frame, f\"{name}: {accuracy:.2f}\", (10, 30), cv2.FONT_HERSHEY_SIMPLEX, 1, (0, 0, 255), 2)\n",
    "        \n",
    "    cv2.imshow('Face Detection', frame)\n",
    "       \n",
    "    \n",
    "    k = cv2.waitKey(1)\n",
    "    if k == 27:\n",
    "        break\n",
    "cap.release()\n",
    "cv2.destroyAllWindows()\n",
    "    "
   ]
  },
  {
   "cell_type": "code",
   "execution_count": null,
   "id": "89f81566-fa79-49b6-b0e4-3bee43128e49",
   "metadata": {},
   "outputs": [],
   "source": []
  },
  {
   "cell_type": "code",
   "execution_count": null,
   "id": "da1203b0-3c0f-4a84-b138-6973c64cf460",
   "metadata": {},
   "outputs": [],
   "source": []
  },
  {
   "cell_type": "code",
   "execution_count": null,
   "id": "ee27c3b2-c01c-4d05-916f-0e0026f2801c",
   "metadata": {},
   "outputs": [],
   "source": []
  },
  {
   "cell_type": "code",
   "execution_count": null,
   "id": "641b5670-2e60-4451-8e7f-afe29b6d3a8a",
   "metadata": {},
   "outputs": [],
   "source": []
  },
  {
   "cell_type": "code",
   "execution_count": null,
   "id": "b21f360c-c660-457c-bdd4-68ce3a5497b6",
   "metadata": {},
   "outputs": [],
   "source": []
  },
  {
   "cell_type": "code",
   "execution_count": null,
   "id": "060f6415-dbd0-405f-b149-a93c43c970ec",
   "metadata": {},
   "outputs": [],
   "source": []
  },
  {
   "cell_type": "code",
   "execution_count": null,
   "id": "74af85fa-f7ef-44da-9264-939abc2a15e3",
   "metadata": {},
   "outputs": [],
   "source": []
  },
  {
   "cell_type": "code",
   "execution_count": null,
   "id": "301d2b2a-e060-46a7-b68a-77102feec665",
   "metadata": {},
   "outputs": [],
   "source": []
  },
  {
   "cell_type": "code",
   "execution_count": null,
   "id": "c8eb50b5-a0fc-4f54-a1d2-fa3c18896b82",
   "metadata": {},
   "outputs": [],
   "source": []
  },
  {
   "cell_type": "code",
   "execution_count": null,
   "id": "8cf051db-f8ec-4a74-99e9-d2aaa717869e",
   "metadata": {},
   "outputs": [],
   "source": []
  },
  {
   "cell_type": "code",
   "execution_count": null,
   "id": "66e0ff48-7668-4c1f-9c83-27a2f781546b",
   "metadata": {},
   "outputs": [],
   "source": []
  },
  {
   "cell_type": "code",
   "execution_count": null,
   "id": "21c8ddcb-6d16-46be-b8bf-e0ff45456b14",
   "metadata": {},
   "outputs": [],
   "source": []
  },
  {
   "cell_type": "code",
   "execution_count": null,
   "id": "f634d723-b102-4558-a296-7a46c12cb6c5",
   "metadata": {},
   "outputs": [],
   "source": []
  },
  {
   "cell_type": "code",
   "execution_count": null,
   "id": "98a7badd-7af9-4791-98bd-cf81b33a1ac1",
   "metadata": {},
   "outputs": [],
   "source": []
  },
  {
   "cell_type": "code",
   "execution_count": null,
   "id": "9da1603a-0a94-4692-beeb-7cab3dfbaae5",
   "metadata": {},
   "outputs": [],
   "source": []
  },
  {
   "cell_type": "code",
   "execution_count": null,
   "id": "e893b9d6-8ceb-41b8-a0b5-37b84a21982e",
   "metadata": {},
   "outputs": [],
   "source": []
  },
  {
   "cell_type": "code",
   "execution_count": null,
   "id": "f7030c98-e2c0-45b2-8523-68c040f45c91",
   "metadata": {},
   "outputs": [],
   "source": []
  },
  {
   "cell_type": "code",
   "execution_count": null,
   "id": "8570f2d1-deb7-4f5a-8c1a-760ede7d7ea9",
   "metadata": {},
   "outputs": [],
   "source": []
  },
  {
   "cell_type": "code",
   "execution_count": null,
   "id": "ae88490d-b9ba-4f6c-8696-ef061e3802c5",
   "metadata": {},
   "outputs": [],
   "source": []
  },
  {
   "cell_type": "code",
   "execution_count": null,
   "id": "c7ef555d-b34b-41b4-a6c6-d202d3297395",
   "metadata": {},
   "outputs": [],
   "source": []
  },
  {
   "cell_type": "code",
   "execution_count": null,
   "id": "31d74eef-3ebc-41c4-98a1-1a85e298be9b",
   "metadata": {},
   "outputs": [],
   "source": []
  },
  {
   "cell_type": "code",
   "execution_count": null,
   "id": "7abde2fe-ea83-456a-9b74-34b00eb58ccf",
   "metadata": {},
   "outputs": [],
   "source": []
  },
  {
   "cell_type": "code",
   "execution_count": null,
   "id": "69f0a1d5-c312-4c14-96d2-803274e205eb",
   "metadata": {},
   "outputs": [],
   "source": []
  },
  {
   "cell_type": "code",
   "execution_count": 21,
   "id": "1dfd780c-3a42-48db-b191-71b2d61bd4e1",
   "metadata": {
    "tags": []
   },
   "outputs": [],
   "source": [
    "model1 = load_model('face7m2.h5')"
   ]
  },
  {
   "cell_type": "code",
   "execution_count": 22,
   "id": "341126a7-95ef-4aae-83af-271be387a7e9",
   "metadata": {
    "tags": []
   },
   "outputs": [
    {
     "name": "stdout",
     "output_type": "stream",
     "text": [
      "1/1 [==============================] - 1s 522ms/step\n",
      "1/1 [==============================] - 0s 98ms/step\n",
      "1/1 [==============================] - 0s 94ms/step\n",
      "1/1 [==============================] - 0s 85ms/step\n",
      "1/1 [==============================] - 0s 87ms/step\n",
      "1/1 [==============================] - 0s 87ms/step\n",
      "1/1 [==============================] - 0s 83ms/step\n",
      "1/1 [==============================] - 0s 86ms/step\n",
      "1/1 [==============================] - 0s 86ms/step\n",
      "1/1 [==============================] - 0s 83ms/step\n",
      "1/1 [==============================] - 0s 82ms/step\n",
      "1/1 [==============================] - 0s 81ms/step\n",
      "1/1 [==============================] - 0s 78ms/step\n",
      "1/1 [==============================] - 0s 86ms/step\n",
      "1/1 [==============================] - 0s 82ms/step\n",
      "1/1 [==============================] - 0s 79ms/step\n",
      "1/1 [==============================] - 0s 75ms/step\n",
      "1/1 [==============================] - 0s 84ms/step\n",
      "1/1 [==============================] - 0s 92ms/step\n",
      "1/1 [==============================] - 0s 76ms/step\n",
      "1/1 [==============================] - 0s 80ms/step\n",
      "1/1 [==============================] - 0s 77ms/step\n",
      "1/1 [==============================] - 0s 79ms/step\n",
      "1/1 [==============================] - 0s 80ms/step\n",
      "1/1 [==============================] - 0s 78ms/step\n"
     ]
    }
   ],
   "source": [
    "\n",
    "cap = cv2.VideoCapture(0)\n",
    "while True:\n",
    "    \n",
    "    ret, frame = cap.read()\n",
    "    gray = cv2.cvtColor(frame, cv2.COLOR_BGR2GRAY)\n",
    "    face_rects = face_cascade.detectMultiScale(gray, 1.3, 5)\n",
    "    \n",
    "    for (x,y,w,h) in face_rects:\n",
    "        cv2.rectangle(frame, (x,y), (x+w,y+h),(0,255,0), 2)\n",
    "        roi_face = frame[y:y+h, x:x+w]\n",
    "        roi_gray = gray[y:y+h, x:x+w]\n",
    "        img = roi_face.copy()\n",
    "        img = cv2.resize(img, (224, 224))\n",
    "        img = image.img_to_array(img)\n",
    "\n",
    "        img = np.expand_dims(img, axis=0)\n",
    "        img = img/255\n",
    "        predictions = model1.predict(img)\n",
    "        pred = np.argmax(predictions)\n",
    "        name = labels[pred]\n",
    "        accuracy = predictions[0][pred] * 100\n",
    "        cv2.putText(frame, f\"{name}: {accuracy:.2f}\", (10, 30), cv2.FONT_HERSHEY_SIMPLEX, 1, (0, 0, 255), 2)\n",
    "        \n",
    "    cv2.imshow('Face Detection', frame)\n",
    "       \n",
    "    \n",
    "    k = cv2.waitKey(1)\n",
    "    if k == 27:\n",
    "        break\n",
    "cap.release()\n",
    "cv2.destroyAllWindows()\n",
    "    "
   ]
  },
  {
   "cell_type": "code",
   "execution_count": null,
   "id": "f704aebe-5c34-46b8-be35-243e9fb98b94",
   "metadata": {},
   "outputs": [],
   "source": []
  },
  {
   "cell_type": "code",
   "execution_count": null,
   "id": "412835b5-205f-4ef7-a8b6-debf612560d5",
   "metadata": {},
   "outputs": [],
   "source": []
  },
  {
   "cell_type": "code",
   "execution_count": null,
   "id": "3aadc259-544a-4b06-bdfb-9e1b36b4394c",
   "metadata": {},
   "outputs": [],
   "source": []
  },
  {
   "cell_type": "code",
   "execution_count": null,
   "id": "894ee6d4-21e7-41da-b1a2-0338e3acfb2d",
   "metadata": {},
   "outputs": [],
   "source": []
  },
  {
   "cell_type": "code",
   "execution_count": null,
   "id": "b4e6cbd6-f6e0-4ff8-bb34-63189e978b0e",
   "metadata": {},
   "outputs": [],
   "source": []
  },
  {
   "cell_type": "code",
   "execution_count": null,
   "id": "3ed27b4c-c5ce-46e3-a355-db2021a02c4b",
   "metadata": {},
   "outputs": [],
   "source": []
  },
  {
   "cell_type": "code",
   "execution_count": null,
   "id": "4df4f73d-c22c-4c78-8a0f-5d89e7bba82f",
   "metadata": {},
   "outputs": [],
   "source": []
  },
  {
   "cell_type": "code",
   "execution_count": null,
   "id": "a8b045ff-0ef9-4b9e-80ae-6ccfb51ab305",
   "metadata": {},
   "outputs": [],
   "source": []
  }
 ],
 "metadata": {
  "kernelspec": {
   "display_name": "Python 3 (ipykernel)",
   "language": "python",
   "name": "python3"
  },
  "language_info": {
   "codemirror_mode": {
    "name": "ipython",
    "version": 3
   },
   "file_extension": ".py",
   "mimetype": "text/x-python",
   "name": "python",
   "nbconvert_exporter": "python",
   "pygments_lexer": "ipython3",
   "version": "3.10.9"
  }
 },
 "nbformat": 4,
 "nbformat_minor": 5
}
