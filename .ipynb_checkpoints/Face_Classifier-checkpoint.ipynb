{
 "cells": [
  {
   "cell_type": "code",
   "execution_count": 1,
   "metadata": {},
   "outputs": [
    {
     "name": "stderr",
     "output_type": "stream",
     "text": [
      "Using TensorFlow backend.\n"
     ]
    }
   ],
   "source": [
    "import matplotlib.pyplot as plt\n",
    "import cv2\n",
    "%matplotlib inline\n",
    "from keras.models import Sequential\n",
    "from keras.layers import Activation, Dropout, Flatten, Dense, Conv2D, MaxPooling2D\n",
    "from keras.preprocessing.image import ImageDataGenerator"
   ]
  },
  {
   "cell_type": "code",
   "execution_count": 2,
   "metadata": {},
   "outputs": [],
   "source": [
    "image_gen = ImageDataGenerator(rotation_range=30, # rotate the image 30 degrees\n",
    "                               width_shift_range=0.1, # Shift the pic width by a max of 10%\n",
    "                               height_shift_range=0.1, # Shift the pic height by a max of 10%\n",
    "                               rescale=1/255, # Rescale the image by normalzing it.\n",
    "                               shear_range=0.2, # Shear means cutting away part of the image (max 20%)\n",
    "                               zoom_range=0.2, # Zoom in by 20% max\n",
    "                               horizontal_flip=True, # Allo horizontal flipping\n",
    "                               fill_mode='nearest' # Fill in missing pixels with the nearest filled value\n",
    "                              )"
   ]
  },
  {
   "cell_type": "code",
   "execution_count": 3,
   "metadata": {},
   "outputs": [],
   "source": [
    "image_shape = (150,150,3)"
   ]
  },
  {
   "cell_type": "code",
   "execution_count": 4,
   "metadata": {},
   "outputs": [],
   "source": [
    "model = Sequential()\n",
    "\n",
    "model.add(Conv2D(filters=32, kernel_size=(3,3),input_shape=image_shape, activation='relu',))\n",
    "model.add(MaxPooling2D(pool_size=(2, 2)))\n",
    "\n",
    "model.add(Conv2D(filters=64, kernel_size=(3,3),input_shape=image_shape, activation='relu',))\n",
    "model.add(MaxPooling2D(pool_size=(2, 2)))\n",
    "\n",
    "model.add(Conv2D(filters=64, kernel_size=(3,3),input_shape=image_shape, activation='relu',))\n",
    "model.add(MaxPooling2D(pool_size=(2, 2)))\n",
    "\n",
    "\n",
    "model.add(Flatten())\n",
    "\n",
    "\n",
    "model.add(Dense(128))\n",
    "model.add(Activation('relu'))\n",
    "\n",
    "# Dropouts help reduce overfitting by randomly turning neurons off during training.\n",
    "# Here we say randomly turn off 50% of neurons.\n",
    "model.add(Dropout(0.5))\n",
    "\n",
    "# 13, because we have 13 classes_faces\n",
    "model.add(Dense(13))\n",
    "model.add(Activation('softmax'))\n",
    "\n",
    "model.compile(loss='categorical_crossentropy',\n",
    "              optimizer='adam',\n",
    "              metrics=['accuracy'])"
   ]
  },
  {
   "cell_type": "code",
   "execution_count": 5,
   "metadata": {},
   "outputs": [
    {
     "name": "stdout",
     "output_type": "stream",
     "text": [
      "Found 463 images belonging to 13 classes.\n",
      "Found 68 images belonging to 13 classes.\n"
     ]
    }
   ],
   "source": [
    "batch_size = 16\n",
    "train_image_gen = image_gen.flow_from_directory('cropped_faces/Output/train',\n",
    "                                               target_size=image_shape[:2],\n",
    "                                               batch_size=batch_size,\n",
    "                                               class_mode='categorical')\n",
    "test_image_gen = image_gen.flow_from_directory('cropped_faces/Output/test',\n",
    "                                               target_size=image_shape[:2],\n",
    "                                               batch_size=batch_size,\n",
    "                                               class_mode='categorical')"
   ]
  },
  {
   "cell_type": "code",
   "execution_count": 6,
   "metadata": {},
   "outputs": [
    {
     "data": {
      "text/plain": [
       "{'Akhmedov Sanzhar': 0,\n",
       " 'Alikhan Zhamankhan': 1,\n",
       " 'Baibatchayeva Anar': 2,\n",
       " 'Daniyar Raiymbekov': 3,\n",
       " 'Duisenov Alikhan': 4,\n",
       " 'Kenzhebay Askar': 5,\n",
       " 'Kyran Yerkin': 6,\n",
       " 'Maxat Ualikhan': 7,\n",
       " 'Naryshov Ernar': 8,\n",
       " 'Rysmambetov Nurtugan': 9,\n",
       " 'Sagynbek Nurbolat': 10,\n",
       " 'Zhetessov Nur': 11,\n",
       " 'Zhumabekov Magjan': 12}"
      ]
     },
     "execution_count": 6,
     "metadata": {},
     "output_type": "execute_result"
    }
   ],
   "source": [
    "train_image_gen.class_indices"
   ]
  },
  {
   "cell_type": "code",
   "execution_count": 8,
   "metadata": {},
   "outputs": [],
   "source": [
    "import warnings\n",
    "warnings.filterwarnings('ignore')"
   ]
  },
  {
   "cell_type": "code",
   "execution_count": 9,
   "metadata": {},
   "outputs": [
    {
     "name": "stdout",
     "output_type": "stream",
     "text": [
      "Epoch 1/50\n",
      "50/50 [==============================] - 23s 454ms/step - loss: 2.5704 - acc: 0.0966 - val_loss: 2.4340 - val_acc: 0.0735\n",
      "Epoch 2/50\n",
      "50/50 [==============================] - 21s 423ms/step - loss: 2.4743 - acc: 0.1328 - val_loss: 2.2021 - val_acc: 0.2059\n",
      "Epoch 3/50\n",
      "50/50 [==============================] - 21s 414ms/step - loss: 2.0948 - acc: 0.3171 - val_loss: 1.9046 - val_acc: 0.3382\n",
      "Epoch 4/50\n",
      "50/50 [==============================] - 21s 414ms/step - loss: 1.8998 - acc: 0.3953 - val_loss: 1.6049 - val_acc: 0.5000\n",
      "Epoch 5/50\n",
      "50/50 [==============================] - 21s 415ms/step - loss: 1.6414 - acc: 0.4539 - val_loss: 1.5839 - val_acc: 0.5294\n",
      "Epoch 6/50\n",
      "50/50 [==============================] - 21s 410ms/step - loss: 1.5511 - acc: 0.4915 - val_loss: 1.2785 - val_acc: 0.5882\n",
      "Epoch 7/50\n",
      "50/50 [==============================] - 20s 408ms/step - loss: 1.3974 - acc: 0.5565 - val_loss: 1.1175 - val_acc: 0.6324\n",
      "Epoch 8/50\n",
      "50/50 [==============================] - 20s 406ms/step - loss: 1.3227 - acc: 0.5777 - val_loss: 1.2321 - val_acc: 0.6324\n",
      "Epoch 9/50\n",
      "50/50 [==============================] - 21s 411ms/step - loss: 1.1565 - acc: 0.6265 - val_loss: 0.9200 - val_acc: 0.7941\n",
      "Epoch 10/50\n",
      "50/50 [==============================] - 21s 412ms/step - loss: 1.1867 - acc: 0.5956 - val_loss: 0.9235 - val_acc: 0.7353\n",
      "Epoch 11/50\n",
      "50/50 [==============================] - 20s 406ms/step - loss: 1.0668 - acc: 0.6485 - val_loss: 0.8404 - val_acc: 0.7794\n",
      "Epoch 12/50\n",
      "50/50 [==============================] - 21s 417ms/step - loss: 1.0036 - acc: 0.6603 - val_loss: 0.7029 - val_acc: 0.8088\n",
      "Epoch 13/50\n",
      "50/50 [==============================] - 20s 400ms/step - loss: 1.0163 - acc: 0.6733 - val_loss: 1.0262 - val_acc: 0.7794\n",
      "Epoch 14/50\n",
      "50/50 [==============================] - 20s 396ms/step - loss: 0.9181 - acc: 0.7019 - val_loss: 0.5901 - val_acc: 0.8235\n",
      "Epoch 15/50\n",
      "50/50 [==============================] - 20s 407ms/step - loss: 0.8180 - acc: 0.7308 - val_loss: 0.5455 - val_acc: 0.8971\n",
      "Epoch 16/50\n",
      "50/50 [==============================] - 21s 420ms/step - loss: 0.9324 - acc: 0.6965 - val_loss: 0.5540 - val_acc: 0.8676\n",
      "Epoch 17/50\n",
      "50/50 [==============================] - 20s 401ms/step - loss: 0.7833 - acc: 0.7522 - val_loss: 0.5703 - val_acc: 0.8824\n",
      "Epoch 18/50\n",
      "50/50 [==============================] - 20s 396ms/step - loss: 0.7785 - acc: 0.7465 - val_loss: 0.7668 - val_acc: 0.8382\n",
      "Epoch 19/50\n",
      "50/50 [==============================] - 20s 404ms/step - loss: 0.8334 - acc: 0.7238 - val_loss: 0.5921 - val_acc: 0.8235\n",
      "Epoch 20/50\n",
      "50/50 [==============================] - 20s 396ms/step - loss: 0.6801 - acc: 0.7744 - val_loss: 0.8145 - val_acc: 0.8382\n",
      "Epoch 21/50\n",
      "50/50 [==============================] - 20s 393ms/step - loss: 0.7172 - acc: 0.7709 - val_loss: 0.5872 - val_acc: 0.8235\n",
      "Epoch 22/50\n",
      "50/50 [==============================] - 20s 395ms/step - loss: 0.6474 - acc: 0.7768 - val_loss: 0.7957 - val_acc: 0.7647\n",
      "Epoch 23/50\n",
      "50/50 [==============================] - 20s 395ms/step - loss: 0.6743 - acc: 0.7933 - val_loss: 0.5404 - val_acc: 0.8529\n",
      "Epoch 24/50\n",
      "50/50 [==============================] - 20s 393ms/step - loss: 0.6113 - acc: 0.7971 - val_loss: 0.5049 - val_acc: 0.9118\n",
      "Epoch 25/50\n",
      "50/50 [==============================] - 20s 392ms/step - loss: 0.6181 - acc: 0.7931 - val_loss: 0.4254 - val_acc: 0.8971\n",
      "Epoch 26/50\n",
      "50/50 [==============================] - 20s 393ms/step - loss: 0.6457 - acc: 0.7847 - val_loss: 0.6350 - val_acc: 0.8529\n",
      "Epoch 27/50\n",
      "50/50 [==============================] - 20s 395ms/step - loss: 0.5410 - acc: 0.8198 - val_loss: 0.4248 - val_acc: 0.9118\n",
      "Epoch 28/50\n",
      "50/50 [==============================] - 20s 396ms/step - loss: 0.4871 - acc: 0.8396 - val_loss: 0.3457 - val_acc: 0.8824\n",
      "Epoch 29/50\n",
      "50/50 [==============================] - 20s 390ms/step - loss: 0.5244 - acc: 0.8383 - val_loss: 0.3789 - val_acc: 0.9118\n",
      "Epoch 30/50\n",
      "50/50 [==============================] - 20s 393ms/step - loss: 0.5430 - acc: 0.8207 - val_loss: 0.4728 - val_acc: 0.8529\n",
      "Epoch 31/50\n",
      "50/50 [==============================] - 20s 393ms/step - loss: 0.4987 - acc: 0.8294 - val_loss: 0.3012 - val_acc: 0.8971\n",
      "Epoch 32/50\n",
      "50/50 [==============================] - 20s 391ms/step - loss: 0.4564 - acc: 0.8422 - val_loss: 0.4384 - val_acc: 0.8824\n",
      "Epoch 33/50\n",
      "50/50 [==============================] - 20s 392ms/step - loss: 0.5259 - acc: 0.8356 - val_loss: 0.3076 - val_acc: 0.9265\n",
      "Epoch 34/50\n",
      "50/50 [==============================] - 20s 398ms/step - loss: 0.4917 - acc: 0.8293 - val_loss: 0.2548 - val_acc: 0.9265\n",
      "Epoch 35/50\n",
      "50/50 [==============================] - 20s 391ms/step - loss: 0.4995 - acc: 0.8561 - val_loss: 0.6456 - val_acc: 0.8676\n",
      "Epoch 36/50\n",
      "50/50 [==============================] - 19s 389ms/step - loss: 0.4138 - acc: 0.8649 - val_loss: 0.3557 - val_acc: 0.8971\n",
      "Epoch 37/50\n",
      "50/50 [==============================] - 20s 392ms/step - loss: 0.4159 - acc: 0.8609 - val_loss: 0.4250 - val_acc: 0.8824\n",
      "Epoch 38/50\n",
      "50/50 [==============================] - 20s 395ms/step - loss: 0.4334 - acc: 0.8685 - val_loss: 0.3985 - val_acc: 0.8824\n",
      "Epoch 39/50\n",
      "50/50 [==============================] - 20s 393ms/step - loss: 0.5012 - acc: 0.8423 - val_loss: 0.3363 - val_acc: 0.9118\n",
      "Epoch 40/50\n",
      "50/50 [==============================] - 20s 391ms/step - loss: 0.3868 - acc: 0.8722 - val_loss: 0.2229 - val_acc: 0.9412\n",
      "Epoch 41/50\n",
      "50/50 [==============================] - 20s 396ms/step - loss: 0.4157 - acc: 0.8698 - val_loss: 0.4635 - val_acc: 0.8676\n",
      "Epoch 42/50\n",
      "50/50 [==============================] - 20s 391ms/step - loss: 0.4172 - acc: 0.8722 - val_loss: 0.3348 - val_acc: 0.9118\n",
      "Epoch 43/50\n",
      "50/50 [==============================] - 19s 390ms/step - loss: 0.3934 - acc: 0.8534 - val_loss: 0.3174 - val_acc: 0.9265\n",
      "Epoch 44/50\n",
      "50/50 [==============================] - 20s 394ms/step - loss: 0.4044 - acc: 0.8672 - val_loss: 0.4629 - val_acc: 0.8676\n",
      "Epoch 45/50\n",
      "50/50 [==============================] - 20s 406ms/step - loss: 0.4671 - acc: 0.8534 - val_loss: 0.4721 - val_acc: 0.8971\n",
      "Epoch 46/50\n",
      "50/50 [==============================] - 19s 390ms/step - loss: 0.4020 - acc: 0.8833 - val_loss: 0.2845 - val_acc: 0.9412\n",
      "Epoch 47/50\n",
      "50/50 [==============================] - 20s 392ms/step - loss: 0.3754 - acc: 0.8848 - val_loss: 0.1243 - val_acc: 0.9559\n",
      "Epoch 48/50\n",
      "50/50 [==============================] - 20s 392ms/step - loss: 0.3097 - acc: 0.9061 - val_loss: 0.2217 - val_acc: 0.9559\n",
      "Epoch 49/50\n",
      "50/50 [==============================] - 20s 392ms/step - loss: 0.4138 - acc: 0.8658 - val_loss: 0.3851 - val_acc: 0.8676\n",
      "Epoch 50/50\n",
      "50/50 [==============================] - 19s 389ms/step - loss: 0.3109 - acc: 0.8772 - val_loss: 0.1887 - val_acc: 0.9559\n"
     ]
    }
   ],
   "source": [
    "# 80% accuracy at 20 epochs\n",
    "# 87% accuracy at 50 epochs\n",
    "# 56% accuracy at 5 epochs\n",
    "results = model.fit_generator(train_image_gen,epochs=50,\n",
    "                              steps_per_epoch=50,\n",
    "                              validation_data=test_image_gen,\n",
    "                             validation_steps=12)"
   ]
  },
  {
   "cell_type": "code",
   "execution_count": 10,
   "metadata": {},
   "outputs": [
    {
     "data": {
      "text/plain": [
       "[<matplotlib.lines.Line2D at 0x25315398978>]"
      ]
     },
     "execution_count": 10,
     "metadata": {},
     "output_type": "execute_result"
    },
    {
     "data": {
      "image/png": "[encoded data removed]",
      "text/plain": [
       "<Figure size 432x288 with 1 Axes>"
      ]
     },
     "metadata": {
      "needs_background": "light"
     },
     "output_type": "display_data"
    }
   ],
   "source": [
    "plt.plot(results.history['acc'])"
   ]
  },
  {
   "cell_type": "code",
   "execution_count": 11,
   "metadata": {},
   "outputs": [],
   "source": [
    "model.save('faces_50epochs.h5')"
   ]
  }
 ],
 "metadata": {
  "kernelspec": {
   "display_name": "Python 3",
   "language": "python",
   "name": "python3"
  },
  "language_info": {
   "codemirror_mode": {
    "name": "ipython",
    "version": 3
   },
   "file_extension": ".py",
   "mimetype": "text/x-python",
   "name": "python",
   "nbconvert_exporter": "python",
   "pygments_lexer": "ipython3",
   "version": "3.6.6"
  }
 },
 "nbformat": 4,
 "nbformat_minor": 2
}
