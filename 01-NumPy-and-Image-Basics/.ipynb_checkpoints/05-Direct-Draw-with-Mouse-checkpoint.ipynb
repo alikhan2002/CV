{
 "cells": [
  {
   "cell_type": "markdown",
   "metadata": {},
   "source": [
    "# Direct Drawing with Mouse"
   ]
  },
  {
   "cell_type": "markdown",
   "metadata": {},
   "source": [
    "# Script 1: Connecting a Function for Drawing"
   ]
  },
  {
   "cell_type": "code",
   "execution_count": 4,
   "metadata": {},
   "outputs": [],
   "source": [
    "import cv2\n",
    "import numpy as np\n",
    "\n",
    "###### FUNCTION ######\n",
    "\n",
    "def draw_circle(event, x,y,flags,param):\n",
    "    # pass\n",
    "    \n",
    "    if event == cv2.EVENT_LBUTTONDOWN:\n",
    "        cv2.circle(img, (x,y), 50, (0,255,0),5)\n",
    "    \n",
    "cv2.namedWindow(winname='frame')\n",
    "\n",
    "cv2.setMouseCallback('frame', draw_circle)\n",
    "\n",
    "###### SHOWING IMAGE WITH OPENCV #####\n",
    "\n",
    "img = np.zeros((512,512,3), np.uint8)\n",
    "\n",
    "while True:\n",
    "    \n",
    "    cv2.imshow('frame', img)\n",
    "    \n",
    "    if cv2.waitKey(20) & 0xFF == 27:\n",
    "        break\n",
    "        \n",
    "cv2.destroyAllWindows()"
   ]
  },
  {
   "cell_type": "markdown",
   "metadata": {},
   "source": [
    "# SCRIPT 2: Adding Functionality with Event Choices"
   ]
  },
  {
   "cell_type": "code",
   "execution_count": 5,
   "metadata": {},
   "outputs": [],
   "source": [
    "import cv2\n",
    "import numpy as np\n",
    "\n",
    "###### FUNCTION ######\n",
    "\n",
    "def draw_circle(event, x,y,flags,param):\n",
    "    # pass\n",
    "    \n",
    "    if event == cv2.EVENT_LBUTTONDOWN:\n",
    "        cv2.circle(img, (x,y), 50, (0,255,0),-1)\n",
    "    elif event == cv2.EVENT_RBUTTONDOWN:\n",
    "        cv2.circle(img, (x,y), 50, (255,0,0),-1)\n",
    "    \n",
    "cv2.namedWindow(winname='frame')\n",
    "\n",
    "cv2.setMouseCallback('frame', draw_circle)\n",
    "\n",
    "###### SHOWING IMAGE WITH OPENCV #####\n",
    "\n",
    "img = np.zeros((512,512,3), np.uint8)\n",
    "\n",
    "while True:\n",
    "    \n",
    "    cv2.imshow('frame', img)\n",
    "    \n",
    "    if cv2.waitKey(20) & 0xFF == 27:\n",
    "        break\n",
    "        \n",
    "cv2.destroyAllWindows()"
   ]
  },
  {
   "cell_type": "markdown",
   "metadata": {},
   "source": [
    "# SCRIPT 3: Dragging with Mouse"
   ]
  },
  {
   "cell_type": "code",
   "execution_count": 7,
   "metadata": {},
   "outputs": [],
   "source": [
    "import cv2\n",
    "import numpy as np\n",
    "\n",
    "drawing = False\n",
    "ix, iy = -1, -1\n",
    "\n",
    "###### FUNCTION ######\n",
    "\n",
    "def draw_circle(event, x,y,flags,param):\n",
    "    \n",
    "    global ix,iy,drawing\n",
    "    \n",
    "    if event == cv2.EVENT_LBUTTONDOWN:\n",
    "        \n",
    "        drawing = True\n",
    "        ix,iy = x,y\n",
    "        \n",
    "    elif event == cv2.EVENT_MOUSEMOVE:\n",
    "        if drawing == True:\n",
    "            cv2.rectangle(img, (ix,iy),(x,y),(0,0,255),-1)\n",
    "    \n",
    "    elif event == cv2.EVENT_LBUTTONUP:\n",
    "        drawing = False\n",
    "        cv2.rectangle(img, (ix,iy),(x,y),(0,0,255),-1)\n",
    "        \n",
    "    \n",
    "    \n",
    "cv2.namedWindow(winname='frame')\n",
    "\n",
    "cv2.setMouseCallback('frame', draw_circle)\n",
    "\n",
    "###### SHOWING IMAGE WITH OPENCV #####\n",
    "\n",
    "img = np.zeros((512,512,3), np.uint8)\n",
    "\n",
    "while True:\n",
    "    \n",
    "    cv2.imshow('frame', img)\n",
    "    \n",
    "    if cv2.waitKey(20) & 0xFF == 27:\n",
    "        break\n",
    "        \n",
    "cv2.destroyAllWindows()"
   ]
  },
  {
   "cell_type": "code",
   "execution_count": null,
   "metadata": {},
   "outputs": [],
   "source": []
  }
 ],
 "metadata": {
  "kernelspec": {
   "display_name": "Python 3",
   "language": "python",
   "name": "python3"
  },
  "language_info": {
   "codemirror_mode": {
    "name": "ipython",
    "version": 3
   },
   "file_extension": ".py",
   "mimetype": "text/x-python",
   "name": "python",
   "nbconvert_exporter": "python",
   "pygments_lexer": "ipython3",
   "version": "3.6.6"
  }
 },
 "nbformat": 4,
 "nbformat_minor": 2
}
