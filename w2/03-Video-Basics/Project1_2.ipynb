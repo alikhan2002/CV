{
 "cells": [
  {
   "cell_type": "markdown",
   "metadata": {
    "tags": []
   },
   "source": [
    "Подключиться к камере:\n",
    "1. На выводимом из камеры видео разделить всю область на равные четыре части и к каждой части применить фильтр. Изменения должны быть в реальном времени\n",
    "2. Просто сделать 4 одинаковых видео с камеры, и потом выбирать фильтры (Выводимое из камеры видео должно быть отображено в 4 копиях. И к каждой копии применить фильтр)\n",
    "3. На выводимом из камеры видео мышкой выделять область в виде прямоугольника. В данном прямоугольнике должен применяться фильтр\n",
    "Сохранить видео с помощью OpenCV"
   ]
  },
  {
   "cell_type": "markdown",
   "metadata": {},
   "source": [
    "# Project 1"
   ]
  },
  {
   "cell_type": "code",
   "execution_count": 5,
   "metadata": {
    "tags": []
   },
   "outputs": [
    {
     "name": "stdout",
     "output_type": "stream",
     "text": [
      "320 240\n"
     ]
    }
   ],
   "source": [
    "import cv2\n",
    "# Create a function based on a CV2 Event (Left button click)\n",
    "import numpy as np\n",
    "\n",
    "cap = cv2.VideoCapture(0) \n",
    "\n",
    "# Create a named window for connections\n",
    "cv2.namedWindow('Test')\n",
    "width = int(cap.get(cv2.CAP_PROP_FRAME_WIDTH))\n",
    "height = int(cap.get(cv2.CAP_PROP_FRAME_HEIGHT))\n",
    "fourcc = cv2.VideoWriter_fourcc(*'XVID')\n",
    "out = cv2.VideoWriter('1.avi', fourcc, 20.0, (640,  480))\n",
    "x = width//2\n",
    "y = height//2\n",
    "print(x, y)\n",
    "# print(frame.shape)\n",
    "kernel = np.array([[0, -1, 0],\n",
    "                   [-1, 5, -1],\n",
    "                   [0, -1, 0]])\n",
    "while True:\n",
    "    # Capture frame-by-frame\n",
    "    ret, frame = cap.read()\n",
    "    cframe = frame.copy()\n",
    "    frame[:y, :x] = cv2.cvtColor(frame[:y, :x], cv2.COLOR_RGB2BGR)\n",
    "    frame[y:, x:] = cv2.GaussianBlur(frame[y:, x:], (15,15), 0)\n",
    "    frame[y:, :x] = cv2.filter2D(frame[y:, :x],-1,  kernel)\n",
    "    frame = cv2.flip(frame, 1)\n",
    "    out.write(frame)\n",
    "    cv2.imshow('Test', frame)\n",
    "    # Simply pressing X on the window won't work!\n",
    "    if cv2.waitKey(1) & 0xFF == ord('q'):\n",
    "        break\n",
    "\n",
    "# When everything is done, release the capture\n",
    "cap.release()\n",
    "out.release()\n",
    "cv2.destroyAllWindows()"
   ]
  },
  {
   "cell_type": "markdown",
   "metadata": {},
   "source": [
    "# Project 2"
   ]
  },
  {
   "cell_type": "code",
   "execution_count": 4,
   "metadata": {},
   "outputs": [],
   "source": [
    "import cv2\n",
    "import numpy as np\n",
    "# Create a video capture object to capture frames from the web camera\n",
    "cap = cv2.VideoCapture(0)\n",
    "\n",
    "# Set the width and height of the video capture to match the resolution of the camera\n",
    "width = int(cap.get(cv2.CAP_PROP_FRAME_WIDTH))\n",
    "height = int(cap.get(cv2.CAP_PROP_FRAME_HEIGHT))\n",
    "fourcc = cv2.VideoWriter_fourcc(*'XVID')\n",
    "out = cv2.VideoWriter('2.avi', fourcc, 20.0, (640,  480))\n",
    "# Define the size of each part of the frame\n",
    "x = width //2\n",
    "y = height //2\n",
    "dsize = (x, y)\n",
    "kernel = np.array([[0, -1, 0],\n",
    "                   [-1, 5, -1],\n",
    "                   [0, -1, 0]])\n",
    "while True:\n",
    "    # Read a frame from the video capture\n",
    "    ret, frame = cap.read()\n",
    "\n",
    "    # Resize the frame into four equal parts\n",
    "    part1 = cv2.resize(frame, dsize)\n",
    "    part2 = cv2.resize(frame,dsize)\n",
    "    part3 = cv2.resize(frame, dsize)\n",
    "    part4 = cv2.resize(frame, dsize)\n",
    "    #applying filters\n",
    "    part2 = cv2.cvtColor(part2 ,cv2.COLOR_RGB2BGR)\n",
    "    part3 = cv2.GaussianBlur(part3, (9,9), 0)\n",
    "    part4 = cv2.filter2D(part4,-1,  kernel)\n",
    "    \n",
    "    frame[:y, :x] = part1\n",
    "    frame[:y, x:] = part2\n",
    "    frame[y:, :x] = part3\n",
    "    frame[y:, x:] = part4\n",
    "    #Flip for convinient\n",
    "    frame = cv2.flip(frame, 1)\n",
    "    out.write(frame)\n",
    "    \n",
    "    cv2.imshow('Windows', frame)\n",
    "\n",
    "    # Wait for a key press and exit if the 'q' key is pressed\n",
    "    if cv2.waitKey(1) & 0xFF == ord('q'):\n",
    "        break\n",
    "\n",
    "# Release the video capture object and destroy the window\n",
    "cap.release()\n",
    "out.release()\n",
    "cv2.destroyAllWindows()\n"
   ]
  },
  {
   "cell_type": "markdown",
   "metadata": {},
   "source": [
    "# Project 3"
   ]
  },
  {
   "cell_type": "code",
   "execution_count": 7,
   "metadata": {},
   "outputs": [
    {
     "ename": "TypeError",
     "evalue": "'NoneType' object is not subscriptable",
     "output_type": "error",
     "traceback": [
      "\u001b[1;31m---------------------------------------------------------------------------\u001b[0m",
      "\u001b[1;31mTypeError\u001b[0m                                 Traceback (most recent call last)",
      "Cell \u001b[1;32mIn[7], line 65\u001b[0m\n\u001b[0;32m     63\u001b[0m     frame[i_y:y, i_x:x] \u001b[38;5;241m=\u001b[39m roi_blur\n\u001b[0;32m     64\u001b[0m \u001b[38;5;28;01mfor\u001b[39;00m i \u001b[38;5;129;01min\u001b[39;00m filters:\n\u001b[1;32m---> 65\u001b[0m     rr \u001b[38;5;241m=\u001b[39m cv2\u001b[38;5;241m.\u001b[39mGaussianBlur(\u001b[43mframe\u001b[49m\u001b[43m[\u001b[49m\u001b[43mi\u001b[49m\u001b[43m[\u001b[49m\u001b[38;5;241;43m0\u001b[39;49m\u001b[43m]\u001b[49m\u001b[43m[\u001b[49m\u001b[38;5;241;43m0\u001b[39;49m\u001b[43m]\u001b[49m\u001b[43m:\u001b[49m\u001b[43m \u001b[49m\u001b[43mi\u001b[49m\u001b[43m[\u001b[49m\u001b[38;5;241;43m0\u001b[39;49m\u001b[43m]\u001b[49m\u001b[43m[\u001b[49m\u001b[38;5;241;43m1\u001b[39;49m\u001b[43m]\u001b[49m\u001b[43m,\u001b[49m\u001b[43m \u001b[49m\u001b[43mi\u001b[49m\u001b[43m[\u001b[49m\u001b[38;5;241;43m1\u001b[39;49m\u001b[43m]\u001b[49m\u001b[43m[\u001b[49m\u001b[38;5;241;43m0\u001b[39;49m\u001b[43m]\u001b[49m\u001b[43m:\u001b[49m\u001b[43m \u001b[49m\u001b[43mi\u001b[49m\u001b[43m[\u001b[49m\u001b[38;5;241;43m1\u001b[39;49m\u001b[43m]\u001b[49m\u001b[43m[\u001b[49m\u001b[38;5;241;43m1\u001b[39;49m\u001b[43m]\u001b[49m\u001b[43m]\u001b[49m, (\u001b[38;5;241m43\u001b[39m, \u001b[38;5;241m43\u001b[39m), \u001b[38;5;241m0\u001b[39m)\n\u001b[0;32m     66\u001b[0m     frame[i[\u001b[38;5;241m0\u001b[39m][\u001b[38;5;241m0\u001b[39m]: i[\u001b[38;5;241m0\u001b[39m][\u001b[38;5;241m1\u001b[39m], i[\u001b[38;5;241m1\u001b[39m][\u001b[38;5;241m0\u001b[39m]: i[\u001b[38;5;241m1\u001b[39m][\u001b[38;5;241m1\u001b[39m]] \u001b[38;5;241m=\u001b[39m rr\n\u001b[0;32m     67\u001b[0m \u001b[38;5;28;01mif\u001b[39;00m \u001b[38;5;129;01mnot\u001b[39;00m up:\n",
      "\u001b[1;31mTypeError\u001b[0m: 'NoneType' object is not subscriptable"
     ]
    }
   ],
   "source": [
    "import cv2\n",
    "import numpy as np\n",
    "def draw_rectangle(event,x,y,flags,param):\n",
    "\n",
    "    global drawing, pt1, pt2, up\n",
    "\n",
    "    if event == cv2.EVENT_LBUTTONDOWN:\n",
    "        pt1 = (x, y)\n",
    "        pt2 = pt1\n",
    "\n",
    "        drawing = True\n",
    "        up = True\n",
    "    elif event == cv2.EVENT_MOUSEMOVE:\n",
    "        if drawing == True:\n",
    "            pt2 = (x, y)\n",
    "    # Use boolean variable to track if the mouse has been released\n",
    "    if event == cv2.EVENT_LBUTTONUP:\n",
    "        drawing = False\n",
    "        up = False\n",
    "        \n",
    "\n",
    "kernel = np.array([[0, -1, 0],\n",
    "                   [-1, 5, -1],\n",
    "                   [0, -1, 0]])\n",
    "fourcc = cv2.VideoWriter_fourcc(*'XVID')\n",
    "out = cv2.VideoWriter('3.avi', fourcc, 20.0, (640,  480))\n",
    "# Haven't drawn anything yet!\n",
    "pt1 = (0,0)\n",
    "pt2 = (-1,-1)\n",
    "drawing = False\n",
    "up = True\n",
    "# Capture Video\n",
    "cap = cv2.VideoCapture(0) \n",
    "width = int(cap.get(cv2.CAP_PROP_FRAME_WIDTH))\n",
    "height = int(cap.get(cv2.CAP_PROP_FRAME_HEIGHT))\n",
    "# Create a named window for connections\n",
    "cv2.namedWindow('Test')\n",
    "\n",
    "# Bind draw_rectangle function to mouse cliks\n",
    "cv2.setMouseCallback('Test', draw_rectangle) \n",
    "filters = []\n",
    "last = []\n",
    "while True:\n",
    "    # Capture frame-by-frame\n",
    "    ret, frame = cap.read()\n",
    "    if drawing:\n",
    "        if pt2[0] >= 0 and pt2[0] < width and pt2[1] >= 0 and pt2[1] < height:\n",
    "            if pt2[1] < pt1[1] and pt2[0] > pt1[0]: # y2 < y1, x2 > x1\n",
    "                roi_blur = cv2.GaussianBlur(frame[pt2[1]:pt1[1], pt1[0]:pt2[0]], (43, 43), 0)\n",
    "                i_x, x, i_y, y = pt1[0], pt2[0], pt2[1], pt1[1]\n",
    "            if pt2[1] < pt1[1] and pt2[0] < pt1[0]:#y2 < y1, x2 < x1\n",
    "                roi_blur = cv2.GaussianBlur(frame[pt2[1]:pt1[1], pt2[0]:pt1[0]], (43, 43), 0)\n",
    "                i_x, x, i_y, y = pt2[0], pt1[0], pt2[1], pt1[1]\n",
    "            if pt2[1] > pt1[1] and pt2[0] < pt1[0]:#y2 > y1, x2 < x1\n",
    "                roi_blur = cv2.GaussianBlur(frame[pt1[1]:pt2[1], pt2[0]:pt1[0]], (43, 43), 0)\n",
    "                i_x, x, i_y, y = pt2[0], pt1[0], pt1[1], pt2[1]\n",
    "\n",
    "            if pt2[1] >= pt1[1] and pt2[0] >= pt1[0]:# y2 > y1, x2 > x1\n",
    "                i_x, x, i_y, y = pt1[0], pt2[0] + 1, pt1[1], pt2[1] + 1\n",
    "\n",
    "                # print(i_x, x, i_y, y)\n",
    "                roi_blur = cv2.GaussianBlur(frame[i_y:y, i_x:x], (43, 43), 0)\n",
    "        frame[i_y:y, i_x:x] = roi_blur\n",
    "    for i in filters:\n",
    "        rr = cv2.GaussianBlur(frame[i[0][0]: i[0][1], i[1][0]: i[1][1]], (43, 43), 0)\n",
    "        frame[i[0][0]: i[0][1], i[1][0]: i[1][1]] = rr\n",
    "    if not up:\n",
    "        filters.append([(i_y, y), (i_x, x),roi_blur])\n",
    "        up = True\n",
    "    out.write(frame)\n",
    "    cv2.imshow('Test', frame)\n",
    "\n",
    "    # This command let's us quit with the \"q\" button on a keyboard.\n",
    "    # Simply pressing X on the window won't work!\n",
    "    if cv2.waitKey(1) & 0xFF == ord('q'):\n",
    "        break\n",
    "    if cv2.waitKey(1) & 0xFF == ord('d'):\n",
    "        filters.clear()\n",
    "\n",
    "# When everything is done, release the capture\n",
    "out.release()\n",
    "cap.release()\n",
    "cv2.destroyAllWindows()"
   ]
  },
  {
   "cell_type": "code",
   "execution_count": null,
   "metadata": {},
   "outputs": [],
   "source": []
  }
 ],
 "metadata": {
  "kernelspec": {
   "display_name": "Python 3 (ipykernel)",
   "language": "python",
   "name": "python3"
  },
  "language_info": {
   "codemirror_mode": {
    "name": "ipython",
    "version": 3
   },
   "file_extension": ".py",
   "mimetype": "text/x-python",
   "name": "python",
   "nbconvert_exporter": "python",
   "pygments_lexer": "ipython3",
   "version": "3.9.16"
  }
 },
 "nbformat": 4,
 "nbformat_minor": 4
}
